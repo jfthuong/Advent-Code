{
 "cells": [
  {
   "cell_type": "code",
   "execution_count": 3,
   "metadata": {},
   "outputs": [],
   "source": [
    "from pathlib import Path\n",
    "from typing import List\n",
    "\n",
    "import pandas as pd\n",
    "import numpy as np\n",
    "\n",
    "YEAR = 2022\n"
   ]
  },
  {
   "cell_type": "markdown",
   "metadata": {},
   "source": [
    "A line magic that can help to download the data and store it in variables\n",
    "`input_path` and `data` to use directly in the code after:\n",
    "\n",
    "It will use:\n",
    "* if no argument: current day and year\n",
    "* one argument: the day set as argument + current year\n",
    "* two arguments: the day and the year\n",
    "\n",
    "```python\n",
    "%get_daily_input 2\n",
    "data[:100]\n",
    "```"
   ]
  },
  {
   "cell_type": "code",
   "execution_count": 153,
   "metadata": {},
   "outputs": [
    {
     "name": "stderr",
     "output_type": "stream",
     "text": [
      "WARNING: You are using pip version 21.2.4; however, version 22.3.1 is available.\n",
      "You should consider upgrading via the 'C:\\AnsysDev\\Python39\\python.exe -m pip install --upgrade pip' command.\n"
     ]
    }
   ],
   "source": [
    "!pip install -q advent-of-code-data"
   ]
  },
  {
   "cell_type": "code",
   "execution_count": 155,
   "metadata": {},
   "outputs": [],
   "source": [
    "from pathlib import Path\n",
    "from typing import cast\n",
    "from datetime import datetime\n",
    "\n",
    "from aocd import get_data\n",
    "\n",
    "from IPython import get_ipython  # type: ignore\n",
    "from IPython.core.interactiveshell import InteractiveShell  # type: ignore\n",
    "from IPython.core.magic import register_line_cell_magic  # type: ignore\n",
    "from IPython.display import HTML  # type: ignore\n",
    "\n",
    "\n",
    "@register_line_cell_magic\n",
    "def get_daily_input(line:str) -> None:\n",
    "    \"\"\"Retrieve the input for the current day and storing variables\n",
    "    * input_path: Path to the input file\n",
    "    * data: Content of the input file\n",
    "    \"\"\"\n",
    "    ipython = cast(InteractiveShell, get_ipython())\n",
    "\n",
    "    today = datetime.today()\n",
    "    current_year = today.year\n",
    "    current_day = today.day\n",
    "    if line:\n",
    "        args = [int(e) for e in line.split()] + [current_year]\n",
    "    else:\n",
    "        args = [current_day, current_year]\n",
    "    day, year = args[:2]\n",
    "\n",
    "    input_dir = Path(\"inputs\")\n",
    "    input_dir.mkdir(exist_ok=True)\n",
    "    input_path = input_dir / f\"{day:02d}.txt\"\n",
    "    input_path_html = f'<a href=\"{input_path.as_posix()}\">{input_path.as_posix()}</a>'\n",
    "\n",
    "    if not input_path.exists():\n",
    "        ipython.system(f\"aocd {day} {year} > {input_path}\")\n",
    "        ipython.run_cell(f\"HTML('✅Input saved to {input_path_html}')\")\n",
    "    else:\n",
    "        ipython.run_cell(f\"HTML('✔️Input already exists in {input_path_html}')\")\n",
    "\n",
    "    ipython.run_cell(f\"input_path = Path('{input_path.as_posix()}')\")\n",
    "    ipython.run_cell(f\"data = get_data(day={day}, year={year})\")\n",
    "    msg = \"✅Variables <code>input_path</code> and <code>data</code> set\"\n",
    "    ipython.run_cell(f\"HTML('{msg}')\")"
   ]
  },
  {
   "cell_type": "markdown",
   "metadata": {},
   "source": [
    "# 01 December 2022\n"
   ]
  },
  {
   "cell_type": "code",
   "execution_count": 156,
   "metadata": {},
   "outputs": [
    {
     "data": {
      "text/html": [
       "✔️Input already exists in <a href=\"inputs/01.txt\">inputs/01.txt</a>"
      ],
      "text/plain": [
       "<IPython.core.display.HTML object>"
      ]
     },
     "execution_count": 156,
     "metadata": {},
     "output_type": "execute_result"
    },
    {
     "data": {
      "text/html": [
       "✅Variables <code>input_path</code> and <code>data</code> set"
      ],
      "text/plain": [
       "<IPython.core.display.HTML object>"
      ]
     },
     "execution_count": 156,
     "metadata": {},
     "output_type": "execute_result"
    }
   ],
   "source": [
    "%get_daily_input 1 2022"
   ]
  },
  {
   "cell_type": "code",
   "execution_count": 157,
   "metadata": {},
   "outputs": [
    {
     "data": {
      "text/plain": [
       "0      55684\n",
       "1      43399\n",
       "2      48846\n",
       "3      48058\n",
       "4      52061\n",
       "       ...  \n",
       "245    22318\n",
       "246    48674\n",
       "247    43489\n",
       "248    47659\n",
       "249    50009\n",
       "Name: calories, Length: 250, dtype: int64"
      ]
     },
     "execution_count": 157,
     "metadata": {},
     "output_type": "execute_result"
    }
   ],
   "source": [
    "def get_calories(path: Path) -> List[int]:\n",
    "    \"\"\"Retrieve calories carried by each elf\"\"\"\n",
    "    content = Path(path).read_text(encoding=\"utf-8\")\n",
    "    return [\n",
    "        sum(int(line) for line in block.strip().split(\"\\n\"))\n",
    "        for block in content.split(\"\\n\\n\")\n",
    "    ]\n",
    "\n",
    "calories = pd.Series(get_calories(input_path), name=\"calories\")\n",
    "calories\n"
   ]
  },
  {
   "cell_type": "code",
   "execution_count": 111,
   "metadata": {},
   "outputs": [
    {
     "data": {
      "text/plain": [
       "69693"
      ]
     },
     "execution_count": 111,
     "metadata": {},
     "output_type": "execute_result"
    }
   ],
   "source": [
    "# Get the top calories\n",
    "calories.max()\n"
   ]
  },
  {
   "cell_type": "code",
   "execution_count": 12,
   "metadata": {},
   "outputs": [
    {
     "data": {
      "text/plain": [
       "200945"
      ]
     },
     "execution_count": 12,
     "metadata": {},
     "output_type": "execute_result"
    }
   ],
   "source": [
    "# Get the sum of calories from top 3\n",
    "calories.sort_values(ascending=False).head(3).sum()\n"
   ]
  },
  {
   "cell_type": "markdown",
   "metadata": {},
   "source": [
    "# 02 December 2022\n"
   ]
  },
  {
   "cell_type": "code",
   "execution_count": 160,
   "metadata": {},
   "outputs": [
    {
     "data": {
      "text/html": [
       "✔️Input already exists in <a href=\"inputs/02.txt\">inputs/02.txt</a>"
      ],
      "text/plain": [
       "<IPython.core.display.HTML object>"
      ]
     },
     "execution_count": 160,
     "metadata": {},
     "output_type": "execute_result"
    },
    {
     "data": {
      "text/html": [
       "✅Variables <code>input_path</code> and <code>data</code> set"
      ],
      "text/plain": [
       "<IPython.core.display.HTML object>"
      ]
     },
     "execution_count": 160,
     "metadata": {},
     "output_type": "execute_result"
    },
    {
     "data": {
      "text/plain": [
       "'A Z\\nA Y\\nB X\\nB X\\nC X\\nB X\\nA X\\nA X\\nC X\\nA X\\nA X\\nA Y\\nB X\\nA Y\\nC X\\nC X\\nA X\\nA Y\\nC X\\nB X\\nA X\\nB X\\nA X\\nA X\\nB Y\\n'"
      ]
     },
     "execution_count": 160,
     "metadata": {},
     "output_type": "execute_result"
    }
   ],
   "source": [
    "%get_daily_input 2\n",
    "data[:100]"
   ]
  },
  {
   "cell_type": "code",
   "execution_count": 176,
   "metadata": {},
   "outputs": [],
   "source": [
    "import enum\n",
    "\n",
    "\n",
    "class Gesture(enum.IntEnum):\n",
    "    ROCK = 0\n",
    "    PAPER = 1\n",
    "    SCISSORS = 2\n",
    "\n",
    "GESTURES = list(Gesture)"
   ]
  },
  {
   "cell_type": "code",
   "execution_count": 177,
   "metadata": {},
   "outputs": [
    {
     "data": {
      "text/plain": [
       "(8, 1, 6)"
      ]
     },
     "execution_count": 177,
     "metadata": {},
     "output_type": "execute_result"
    }
   ],
   "source": [
    "from typing import Literal\n",
    "\n",
    "ABC = Literal[\"A\", \"B\", \"C\"]\n",
    "XYZ = Literal[\"X\", \"Y\", \"Z\"]\n",
    "\n",
    "\n",
    "def get_points(other_letter: ABC, my_letter: XYZ) -> int:\n",
    "    \"\"\"Get the points for a given combination of letters\"\"\"\n",
    "    # We will use the values of the enum\n",
    "    other = GESTURES[\"ABC\".index(other_letter)]\n",
    "    me = GESTURES[\"XYZ\".index(my_letter)]\n",
    "\n",
    "    points_choice = me.value + 1\n",
    "    if other == me:\n",
    "        return 3 + points_choice\n",
    "\n",
    "    if me.value == (other.value + 1) % 3:\n",
    "        return 6 + points_choice\n",
    "\n",
    "    return points_choice\n",
    "\n",
    "\n",
    "get_points(\"A\", \"Y\"), get_points(\"B\", \"X\"), get_points(\"C\", \"Z\")\n"
   ]
  },
  {
   "cell_type": "code",
   "execution_count": 178,
   "metadata": {},
   "outputs": [],
   "source": [
    "mini_data = \"\"\"\n",
    "A Y\n",
    "B X\n",
    "C Z\n",
    "\"\"\""
   ]
  },
  {
   "cell_type": "code",
   "execution_count": 179,
   "metadata": {},
   "outputs": [
    {
     "data": {
      "text/plain": [
       "(15, 11150)"
      ]
     },
     "execution_count": 179,
     "metadata": {},
     "output_type": "execute_result"
    }
   ],
   "source": [
    "import re\n",
    "\n",
    "\n",
    "def get_points_from_list(data: str, fn=get_points) -> int:\n",
    "    \"\"\"Get the points from the data\"\"\"\n",
    "    return sum(\n",
    "        fn(other, my) for other, my in re.findall(r\"([ABC]) ([XYZ])\", data)\n",
    "    )\n",
    "\n",
    "\n",
    "(get_points_from_list(mini_data), get_points_from_list(data))\n"
   ]
  },
  {
   "cell_type": "code",
   "execution_count": 181,
   "metadata": {},
   "outputs": [
    {
     "data": {
      "text/plain": [
       "8295"
      ]
     },
     "execution_count": 181,
     "metadata": {},
     "output_type": "execute_result"
    }
   ],
   "source": [
    "def get_points_2(other_letter: ABC, my_letter: XYZ) -> int:\n",
    "    \"\"\"Get the points for a given combination of letters (2nd scenario)\"\"\"\n",
    "    other = GESTURES[\"ABC\".index(other_letter)]\n",
    "\n",
    "    # X means you loose, Y means you draw, Z means you win\n",
    "    offset = \"XYZ\".index(my_letter) - 1\n",
    "    me = GESTURES[(other.value + offset) % 3]\n",
    "\n",
    "    points_choice = me.value + 1\n",
    "    if other == me:\n",
    "        return 3 + points_choice\n",
    "\n",
    "    if me.value == (other.value + 1) % 3:\n",
    "        return 6 + points_choice\n",
    "\n",
    "    return points_choice\n",
    "\n",
    "\n",
    "assert get_points_from_list(mini_data, fn=get_points_2) == 6 + 3 + 3\n",
    "get_points_from_list(data, fn=get_points_2)"
   ]
  },
  {
   "cell_type": "markdown",
   "metadata": {},
   "source": [
    "# Day 3"
   ]
  },
  {
   "cell_type": "code",
   "execution_count": 139,
   "metadata": {},
   "outputs": [
    {
     "data": {
      "text/html": [
       "✔️Input already exists in <a href=\"inputs/03.txt\">inputs/03.txt</a>"
      ],
      "text/plain": [
       "<IPython.core.display.HTML object>"
      ]
     },
     "execution_count": 139,
     "metadata": {},
     "output_type": "execute_result"
    },
    {
     "data": {
      "text/html": [
       "✅Variables <code>input_path</code> and <code>data</code> set"
      ],
      "text/plain": [
       "<IPython.core.display.HTML object>"
      ]
     },
     "execution_count": 139,
     "metadata": {},
     "output_type": "execute_result"
    },
    {
     "data": {
      "text/plain": [
       "'BdbzzddChsWrRFbzBrszbhWMLNJHLLLLHZtSLglFNZHLJH\\nnnfMwqpQTMffHlNNLllHnZSS\\ncGpcMwfppfqcjcTCBBzWDsDbDrjz'"
      ]
     },
     "execution_count": 139,
     "metadata": {},
     "output_type": "execute_result"
    }
   ],
   "source": [
    "%get_daily_input 3\n",
    "data[:100]"
   ]
  },
  {
   "cell_type": "code",
   "execution_count": 142,
   "metadata": {},
   "outputs": [],
   "source": [
    "MINI_DATA = \"\"\"\\\n",
    "vJrwpWtwJgWrhcsFMMfFFhFp\n",
    "jqHRNqRjqzjGDLGLrsFMfFZSrLrFZsSL\n",
    "PmmdzqPrVvPwwTWBwg\n",
    "wMqvLMZHhHMvwLHjbvcjnnSBnvTQFn\n",
    "ttgJtRGJQctTZtZT\n",
    "CrZsJsPPZsGzwwsLwLmpwMDw\n",
    "\"\"\""
   ]
  },
  {
   "cell_type": "code",
   "execution_count": 150,
   "metadata": {},
   "outputs": [
    {
     "data": {
      "text/plain": [
       "(16, 38)"
      ]
     },
     "execution_count": 150,
     "metadata": {},
     "output_type": "execute_result"
    }
   ],
   "source": [
    "from string import ascii_lowercase, ascii_uppercase\n",
    "\n",
    "def get_line_priority(line: str) -> int:\n",
    "    \"\"\"Get the priority of each rucksack line\"\"\"\n",
    "    half_length = len(line) // 2\n",
    "    left, right = line[:half_length], line[half_length:]\n",
    "    common_letter = set(left).intersection(set(right)).pop()\n",
    "    # Find the priority of the common letter\n",
    "    letters = ascii_lowercase + ascii_uppercase\n",
    "    return letters.index(common_letter) + 1\n",
    "\n",
    "get_line_priority(\"vJrwpWtwJgWrhcsFMMfFFhFp\"), get_line_priority(\"jqHRNqRjqzjGDLGLrsFMfFZSrLrFZsSL\")"
   ]
  },
  {
   "cell_type": "code",
   "execution_count": 151,
   "metadata": {},
   "outputs": [
    {
     "data": {
      "text/plain": [
       "7889"
      ]
     },
     "execution_count": 151,
     "metadata": {},
     "output_type": "execute_result"
    }
   ],
   "source": [
    "sum(get_line_priority(line) for line in data.splitlines())"
   ]
  },
  {
   "cell_type": "code",
   "execution_count": 148,
   "metadata": {},
   "outputs": [
    {
     "data": {
      "text/plain": [
       "70"
      ]
     },
     "execution_count": 148,
     "metadata": {},
     "output_type": "execute_result"
    }
   ],
   "source": [
    "from typing import Generator\n",
    "\n",
    "\n",
    "def get_badge_priority(txt: str) -> Generator[int, None, None]:\n",
    "    \"\"\"Get the priorities of the badges, by group of 3\"\"\"\n",
    "    lines = txt.splitlines()\n",
    "    for i in range(0, len(lines), 3):\n",
    "        common_letters = (\n",
    "            set(lines[i])\n",
    "            .intersection(set(lines[i + 1]))\n",
    "            .intersection(set(lines[i + 2]))\n",
    "        )\n",
    "        letters = ascii_lowercase + ascii_uppercase\n",
    "        yield min(letters.index(letter) + 1 for letter in common_letters)\n",
    "\n",
    "\n",
    "sum(get_badge_priority(MINI_DATA))\n"
   ]
  },
  {
   "cell_type": "code",
   "execution_count": 149,
   "metadata": {},
   "outputs": [
    {
     "data": {
      "text/plain": [
       "2825"
      ]
     },
     "execution_count": 149,
     "metadata": {},
     "output_type": "execute_result"
    }
   ],
   "source": [
    "sum(get_badge_priority(data))"
   ]
  },
  {
   "cell_type": "markdown",
   "metadata": {},
   "source": [
    "# Day 4"
   ]
  },
  {
   "cell_type": "code",
   "execution_count": 128,
   "metadata": {},
   "outputs": [
    {
     "data": {
      "text/html": [
       "✅Input saved to <a href=\"inputs/04.txt\">inputs/04.txt</a>"
      ],
      "text/plain": [
       "<IPython.core.display.HTML object>"
      ]
     },
     "execution_count": 128,
     "metadata": {},
     "output_type": "execute_result"
    },
    {
     "data": {
      "text/html": [
       "✅Variables <code>input_path</code> and <code>data</code> set"
      ],
      "text/plain": [
       "<IPython.core.display.HTML object>"
      ]
     },
     "execution_count": 128,
     "metadata": {},
     "output_type": "execute_result"
    },
    {
     "data": {
      "text/plain": [
       "'91-93,6-92\\n85-97,18-63\\n15-99,16-98\\n35-49,34-50\\n4-7,6-93\\n57-86,57-58\\n1-82,83-90\\n21-88,20-89\\n83-84,1-8'"
      ]
     },
     "execution_count": 128,
     "metadata": {},
     "output_type": "execute_result"
    }
   ],
   "source": [
    "%get_daily_input 4\n",
    "data[:100]"
   ]
  },
  {
   "cell_type": "code",
   "execution_count": 129,
   "metadata": {},
   "outputs": [],
   "source": [
    "MINI_DATA = \"\"\"\\\n",
    "2-4,6-8\n",
    "2-3,4-5\n",
    "5-7,7-9\n",
    "2-8,3-7\n",
    "6-6,4-6\n",
    "2-6,4-8\"\"\""
   ]
  },
  {
   "cell_type": "code",
   "execution_count": 131,
   "metadata": {},
   "outputs": [
    {
     "data": {
      "text/plain": [
       "(True, False)"
      ]
     },
     "execution_count": 131,
     "metadata": {},
     "output_type": "execute_result"
    }
   ],
   "source": [
    "def is_fully_contained(line:str) -> bool:\n",
    "    \"\"\"Check if the line is fully contained in another line\"\"\"\n",
    "    left, right = line.split(\",\")\n",
    "    left_min, left_max = [int(e) for e in left.split(\"-\")]\n",
    "    right_min, right_max = [int(e) for e in right.split(\"-\")]\n",
    "    return (left_min <= right_min and left_max >= right_max) or (right_min <= left_min and right_max >= left_max)\n",
    "\n",
    "is_fully_contained(\"6-6,4-6\"), is_fully_contained(\"2-6,4-8\")"
   ]
  },
  {
   "cell_type": "code",
   "execution_count": 132,
   "metadata": {},
   "outputs": [
    {
     "data": {
      "text/plain": [
       "2"
      ]
     },
     "execution_count": 132,
     "metadata": {},
     "output_type": "execute_result"
    }
   ],
   "source": [
    "sum(is_fully_contained(line) for line in MINI_DATA.splitlines())"
   ]
  },
  {
   "cell_type": "code",
   "execution_count": 133,
   "metadata": {},
   "outputs": [
    {
     "data": {
      "text/plain": [
       "456"
      ]
     },
     "execution_count": 133,
     "metadata": {},
     "output_type": "execute_result"
    }
   ],
   "source": [
    "sum(is_fully_contained(line) for line in data.splitlines())"
   ]
  },
  {
   "cell_type": "code",
   "execution_count": 135,
   "metadata": {},
   "outputs": [
    {
     "data": {
      "text/plain": [
       "(True, True, True, False)"
      ]
     },
     "execution_count": 135,
     "metadata": {},
     "output_type": "execute_result"
    }
   ],
   "source": [
    "def is_overlap(line:str) -> bool:\n",
    "    \"\"\"Check if the line contains overlap\"\"\"\n",
    "    left, right = line.split(\",\")\n",
    "    left_min, left_max = [int(e) for e in left.split(\"-\")]\n",
    "    right_min, right_max = [int(e) for e in right.split(\"-\")]\n",
    "    left_range = set(range(left_min, left_max + 1))\n",
    "    right_range = set(range(right_min, right_max + 1))\n",
    "    return bool(left_range.intersection(right_range))\n",
    "\n",
    "is_overlap(\"6-6,4-6\"), is_overlap(\"2-6,4-8\"), is_overlap(\"4-8,2-6\"), is_overlap(\"2-4,6-8\")"
   ]
  },
  {
   "cell_type": "code",
   "execution_count": 136,
   "metadata": {},
   "outputs": [
    {
     "data": {
      "text/plain": [
       "808"
      ]
     },
     "execution_count": 136,
     "metadata": {},
     "output_type": "execute_result"
    }
   ],
   "source": [
    "sum(is_overlap(line) for line in data.splitlines())"
   ]
  }
 ],
 "metadata": {
  "kernelspec": {
   "display_name": "Python 3.9.10 64-bit",
   "language": "python",
   "name": "python3"
  },
  "language_info": {
   "codemirror_mode": {
    "name": "ipython",
    "version": 3
   },
   "file_extension": ".py",
   "mimetype": "text/x-python",
   "name": "python",
   "nbconvert_exporter": "python",
   "pygments_lexer": "ipython3",
   "version": "3.9.10"
  },
  "orig_nbformat": 4,
  "vscode": {
   "interpreter": {
    "hash": "cc50109f6b80f0817f7b35d70f1321bb82b640343c195979c98642224585c472"
   }
  }
 },
 "nbformat": 4,
 "nbformat_minor": 2
}
