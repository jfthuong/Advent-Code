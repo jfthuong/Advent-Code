{
 "cells": [
  {
   "cell_type": "code",
   "execution_count": 1,
   "metadata": {},
   "outputs": [],
   "source": [
    "# Auto-reload\n",
    "%load_ext autoreload\n",
    "%autoreload 2"
   ]
  },
  {
   "cell_type": "code",
   "execution_count": 2,
   "metadata": {},
   "outputs": [],
   "source": [
    "import re\n",
    "from collections import defaultdict\n",
    "from dataclasses import dataclass, field\n",
    "from pathlib import Path\n",
    "from typing import Callable, Generator, Optional\n",
    "\n",
    "import pandas as pd\n",
    "import numpy as np\n",
    "import numpy.typing as npt\n",
    "import matplotlib.pyplot as plt\n",
    "from aocd import submit\n",
    "\n",
    "from tools import (\n",
    "    get_daily_input,\n",
    "    split_data,\n",
    "    split_data_2_df,\n",
    "    Grid,\n",
    "    GridWithNetwork,\n",
    "    get_palette,\n",
    "    pairwise,\n",
    "    show_palette,\n",
    "    get_color_from_pct,\n",
    "    Point,\n",
    ")\n",
    "\n",
    "YEAR = 2024"
   ]
  },
  {
   "cell_type": "markdown",
   "metadata": {},
   "source": [
    "# Day 1\n"
   ]
  },
  {
   "cell_type": "code",
   "execution_count": 3,
   "metadata": {},
   "outputs": [
    {
     "data": {
      "text/html": [
       "✔️Input already exists in <a href=\"inputs/01.txt\">inputs/01.txt</a>"
      ],
      "text/plain": [
       "<IPython.core.display.HTML object>"
      ]
     },
     "execution_count": 3,
     "metadata": {},
     "output_type": "execute_result"
    },
    {
     "data": {
      "text/html": [
       "✅Variables <code>input_path</code> and <code>data</code> set"
      ],
      "text/plain": [
       "<IPython.core.display.HTML object>"
      ]
     },
     "execution_count": 3,
     "metadata": {},
     "output_type": "execute_result"
    }
   ],
   "source": [
    "%get_daily_input 1 2024"
   ]
  },
  {
   "cell_type": "code",
   "execution_count": 6,
   "metadata": {},
   "outputs": [
    {
     "data": {
      "text/plain": [
       "11"
      ]
     },
     "execution_count": 6,
     "metadata": {},
     "output_type": "execute_result"
    }
   ],
   "source": [
    "def solve_day1_a(data_input: str) -> int:\n",
    "    df = split_data_2_df(data_input, as_int=True)\n",
    "    return (\n",
    "        (df[0].sort_values(ignore_index=True) - df[1].sort_values(ignore_index=True))\n",
    "        .abs()\n",
    "        .sum()\n",
    "    )\n",
    "\n",
    "\n",
    "EXAMPLE = \"\"\"\n",
    "3   4\n",
    "4   3\n",
    "2   5\n",
    "1   3\n",
    "3   9\n",
    "3   3\n",
    "\"\"\"\n",
    "\n",
    "solve_day1_a(EXAMPLE)"
   ]
  },
  {
   "cell_type": "code",
   "execution_count": 62,
   "metadata": {},
   "outputs": [
    {
     "data": {
      "text/plain": [
       "1189304"
      ]
     },
     "execution_count": 62,
     "metadata": {},
     "output_type": "execute_result"
    }
   ],
   "source": [
    "solution = solve_day1_a(data)\n",
    "solution"
   ]
  },
  {
   "cell_type": "code",
   "execution_count": null,
   "metadata": {},
   "outputs": [
    {
     "name": "stderr",
     "output_type": "stream",
     "text": [
      "coerced int64 value 1189304 for 2024/01 to '1189304'\n"
     ]
    },
    {
     "name": "stdout",
     "output_type": "stream",
     "text": [
      "\u001b[32mThat's the right answer!  You are one gold star closer to finding the Chief Historian. [Continue to Part Two]\u001b[0m\n"
     ]
    },
    {
     "data": {
      "text/plain": [
       "<urllib3.response.HTTPResponse at 0x1de7a478940>"
      ]
     },
     "execution_count": 63,
     "metadata": {},
     "output_type": "execute_result"
    }
   ],
   "source": [
    "# submit(solution, part=\"a\", day=1, year=YEAR)"
   ]
  },
  {
   "cell_type": "code",
   "execution_count": 64,
   "metadata": {},
   "outputs": [],
   "source": [
    "# list_1, list_2 = split_data_tuple_lists(data, tuple_separator=r\" +\", safe_eval=True)\n",
    "# list_1"
   ]
  },
  {
   "cell_type": "markdown",
   "metadata": {},
   "source": [
    "## D1 Part B"
   ]
  },
  {
   "cell_type": "code",
   "execution_count": 65,
   "metadata": {},
   "outputs": [
    {
     "data": {
      "text/html": [
       "<div>\n",
       "<style scoped>\n",
       "    .dataframe tbody tr th:only-of-type {\n",
       "        vertical-align: middle;\n",
       "    }\n",
       "\n",
       "    .dataframe tbody tr th {\n",
       "        vertical-align: top;\n",
       "    }\n",
       "\n",
       "    .dataframe thead th {\n",
       "        text-align: right;\n",
       "    }\n",
       "</style>\n",
       "<table border=\"1\" class=\"dataframe\">\n",
       "  <thead>\n",
       "    <tr style=\"text-align: right;\">\n",
       "      <th></th>\n",
       "      <th>0</th>\n",
       "      <th>1</th>\n",
       "    </tr>\n",
       "  </thead>\n",
       "  <tbody>\n",
       "    <tr>\n",
       "      <th>0</th>\n",
       "      <td>3</td>\n",
       "      <td>4</td>\n",
       "    </tr>\n",
       "    <tr>\n",
       "      <th>1</th>\n",
       "      <td>4</td>\n",
       "      <td>3</td>\n",
       "    </tr>\n",
       "    <tr>\n",
       "      <th>2</th>\n",
       "      <td>2</td>\n",
       "      <td>5</td>\n",
       "    </tr>\n",
       "    <tr>\n",
       "      <th>3</th>\n",
       "      <td>1</td>\n",
       "      <td>3</td>\n",
       "    </tr>\n",
       "    <tr>\n",
       "      <th>4</th>\n",
       "      <td>3</td>\n",
       "      <td>9</td>\n",
       "    </tr>\n",
       "    <tr>\n",
       "      <th>5</th>\n",
       "      <td>3</td>\n",
       "      <td>3</td>\n",
       "    </tr>\n",
       "  </tbody>\n",
       "</table>\n",
       "</div>"
      ],
      "text/plain": [
       "   0  1\n",
       "0  3  4\n",
       "1  4  3\n",
       "2  2  5\n",
       "3  1  3\n",
       "4  3  9\n",
       "5  3  3"
      ]
     },
     "execution_count": 65,
     "metadata": {},
     "output_type": "execute_result"
    }
   ],
   "source": [
    "df = pd.DataFrame([b.split(\"   \") for b in split_data(EXAMPLE)]).astype(int)\n",
    "df"
   ]
  },
  {
   "cell_type": "code",
   "execution_count": 69,
   "metadata": {},
   "outputs": [
    {
     "data": {
      "text/plain": [
       "31"
      ]
     },
     "execution_count": 69,
     "metadata": {},
     "output_type": "execute_result"
    }
   ],
   "source": [
    "df.apply(lambda x: x[0] * (df[1] == x[0]).sum(), axis=1).sum()"
   ]
  },
  {
   "cell_type": "code",
   "execution_count": 7,
   "metadata": {},
   "outputs": [
    {
     "data": {
      "text/plain": [
       "24349736"
      ]
     },
     "execution_count": 7,
     "metadata": {},
     "output_type": "execute_result"
    }
   ],
   "source": [
    "def similarity_score(data_input: str) -> int:\n",
    "    \"\"\"Sum nb in left list by nb of occurrences in right list\"\"\"\n",
    "    df = split_data_2_df(data_input, as_int=True)\n",
    "    return df.apply(lambda x: x[0] * (df[1] == x[0]).sum(), axis=1).sum()\n",
    "\n",
    "solution = similarity_score(data)\n",
    "solution\n"
   ]
  },
  {
   "cell_type": "code",
   "execution_count": null,
   "metadata": {},
   "outputs": [
    {
     "name": "stderr",
     "output_type": "stream",
     "text": [
      "coerced int64 value 24349736 for 2024/01 to '24349736'\n"
     ]
    },
    {
     "name": "stdout",
     "output_type": "stream",
     "text": [
      "\u001b[32mThat's the right answer!  You are one gold star closer to finding the Chief Historian.You have completed Day 1! You can [Shareon\n",
      "  Bluesky\n",
      "Twitter\n",
      "Mastodon] this victory or [Return to Your Advent Calendar].\u001b[0m\n"
     ]
    },
    {
     "data": {
      "text/plain": [
       "<urllib3.response.HTTPResponse at 0x1de77d752d0>"
      ]
     },
     "execution_count": 71,
     "metadata": {},
     "output_type": "execute_result"
    }
   ],
   "source": [
    "# submit(solution, part=\"b\", day=1, year=YEAR)"
   ]
  },
  {
   "cell_type": "markdown",
   "metadata": {},
   "source": [
    "# Day 2\n"
   ]
  },
  {
   "cell_type": "code",
   "execution_count": 38,
   "metadata": {},
   "outputs": [
    {
     "data": {
      "text/html": [
       "✔️Input already exists in <a href=\"inputs/02.txt\">inputs/02.txt</a>"
      ],
      "text/plain": [
       "<IPython.core.display.HTML object>"
      ]
     },
     "execution_count": 38,
     "metadata": {},
     "output_type": "execute_result"
    },
    {
     "data": {
      "text/html": [
       "✅Variables <code>input_path</code> and <code>data</code> set"
      ],
      "text/plain": [
       "<IPython.core.display.HTML object>"
      ]
     },
     "execution_count": 38,
     "metadata": {},
     "output_type": "execute_result"
    },
    {
     "data": {
      "text/plain": [
       "'42 44 47 49 51 52 54 52\\n24 27 30 31 32 35 36 36\\n80 82 85 86 87 90 94\\n4 5 7 10 13 14 20\\n38 41 40 42 4'"
      ]
     },
     "execution_count": 38,
     "metadata": {},
     "output_type": "execute_result"
    }
   ],
   "source": [
    "%get_daily_input 2 2024\n",
    "data[:100]"
   ]
  },
  {
   "cell_type": "code",
   "execution_count": 12,
   "metadata": {},
   "outputs": [],
   "source": [
    "EXAMPLE = \"\"\"\n",
    "7 6 4 2 1\n",
    "1 2 7 8 9\n",
    "9 7 6 2 1\n",
    "1 3 2 4 5\n",
    "8 6 4 4 1\n",
    "1 3 6 7 9\n",
    "\"\"\""
   ]
  },
  {
   "cell_type": "code",
   "execution_count": 13,
   "metadata": {},
   "outputs": [
    {
     "data": {
      "text/html": [
       "<div>\n",
       "<style scoped>\n",
       "    .dataframe tbody tr th:only-of-type {\n",
       "        vertical-align: middle;\n",
       "    }\n",
       "\n",
       "    .dataframe tbody tr th {\n",
       "        vertical-align: top;\n",
       "    }\n",
       "\n",
       "    .dataframe thead th {\n",
       "        text-align: right;\n",
       "    }\n",
       "</style>\n",
       "<table border=\"1\" class=\"dataframe\">\n",
       "  <thead>\n",
       "    <tr style=\"text-align: right;\">\n",
       "      <th></th>\n",
       "      <th>0</th>\n",
       "      <th>1</th>\n",
       "      <th>2</th>\n",
       "      <th>3</th>\n",
       "      <th>4</th>\n",
       "    </tr>\n",
       "  </thead>\n",
       "  <tbody>\n",
       "    <tr>\n",
       "      <th>0</th>\n",
       "      <td>7</td>\n",
       "      <td>6</td>\n",
       "      <td>4</td>\n",
       "      <td>2</td>\n",
       "      <td>1</td>\n",
       "    </tr>\n",
       "    <tr>\n",
       "      <th>1</th>\n",
       "      <td>1</td>\n",
       "      <td>2</td>\n",
       "      <td>7</td>\n",
       "      <td>8</td>\n",
       "      <td>9</td>\n",
       "    </tr>\n",
       "    <tr>\n",
       "      <th>2</th>\n",
       "      <td>9</td>\n",
       "      <td>7</td>\n",
       "      <td>6</td>\n",
       "      <td>2</td>\n",
       "      <td>1</td>\n",
       "    </tr>\n",
       "    <tr>\n",
       "      <th>3</th>\n",
       "      <td>1</td>\n",
       "      <td>3</td>\n",
       "      <td>2</td>\n",
       "      <td>4</td>\n",
       "      <td>5</td>\n",
       "    </tr>\n",
       "    <tr>\n",
       "      <th>4</th>\n",
       "      <td>8</td>\n",
       "      <td>6</td>\n",
       "      <td>4</td>\n",
       "      <td>4</td>\n",
       "      <td>1</td>\n",
       "    </tr>\n",
       "    <tr>\n",
       "      <th>5</th>\n",
       "      <td>1</td>\n",
       "      <td>3</td>\n",
       "      <td>6</td>\n",
       "      <td>7</td>\n",
       "      <td>9</td>\n",
       "    </tr>\n",
       "  </tbody>\n",
       "</table>\n",
       "</div>"
      ],
      "text/plain": [
       "   0  1  2  3  4\n",
       "0  7  6  4  2  1\n",
       "1  1  2  7  8  9\n",
       "2  9  7  6  2  1\n",
       "3  1  3  2  4  5\n",
       "4  8  6  4  4  1\n",
       "5  1  3  6  7  9"
      ]
     },
     "execution_count": 13,
     "metadata": {},
     "output_type": "execute_result"
    }
   ],
   "source": [
    "df = split_data_2_df(EXAMPLE, as_int=True)\n",
    "df"
   ]
  },
  {
   "cell_type": "code",
   "execution_count": 76,
   "metadata": {},
   "outputs": [
    {
     "data": {
      "text/plain": [
       "2"
      ]
     },
     "execution_count": 76,
     "metadata": {},
     "output_type": "execute_result"
    }
   ],
   "source": [
    "def is_safe(s: pd.Series) -> bool:\n",
    "    return (\n",
    "        (s.is_monotonic_increasing | s.is_monotonic_decreasing)\n",
    "        & (s != s.shift(1)).all()\n",
    "        & ((s - s.shift(1)).dropna().abs() <= 3).all()\n",
    "    )\n",
    "\n",
    "\n",
    "def solve_day2_a(data_input: str) -> int:\n",
    "    series = pd.Series(\n",
    "        [pd.Series(b.split(\" \")).astype(int) for b in split_data(data_input)]\n",
    "    )\n",
    "    return series.apply(is_safe).sum()\n",
    "\n",
    "\n",
    "solve_day2_a(EXAMPLE)"
   ]
  },
  {
   "cell_type": "code",
   "execution_count": 50,
   "metadata": {},
   "outputs": [
    {
     "data": {
      "text/plain": [
       "282"
      ]
     },
     "execution_count": 50,
     "metadata": {},
     "output_type": "execute_result"
    }
   ],
   "source": [
    "solution = solve_day2_a(data)\n",
    "solution"
   ]
  },
  {
   "cell_type": "code",
   "execution_count": null,
   "metadata": {},
   "outputs": [
    {
     "name": "stderr",
     "output_type": "stream",
     "text": [
      "coerced int64 value 282 for 2024/02 to '282'\n"
     ]
    },
    {
     "name": "stdout",
     "output_type": "stream",
     "text": [
      "\u001b[32mThat's the right answer!  You are one gold star closer to finding the Chief Historian. [Continue to Part Two]\u001b[0m\n"
     ]
    },
    {
     "data": {
      "text/plain": [
       "<urllib3.response.HTTPResponse at 0x24b88d6d120>"
      ]
     },
     "execution_count": 51,
     "metadata": {},
     "output_type": "execute_result"
    }
   ],
   "source": [
    "# submit(solution, part=\"a\", day=2, year=YEAR)"
   ]
  },
  {
   "cell_type": "markdown",
   "metadata": {},
   "source": [
    "## D2 Part B"
   ]
  },
  {
   "cell_type": "code",
   "execution_count": null,
   "metadata": {},
   "outputs": [
    {
     "data": {
      "text/plain": [
       "4"
      ]
     },
     "execution_count": 77,
     "metadata": {},
     "output_type": "execute_result"
    }
   ],
   "source": [
    "def is_safe_with_dampener(s: pd.Series) -> bool:\n",
    "    \"\"\"Is safe with a maximum of 1 value removed\"\"\"\n",
    "    series_is_safe = is_safe(s)\n",
    "    if not series_is_safe:\n",
    "        # We check if series can be safe by removing one value\n",
    "        return any(is_safe(s.copy().drop(i)) for i in range(len(s)))\n",
    "    return True\n",
    "\n",
    "\n",
    "def solve_day2_b(data_input: str) -> int:\n",
    "    series = pd.Series(\n",
    "        [pd.Series(b.split(\" \")).astype(int) for b in split_data(data_input)]\n",
    "    )\n",
    "    return series.apply(is_safe_with_dampener).sum()\n",
    "\n",
    "\n",
    "solve_day2_b(EXAMPLE)"
   ]
  },
  {
   "cell_type": "code",
   "execution_count": 79,
   "metadata": {},
   "outputs": [
    {
     "data": {
      "text/plain": [
       "349"
      ]
     },
     "execution_count": 79,
     "metadata": {},
     "output_type": "execute_result"
    }
   ],
   "source": [
    "solution = solve_day2_b(data)\n",
    "solution"
   ]
  },
  {
   "cell_type": "code",
   "execution_count": null,
   "metadata": {},
   "outputs": [
    {
     "name": "stderr",
     "output_type": "stream",
     "text": [
      "coerced int64 value 349 for 2024/02 to '349'\n"
     ]
    },
    {
     "name": "stdout",
     "output_type": "stream",
     "text": [
      "\u001b[32mThat's the right answer!  You are one gold star closer to finding the Chief Historian.You have completed Day 2! You can [Shareon\n",
      "  Bluesky\n",
      "Twitter\n",
      "Mastodon] this victory or [Return to Your Advent Calendar].\u001b[0m\n"
     ]
    },
    {
     "data": {
      "text/plain": [
       "<urllib3.response.HTTPResponse at 0x24b89af6e60>"
      ]
     },
     "execution_count": 80,
     "metadata": {},
     "output_type": "execute_result"
    }
   ],
   "source": [
    "# submit(solution, part=\"b\", day=2, year=YEAR)"
   ]
  },
  {
   "cell_type": "markdown",
   "metadata": {},
   "source": [
    "# Day 3"
   ]
  },
  {
   "cell_type": "code",
   "execution_count": 84,
   "metadata": {},
   "outputs": [
    {
     "data": {
      "text/html": [
       "✅Input saved to <a href=\"inputs/03.txt\">inputs/03.txt</a>"
      ],
      "text/plain": [
       "<IPython.core.display.HTML object>"
      ]
     },
     "execution_count": 84,
     "metadata": {},
     "output_type": "execute_result"
    },
    {
     "data": {
      "text/html": [
       "✅Variables <code>input_path</code> and <code>data</code> set"
      ],
      "text/plain": [
       "<IPython.core.display.HTML object>"
      ]
     },
     "execution_count": 84,
     "metadata": {},
     "output_type": "execute_result"
    },
    {
     "data": {
      "text/plain": [
       "\"-~who()?!-{ where()mul(764,406)?^why()%[how(420,460)mul(69,497)where();'&>-!when()<^mul(629,650)mul(\""
      ]
     },
     "execution_count": 84,
     "metadata": {},
     "output_type": "execute_result"
    }
   ],
   "source": [
    "%get_daily_input 3 2024\n",
    "data[:100]"
   ]
  },
  {
   "cell_type": "code",
   "execution_count": 85,
   "metadata": {},
   "outputs": [],
   "source": [
    "EXAMPLE = \"xmul(2,4)%&mul[3,7]!@^do_not_mul(5,5)+mul(32,64]then(mul(11,8)mul(8,5))\""
   ]
  },
  {
   "cell_type": "code",
   "execution_count": null,
   "metadata": {},
   "outputs": [
    {
     "data": {
      "text/plain": [
       "161"
      ]
     },
     "execution_count": 90,
     "metadata": {},
     "output_type": "execute_result"
    }
   ],
   "source": [
    "def solve_day3_a(data_input: str) -> int:\n",
    "    return sum(\n",
    "        int(d1) * int(d2) for d1, d2 in re.findall(r\"mul\\((\\d+),(\\d+)\\)\", data_input)\n",
    "    )\n",
    "\n",
    "solve_day3_a(EXAMPLE)"
   ]
  },
  {
   "cell_type": "code",
   "execution_count": 92,
   "metadata": {},
   "outputs": [
    {
     "data": {
      "text/plain": [
       "178886550"
      ]
     },
     "execution_count": 92,
     "metadata": {},
     "output_type": "execute_result"
    }
   ],
   "source": [
    "solution = solve_day3_a(data)\n",
    "solution"
   ]
  },
  {
   "cell_type": "code",
   "execution_count": 89,
   "metadata": {},
   "outputs": [
    {
     "name": "stdout",
     "output_type": "stream",
     "text": [
      "\u001b[32mThat's the right answer!  You are one gold star closer to finding the Chief Historian. [Continue to Part Two]\u001b[0m\n"
     ]
    },
    {
     "data": {
      "text/plain": [
       "<urllib3.response.HTTPResponse at 0x24b89d804f0>"
      ]
     },
     "execution_count": 89,
     "metadata": {},
     "output_type": "execute_result"
    }
   ],
   "source": [
    "submit(solution, part=\"a\", day=3, year=YEAR)"
   ]
  },
  {
   "cell_type": "markdown",
   "metadata": {},
   "source": [
    "## D3 Part B"
   ]
  },
  {
   "cell_type": "code",
   "execution_count": 96,
   "metadata": {},
   "outputs": [],
   "source": [
    "EXAMPLE = \"xmul(2,4)&mul[3,7]!^don't()_mul(5,5)+mul(32,64](mul(11,8)undo()?mul(8,5))\""
   ]
  },
  {
   "cell_type": "code",
   "execution_count": 144,
   "metadata": {},
   "outputs": [
    {
     "data": {
      "text/plain": [
       "0"
      ]
     },
     "execution_count": 144,
     "metadata": {},
     "output_type": "execute_result"
    }
   ],
   "source": [
    "def solve_day3_b(data_input: str) -> int:\n",
    "    return sum(\n",
    "        solve_day3_a(d)\n",
    "        for d in re.split(r\"don't\\(\\).*?do\\(\\)\", data_input, flags=re.S)\n",
    "    )\n",
    "\n",
    "solve_day3_b(EXAMPLE)"
   ]
  },
  {
   "cell_type": "code",
   "execution_count": 111,
   "metadata": {},
   "outputs": [
    {
     "data": {
      "text/plain": [
       "87163705"
      ]
     },
     "execution_count": 111,
     "metadata": {},
     "output_type": "execute_result"
    }
   ],
   "source": [
    "solution = solve_day3_b(data)\n",
    "solution"
   ]
  },
  {
   "cell_type": "code",
   "execution_count": null,
   "metadata": {},
   "outputs": [
    {
     "name": "stdout",
     "output_type": "stream",
     "text": [
      "\u001b[32mThat's the right answer!  You are one gold star closer to finding the Chief Historian.You have completed Day 3! You can [Shareon\n",
      "  Bluesky\n",
      "Twitter\n",
      "Mastodon] this victory or [Return to Your Advent Calendar].\u001b[0m\n"
     ]
    },
    {
     "data": {
      "text/plain": [
       "<urllib3.response.HTTPResponse at 0x24b89d4a2c0>"
      ]
     },
     "execution_count": 112,
     "metadata": {},
     "output_type": "execute_result"
    }
   ],
   "source": [
    "# submit(solution, part=\"b\", day=3, year=YEAR)"
   ]
  },
  {
   "cell_type": "markdown",
   "metadata": {},
   "source": [
    "# Day 4"
   ]
  },
  {
   "cell_type": "code",
   "execution_count": 113,
   "metadata": {},
   "outputs": [
    {
     "data": {
      "text/html": [
       "✅Input saved to <a href=\"inputs/04.txt\">inputs/04.txt</a>"
      ],
      "text/plain": [
       "<IPython.core.display.HTML object>"
      ]
     },
     "execution_count": 113,
     "metadata": {},
     "output_type": "execute_result"
    },
    {
     "data": {
      "text/html": [
       "✅Variables <code>input_path</code> and <code>data</code> set"
      ],
      "text/plain": [
       "<IPython.core.display.HTML object>"
      ]
     },
     "execution_count": 113,
     "metadata": {},
     "output_type": "execute_result"
    }
   ],
   "source": [
    "%get_daily_input 4 2024"
   ]
  },
  {
   "cell_type": "code",
   "execution_count": 145,
   "metadata": {},
   "outputs": [],
   "source": [
    "EXAMPLE=\"\"\"\n",
    "....XXMAS.\n",
    ".SAMXMS...\n",
    "...S..A...\n",
    "..A.A.MS.X\n",
    "XMASAMX.MM\n",
    "X.....XA.A\n",
    "S.S.S.S.SS\n",
    ".A.A.A.A.A\n",
    "..M.M.M.MM\n",
    ".X.X.XMASX\n",
    "\"\"\""
   ]
  },
  {
   "cell_type": "code",
   "execution_count": 146,
   "metadata": {},
   "outputs": [
    {
     "name": "stdout",
     "output_type": "stream",
     "text": [
      "18\n"
     ]
    },
    {
     "data": {
      "text/plain": [
       "[[Point(x=0, y=4), Point(x=1, y=5), Point(x=2, y=6), Point(x=3, y=7)],\n",
       " [Point(x=0, y=5), Point(x=0, y=6), Point(x=0, y=7), Point(x=0, y=8)],\n",
       " [Point(x=1, y=4), Point(x=1, y=3), Point(x=1, y=2), Point(x=1, y=1)],\n",
       " [Point(x=3, y=9), Point(x=4, y=8), Point(x=5, y=7), Point(x=6, y=6)],\n",
       " [Point(x=3, y=9), Point(x=4, y=9), Point(x=5, y=9), Point(x=6, y=9)],\n",
       " [Point(x=4, y=0), Point(x=4, y=1), Point(x=4, y=2), Point(x=4, y=3)],\n",
       " [Point(x=4, y=6), Point(x=3, y=6), Point(x=2, y=6), Point(x=1, y=6)],\n",
       " [Point(x=4, y=6), Point(x=4, y=5), Point(x=4, y=4), Point(x=4, y=3)],\n",
       " [Point(x=5, y=0), Point(x=4, y=1), Point(x=3, y=2), Point(x=2, y=3)],\n",
       " [Point(x=5, y=6), Point(x=4, y=5), Point(x=3, y=4), Point(x=2, y=3)],\n",
       " [Point(x=9, y=1), Point(x=8, y=2), Point(x=7, y=3), Point(x=6, y=4)],\n",
       " [Point(x=9, y=3), Point(x=8, y=4), Point(x=7, y=5), Point(x=6, y=6)],\n",
       " [Point(x=9, y=3), Point(x=8, y=2), Point(x=7, y=1), Point(x=6, y=0)],\n",
       " [Point(x=9, y=5), Point(x=8, y=6), Point(x=7, y=7), Point(x=6, y=8)],\n",
       " [Point(x=9, y=5), Point(x=8, y=4), Point(x=7, y=3), Point(x=6, y=2)],\n",
       " [Point(x=9, y=5), Point(x=9, y=6), Point(x=9, y=7), Point(x=9, y=8)],\n",
       " [Point(x=9, y=9), Point(x=8, y=8), Point(x=7, y=7), Point(x=6, y=6)],\n",
       " [Point(x=9, y=9), Point(x=8, y=9), Point(x=7, y=9), Point(x=6, y=9)]]"
      ]
     },
     "execution_count": 146,
     "metadata": {},
     "output_type": "execute_result"
    }
   ],
   "source": [
    "# We need to find all XMAS in the grid, horizontally, vertically and diagonally in all directions\n",
    "# We will use a sliding window of size 4\n",
    "# We will use a 2D convolution to find the XMAS pattern\n",
    "\n",
    "def solve_day4_a(data_input: str, pattern: str = \"XMAS\") -> list[list[Point]]:\n",
    "    grid = Grid(data_input)\n",
    "    return grid.find_pattern(pattern)\n",
    "\n",
    "sol_ = solve_day4_a(EXAMPLE)\n",
    "print(len(sol_))\n",
    "sol_"
   ]
  },
  {
   "cell_type": "code",
   "execution_count": 124,
   "metadata": {},
   "outputs": [
    {
     "data": {
      "text/plain": [
       "['X', 'M', 'A', 'S']"
      ]
     },
     "execution_count": 124,
     "metadata": {},
     "output_type": "execute_result"
    }
   ],
   "source": [
    "first_pattern = sol_[0]\n",
    "grid = Grid(EXAMPLE)\n",
    "[grid.data[i][j] for i, j in first_pattern]"
   ]
  },
  {
   "cell_type": "code",
   "execution_count": 126,
   "metadata": {},
   "outputs": [
    {
     "data": {
      "text/plain": [
       "2685"
      ]
     },
     "execution_count": 126,
     "metadata": {},
     "output_type": "execute_result"
    }
   ],
   "source": [
    "xmas_found = solve_day4_a(data)\n",
    "solution = len(xmas_found)\n",
    "solution"
   ]
  },
  {
   "cell_type": "code",
   "execution_count": 127,
   "metadata": {},
   "outputs": [
    {
     "name": "stdout",
     "output_type": "stream",
     "text": [
      "\u001b[32mThat's the right answer!  You are one gold star closer to finding the Chief Historian. [Continue to Part Two]\u001b[0m\n"
     ]
    },
    {
     "data": {
      "text/plain": [
       "<urllib3.response.HTTPResponse at 0x24b89dce0b0>"
      ]
     },
     "execution_count": 127,
     "metadata": {},
     "output_type": "execute_result"
    }
   ],
   "source": [
    "submit(solution, part=\"a\", day=4, year=YEAR)"
   ]
  },
  {
   "cell_type": "markdown",
   "metadata": {},
   "source": [
    "# D4 Part B"
   ]
  },
  {
   "cell_type": "code",
   "execution_count": 147,
   "metadata": {},
   "outputs": [
    {
     "data": {
      "text/plain": [
       "[['.' 'M' '.' 'S' '.' '.' '.' '.' '.' '.']\n",
       " ['.' '.' 'A' '.' '.' 'M' 'S' 'M' 'S' '.']\n",
       " ['.' 'M' '.' 'S' '.' 'M' 'A' 'A' '.' '.']\n",
       " ['.' '.' 'A' '.' 'A' 'S' 'M' 'S' 'M' '.']\n",
       " ['.' 'M' '.' 'S' '.' 'M' '.' '.' '.' '.']\n",
       " ['.' '.' '.' '.' '.' '.' '.' '.' '.' '.']\n",
       " ['S' '.' 'S' '.' 'S' '.' 'S' '.' 'S' '.']\n",
       " ['.' 'A' '.' 'A' '.' 'A' '.' 'A' '.' '.']\n",
       " ['M' '.' 'M' '.' 'M' '.' 'M' '.' 'M' '.']\n",
       " ['.' '.' '.' '.' '.' '.' '.' '.' '.' '.']]"
      ]
     },
     "execution_count": 147,
     "metadata": {},
     "output_type": "execute_result"
    }
   ],
   "source": [
    "# Finding all MAS crossing each other diagonally around a A\n",
    "EXAMPLE = \"\"\"\n",
    ".M.S......\n",
    "..A..MSMS.\n",
    ".M.S.MAA..\n",
    "..A.ASMSM.\n",
    ".M.S.M....\n",
    "..........\n",
    "S.S.S.S.S.\n",
    ".A.A.A.A..\n",
    "M.M.M.M.M.\n",
    "..........\n",
    "\"\"\"\n",
    "grid = Grid(EXAMPLE)\n",
    "grid"
   ]
  },
  {
   "cell_type": "code",
   "execution_count": 148,
   "metadata": {},
   "outputs": [
    {
     "data": {
      "text/plain": [
       "9"
      ]
     },
     "execution_count": 148,
     "metadata": {},
     "output_type": "execute_result"
    }
   ],
   "source": [
    "def solve_day4_b(data_input: str) -> int:\n",
    "    grid = Grid(data_input)\n",
    "    matches = grid.find_pattern(\"MAS\", horizontal=False, vertical=False, diagonal=True)\n",
    "    count_mas = defaultdict(list)\n",
    "    for m in matches:\n",
    "        count_mas[m[1]].append(m)\n",
    "    return sum(1 for c in count_mas.values() if len(c) > 1)\n",
    "\n",
    "solve_day4_b(EXAMPLE)"
   ]
  },
  {
   "cell_type": "code",
   "execution_count": 149,
   "metadata": {},
   "outputs": [
    {
     "data": {
      "text/plain": [
       "2048"
      ]
     },
     "execution_count": 149,
     "metadata": {},
     "output_type": "execute_result"
    }
   ],
   "source": [
    "solution = solve_day4_b(data)\n",
    "solution"
   ]
  },
  {
   "cell_type": "code",
   "execution_count": 150,
   "metadata": {},
   "outputs": [
    {
     "name": "stdout",
     "output_type": "stream",
     "text": [
      "\u001b[32mThat's the right answer!  You are one gold star closer to finding the Chief Historian.You have completed Day 4! You can [Shareon\n",
      "  Bluesky\n",
      "Twitter\n",
      "Mastodon] this victory or [Return to Your Advent Calendar].\u001b[0m\n"
     ]
    },
    {
     "data": {
      "text/plain": [
       "<urllib3.response.HTTPResponse at 0x24b89ce6ad0>"
      ]
     },
     "execution_count": 150,
     "metadata": {},
     "output_type": "execute_result"
    }
   ],
   "source": [
    "submit(solution, part=\"b\", day=4, year=YEAR)"
   ]
  },
  {
   "cell_type": "code",
   "execution_count": 151,
   "metadata": {},
   "outputs": [
    {
     "name": "stdout",
     "output_type": "stream",
     "text": [
      "XMAS appears 18 times.\n"
     ]
    }
   ],
   "source": [
    "from itertools import product\n",
    "from typing import List, Tuple\n",
    "\n",
    "class Point:\n",
    "    def __init__(self, x: int, y: int):\n",
    "        self.x = x\n",
    "        self.y = y\n",
    "\n",
    "class WordSearch:\n",
    "    def __init__(self, data: List[str]):\n",
    "        self.data = data\n",
    "        self.width = len(data[0])\n",
    "        self.height = len(data)\n",
    "\n",
    "    def find_pattern(self, pattern: str, diagonal: bool = True, horizontal: bool = True, vertical: bool = True) -> List[List[Point]]:\n",
    "        found = []\n",
    "        directions: List[Tuple[int, int]] = []\n",
    "        if diagonal:\n",
    "            directions.extend([(1, 1), (1, -1), (-1, 1), (-1, -1)])\n",
    "        if horizontal:\n",
    "            directions.extend([(1, 0), (-1, 0)])\n",
    "        if vertical:\n",
    "            directions.extend([(0, 1), (0, -1)])\n",
    "\n",
    "        for i, j in product(range(self.width), range(self.height)):\n",
    "            for dx, dy in directions:\n",
    "                found.append(self.find_pattern_direction(pattern, i, j, dx, dy))\n",
    "\n",
    "        return [f for f in found if f]\n",
    "\n",
    "    def find_pattern_direction(self, pattern: str, x: int, y: int, dx: int, dy: int) -> List[Point]:\n",
    "        pattern_len = len(pattern)\n",
    "        points = []\n",
    "        for k in range(pattern_len):\n",
    "            nx, ny = x + k * dx, y + k * dy\n",
    "            if 0 <= nx < self.width and 0 <= ny < self.height and self.data[ny][nx] == pattern[k]:\n",
    "                points.append(Point(nx, ny))\n",
    "            else:\n",
    "                return []\n",
    "        return points\n",
    "\n",
    "# Define the grid\n",
    "grid = [\n",
    "    \"MMMSXXMASM\",\n",
    "    \"MSAMXMSMSA\",\n",
    "    \"AMXSXMAAMM\",\n",
    "    \"MSAMASMSMX\",\n",
    "    \"XMASAMXAMM\",\n",
    "    \"XXAMMXXAMA\",\n",
    "    \"SMSMSASXSS\",\n",
    "    \"SAXAMASAAA\",\n",
    "    \"MAMMMXMMMM\",\n",
    "    \"MXMXAXMASX\"\n",
    "]\n",
    "\n",
    "# Create a WordSearch object\n",
    "word_search = WordSearch(grid)\n",
    "\n",
    "# Find all occurrences of \"XMAS\"\n",
    "occurrences = word_search.find_pattern(\"XMAS\")\n",
    "\n",
    "# Print the number of occurrences\n",
    "print(f\"XMAS appears {len(occurrences)} times.\")"
   ]
  }
 ],
 "metadata": {
  "kernelspec": {
   "display_name": "Python 3",
   "language": "python",
   "name": "python3"
  },
  "language_info": {
   "codemirror_mode": {
    "name": "ipython",
    "version": 3
   },
   "file_extension": ".py",
   "mimetype": "text/x-python",
   "name": "python",
   "nbconvert_exporter": "python",
   "pygments_lexer": "ipython3",
   "version": "3.11.6"
  },
  "orig_nbformat": 4
 },
 "nbformat": 4,
 "nbformat_minor": 2
}
