{
 "cells": [
  {
   "cell_type": "code",
   "execution_count": 1,
   "metadata": {},
   "outputs": [],
   "source": [
    "from pathlib import Path\n",
    "from typing import List, Dict, Tuple, Callable\n",
    "\n",
    "import pandas as pd\n",
    "import numpy as np\n",
    "\n",
    "YEAR = 2022\n"
   ]
  },
  {
   "cell_type": "markdown",
   "metadata": {},
   "source": [
    "A line magic that can help to download the data and store it in variables\n",
    "`input_path` and `data` to use directly in the code after:\n",
    "\n",
    "It will use:\n",
    "* if no argument: current day and year\n",
    "* one argument: the day set as argument + current year\n",
    "* two arguments: the day and the year\n",
    "\n",
    "```python\n",
    "%get_daily_input 2\n",
    "data[:100]\n",
    "```"
   ]
  },
  {
   "cell_type": "code",
   "execution_count": 2,
   "metadata": {},
   "outputs": [
    {
     "name": "stderr",
     "output_type": "stream",
     "text": [
      "WARNING: You are using pip version 21.2.4; however, version 22.3.1 is available.\n",
      "You should consider upgrading via the 'C:\\AnsysDev\\Python39\\python.exe -m pip install --upgrade pip' command.\n"
     ]
    }
   ],
   "source": [
    "!pip install -q advent-of-code-data"
   ]
  },
  {
   "cell_type": "code",
   "execution_count": 3,
   "metadata": {},
   "outputs": [],
   "source": [
    "from pathlib import Path\n",
    "from typing import cast\n",
    "from datetime import datetime\n",
    "\n",
    "from aocd import get_data\n",
    "from aocd import submit\n",
    "\n",
    "from IPython import get_ipython  # type: ignore\n",
    "from IPython.core.interactiveshell import InteractiveShell  # type: ignore\n",
    "from IPython.core.magic import register_line_cell_magic  # type: ignore\n",
    "from IPython.display import HTML  # type: ignore\n",
    "\n",
    "\n",
    "@register_line_cell_magic\n",
    "def get_daily_input(line:str) -> None:\n",
    "    \"\"\"Retrieve the input for the current day and storing variables\n",
    "    * input_path: Path to the input file\n",
    "    * data: Content of the input file\n",
    "    \"\"\"\n",
    "    ipython = cast(InteractiveShell, get_ipython())\n",
    "\n",
    "    today = datetime.today()\n",
    "    current_year = today.year\n",
    "    current_day = today.day\n",
    "    if line:\n",
    "        args = [int(e) for e in line.split()] + [current_year]\n",
    "    else:\n",
    "        args = [current_day, current_year]\n",
    "    day, year = args[:2]\n",
    "\n",
    "    input_dir = Path(\"inputs\")\n",
    "    input_dir.mkdir(exist_ok=True)\n",
    "    input_path = input_dir / f\"{day:02d}.txt\"\n",
    "    input_path_html = f'<a href=\"{input_path.as_posix()}\">{input_path.as_posix()}</a>'\n",
    "\n",
    "    if not input_path.exists():\n",
    "        ipython.system(f\"aocd {day} {year} > {input_path}\")\n",
    "        ipython.run_cell(f\"HTML('✅Input saved to {input_path_html}')\")\n",
    "    else:\n",
    "        ipython.run_cell(f\"HTML('✔️Input already exists in {input_path_html}')\")\n",
    "\n",
    "    ipython.run_cell(f\"input_path = Path('{input_path.as_posix()}')\")\n",
    "    ipython.run_cell(f\"data = get_data(day={day}, year={year})\")\n",
    "    msg = \"✅Variables <code>input_path</code> and <code>data</code> set\"\n",
    "    ipython.run_cell(f\"HTML('{msg}')\")"
   ]
  },
  {
   "cell_type": "markdown",
   "metadata": {},
   "source": [
    "# 01 December 2022\n"
   ]
  },
  {
   "cell_type": "code",
   "execution_count": 7,
   "metadata": {},
   "outputs": [
    {
     "data": {
      "text/html": [
       "✔️Input already exists in <a href=\"inputs/01.txt\">inputs/01.txt</a>"
      ],
      "text/plain": [
       "<IPython.core.display.HTML object>"
      ]
     },
     "execution_count": 7,
     "metadata": {},
     "output_type": "execute_result"
    },
    {
     "data": {
      "text/html": [
       "✅Variables <code>input_path</code> and <code>data</code> set"
      ],
      "text/plain": [
       "<IPython.core.display.HTML object>"
      ]
     },
     "execution_count": 7,
     "metadata": {},
     "output_type": "execute_result"
    }
   ],
   "source": [
    "%get_daily_input 1 2022"
   ]
  },
  {
   "cell_type": "code",
   "execution_count": 2,
   "metadata": {},
   "outputs": [
    {
     "ename": "NameError",
     "evalue": "name 'List' is not defined",
     "output_type": "error",
     "traceback": [
      "\u001b[1;31m---------------------------------------------------------------------------\u001b[0m",
      "\u001b[1;31mNameError\u001b[0m                                 Traceback (most recent call last)",
      "\u001b[1;32md:\\AnsysDev\\_PLAYGROUND_\\Advent-Code\\2022\\Solve_Puzzles.ipynb Cell 7\u001b[0m in \u001b[0;36m<module>\u001b[1;34m\u001b[0m\n\u001b[1;32m----> <a href='vscode-notebook-cell:/d%3A/AnsysDev/_PLAYGROUND_/Advent-Code/2022/Solve_Puzzles.ipynb#W6sZmlsZQ%3D%3D?line=0'>1</a>\u001b[0m \u001b[39mdef\u001b[39;00m \u001b[39mget_calories\u001b[39m(path: Path) \u001b[39m-\u001b[39m\u001b[39m>\u001b[39m List[\u001b[39mint\u001b[39m]:\n\u001b[0;32m      <a href='vscode-notebook-cell:/d%3A/AnsysDev/_PLAYGROUND_/Advent-Code/2022/Solve_Puzzles.ipynb#W6sZmlsZQ%3D%3D?line=1'>2</a>\u001b[0m     \u001b[39m\"\"\"Retrieve calories carried by each elf\"\"\"\u001b[39;00m\n\u001b[0;32m      <a href='vscode-notebook-cell:/d%3A/AnsysDev/_PLAYGROUND_/Advent-Code/2022/Solve_Puzzles.ipynb#W6sZmlsZQ%3D%3D?line=2'>3</a>\u001b[0m     content \u001b[39m=\u001b[39m Path(path)\u001b[39m.\u001b[39mread_text(encoding\u001b[39m=\u001b[39m\u001b[39m\"\u001b[39m\u001b[39mutf-8\u001b[39m\u001b[39m\"\u001b[39m)\n",
      "\u001b[1;31mNameError\u001b[0m: name 'List' is not defined"
     ]
    }
   ],
   "source": [
    "def get_calories(path: Path) -> List[int]:\n",
    "    \"\"\"Retrieve calories carried by each elf\"\"\"\n",
    "    content = Path(path).read_text(encoding=\"utf-8\")\n",
    "    return [\n",
    "        sum(int(line) for line in block.strip().split(\"\\n\"))\n",
    "        for block in content.split(\"\\n\\n\")\n",
    "    ]\n",
    "\n",
    "calories = pd.Series(get_calories(input_path), name=\"calories\")\n",
    "calories\n"
   ]
  },
  {
   "cell_type": "code",
   "execution_count": 111,
   "metadata": {},
   "outputs": [
    {
     "data": {
      "text/plain": [
       "69693"
      ]
     },
     "execution_count": 111,
     "metadata": {},
     "output_type": "execute_result"
    }
   ],
   "source": [
    "# Get the top calories\n",
    "calories.max()\n"
   ]
  },
  {
   "cell_type": "code",
   "execution_count": 12,
   "metadata": {},
   "outputs": [
    {
     "data": {
      "text/plain": [
       "200945"
      ]
     },
     "execution_count": 12,
     "metadata": {},
     "output_type": "execute_result"
    }
   ],
   "source": [
    "# Get the sum of calories from top 3\n",
    "calories.sort_values(ascending=False).head(3).sum()\n"
   ]
  },
  {
   "cell_type": "markdown",
   "metadata": {},
   "source": [
    "## With list instead of pandas"
   ]
  },
  {
   "cell_type": "code",
   "execution_count": 10,
   "metadata": {},
   "outputs": [
    {
     "data": {
      "text/plain": [
       "(69693, 200945)"
      ]
     },
     "execution_count": 10,
     "metadata": {},
     "output_type": "execute_result"
    }
   ],
   "source": [
    "def get_calories(path: Path) -> List[int]:\n",
    "    \"\"\"Retrieve calories carried by each elf\"\"\"\n",
    "    content = Path(path).read_text(encoding=\"utf-8\")\n",
    "    return [\n",
    "        sum(int(line) for line in block.strip().splitlines())\n",
    "        for block in content.split(\"\\n\\n\")\n",
    "    ]\n",
    "\n",
    "calories = get_calories(input_path)\n",
    "max(calories), sum(sorted(calories, reverse=True)[:3])\n"
   ]
  },
  {
   "cell_type": "markdown",
   "metadata": {},
   "source": [
    "# 02 December 2022\n"
   ]
  },
  {
   "cell_type": "code",
   "execution_count": 160,
   "metadata": {},
   "outputs": [
    {
     "data": {
      "text/html": [
       "✔️Input already exists in <a href=\"inputs/02.txt\">inputs/02.txt</a>"
      ],
      "text/plain": [
       "<IPython.core.display.HTML object>"
      ]
     },
     "execution_count": 160,
     "metadata": {},
     "output_type": "execute_result"
    },
    {
     "data": {
      "text/html": [
       "✅Variables <code>input_path</code> and <code>data</code> set"
      ],
      "text/plain": [
       "<IPython.core.display.HTML object>"
      ]
     },
     "execution_count": 160,
     "metadata": {},
     "output_type": "execute_result"
    },
    {
     "data": {
      "text/plain": [
       "'A Z\\nA Y\\nB X\\nB X\\nC X\\nB X\\nA X\\nA X\\nC X\\nA X\\nA X\\nA Y\\nB X\\nA Y\\nC X\\nC X\\nA X\\nA Y\\nC X\\nB X\\nA X\\nB X\\nA X\\nA X\\nB Y\\n'"
      ]
     },
     "execution_count": 160,
     "metadata": {},
     "output_type": "execute_result"
    }
   ],
   "source": [
    "%get_daily_input 2\n",
    "data[:100]"
   ]
  },
  {
   "cell_type": "code",
   "execution_count": 176,
   "metadata": {},
   "outputs": [],
   "source": [
    "import enum\n",
    "\n",
    "\n",
    "class Gesture(enum.IntEnum):\n",
    "    ROCK = 0\n",
    "    PAPER = 1\n",
    "    SCISSORS = 2\n",
    "\n",
    "GESTURES = list(Gesture)"
   ]
  },
  {
   "cell_type": "code",
   "execution_count": 177,
   "metadata": {},
   "outputs": [
    {
     "data": {
      "text/plain": [
       "(8, 1, 6)"
      ]
     },
     "execution_count": 177,
     "metadata": {},
     "output_type": "execute_result"
    }
   ],
   "source": [
    "from typing import Literal\n",
    "\n",
    "ABC = Literal[\"A\", \"B\", \"C\"]\n",
    "XYZ = Literal[\"X\", \"Y\", \"Z\"]\n",
    "\n",
    "\n",
    "def get_points(other_letter: ABC, my_letter: XYZ) -> int:\n",
    "    \"\"\"Get the points for a given combination of letters\"\"\"\n",
    "    # We will use the values of the enum\n",
    "    other = GESTURES[\"ABC\".index(other_letter)]\n",
    "    me = GESTURES[\"XYZ\".index(my_letter)]\n",
    "\n",
    "    points_choice = me.value + 1\n",
    "    if other == me:\n",
    "        return 3 + points_choice\n",
    "\n",
    "    if me.value == (other.value + 1) % 3:\n",
    "        return 6 + points_choice\n",
    "\n",
    "    return points_choice\n",
    "\n",
    "\n",
    "get_points(\"A\", \"Y\"), get_points(\"B\", \"X\"), get_points(\"C\", \"Z\")\n"
   ]
  },
  {
   "cell_type": "code",
   "execution_count": 178,
   "metadata": {},
   "outputs": [],
   "source": [
    "mini_data = \"\"\"\n",
    "A Y\n",
    "B X\n",
    "C Z\n",
    "\"\"\""
   ]
  },
  {
   "cell_type": "code",
   "execution_count": 179,
   "metadata": {},
   "outputs": [
    {
     "data": {
      "text/plain": [
       "(15, 11150)"
      ]
     },
     "execution_count": 179,
     "metadata": {},
     "output_type": "execute_result"
    }
   ],
   "source": [
    "import re\n",
    "\n",
    "\n",
    "def get_points_from_list(data: str, fn=get_points) -> int:\n",
    "    \"\"\"Get the points from the data\"\"\"\n",
    "    return sum(\n",
    "        fn(other, my) for other, my in re.findall(r\"([ABC]) ([XYZ])\", data)\n",
    "    )\n",
    "\n",
    "\n",
    "(get_points_from_list(mini_data), get_points_from_list(data))\n"
   ]
  },
  {
   "cell_type": "code",
   "execution_count": 181,
   "metadata": {},
   "outputs": [
    {
     "data": {
      "text/plain": [
       "8295"
      ]
     },
     "execution_count": 181,
     "metadata": {},
     "output_type": "execute_result"
    }
   ],
   "source": [
    "def get_points_2(other_letter: ABC, my_letter: XYZ) -> int:\n",
    "    \"\"\"Get the points for a given combination of letters (2nd scenario)\"\"\"\n",
    "    other = GESTURES[\"ABC\".index(other_letter)]\n",
    "\n",
    "    # X means you loose, Y means you draw, Z means you win\n",
    "    offset = \"XYZ\".index(my_letter) - 1\n",
    "    me = GESTURES[(other.value + offset) % 3]\n",
    "\n",
    "    points_choice = me.value + 1\n",
    "    if other == me:\n",
    "        return 3 + points_choice\n",
    "\n",
    "    if me.value == (other.value + 1) % 3:\n",
    "        return 6 + points_choice\n",
    "\n",
    "    return points_choice\n",
    "\n",
    "\n",
    "assert get_points_from_list(mini_data, fn=get_points_2) == 6 + 3 + 3\n",
    "get_points_from_list(data, fn=get_points_2)"
   ]
  },
  {
   "cell_type": "markdown",
   "metadata": {},
   "source": [
    "# Day 3"
   ]
  },
  {
   "cell_type": "code",
   "execution_count": 139,
   "metadata": {},
   "outputs": [
    {
     "data": {
      "text/html": [
       "✔️Input already exists in <a href=\"inputs/03.txt\">inputs/03.txt</a>"
      ],
      "text/plain": [
       "<IPython.core.display.HTML object>"
      ]
     },
     "execution_count": 139,
     "metadata": {},
     "output_type": "execute_result"
    },
    {
     "data": {
      "text/html": [
       "✅Variables <code>input_path</code> and <code>data</code> set"
      ],
      "text/plain": [
       "<IPython.core.display.HTML object>"
      ]
     },
     "execution_count": 139,
     "metadata": {},
     "output_type": "execute_result"
    },
    {
     "data": {
      "text/plain": [
       "'BdbzzddChsWrRFbzBrszbhWMLNJHLLLLHZtSLglFNZHLJH\\nnnfMwqpQTMffHlNNLllHnZSS\\ncGpcMwfppfqcjcTCBBzWDsDbDrjz'"
      ]
     },
     "execution_count": 139,
     "metadata": {},
     "output_type": "execute_result"
    }
   ],
   "source": [
    "%get_daily_input 3\n",
    "data[:100]"
   ]
  },
  {
   "cell_type": "code",
   "execution_count": 142,
   "metadata": {},
   "outputs": [],
   "source": [
    "MINI_DATA = \"\"\"\\\n",
    "vJrwpWtwJgWrhcsFMMfFFhFp\n",
    "jqHRNqRjqzjGDLGLrsFMfFZSrLrFZsSL\n",
    "PmmdzqPrVvPwwTWBwg\n",
    "wMqvLMZHhHMvwLHjbvcjnnSBnvTQFn\n",
    "ttgJtRGJQctTZtZT\n",
    "CrZsJsPPZsGzwwsLwLmpwMDw\n",
    "\"\"\""
   ]
  },
  {
   "cell_type": "code",
   "execution_count": 150,
   "metadata": {},
   "outputs": [
    {
     "data": {
      "text/plain": [
       "(16, 38)"
      ]
     },
     "execution_count": 150,
     "metadata": {},
     "output_type": "execute_result"
    }
   ],
   "source": [
    "from string import ascii_lowercase, ascii_uppercase\n",
    "\n",
    "def get_line_priority(line: str) -> int:\n",
    "    \"\"\"Get the priority of each rucksack line\"\"\"\n",
    "    half_length = len(line) // 2\n",
    "    left, right = line[:half_length], line[half_length:]\n",
    "    common_letter = set(left).intersection(set(right)).pop()\n",
    "    # Find the priority of the common letter\n",
    "    letters = ascii_lowercase + ascii_uppercase\n",
    "    return letters.index(common_letter) + 1\n",
    "\n",
    "get_line_priority(\"vJrwpWtwJgWrhcsFMMfFFhFp\"), get_line_priority(\"jqHRNqRjqzjGDLGLrsFMfFZSrLrFZsSL\")"
   ]
  },
  {
   "cell_type": "code",
   "execution_count": 151,
   "metadata": {},
   "outputs": [
    {
     "data": {
      "text/plain": [
       "7889"
      ]
     },
     "execution_count": 151,
     "metadata": {},
     "output_type": "execute_result"
    }
   ],
   "source": [
    "sum(get_line_priority(line) for line in data.splitlines())"
   ]
  },
  {
   "cell_type": "code",
   "execution_count": 148,
   "metadata": {},
   "outputs": [
    {
     "data": {
      "text/plain": [
       "70"
      ]
     },
     "execution_count": 148,
     "metadata": {},
     "output_type": "execute_result"
    }
   ],
   "source": [
    "from typing import Generator\n",
    "\n",
    "\n",
    "def get_badge_priority(txt: str) -> Generator[int, None, None]:\n",
    "    \"\"\"Get the priorities of the badges, by group of 3\"\"\"\n",
    "    lines = txt.splitlines()\n",
    "    for i in range(0, len(lines), 3):\n",
    "        common_letters = (\n",
    "            set(lines[i])\n",
    "            .intersection(set(lines[i + 1]))\n",
    "            .intersection(set(lines[i + 2]))\n",
    "        )\n",
    "        letters = ascii_lowercase + ascii_uppercase\n",
    "        yield min(letters.index(letter) + 1 for letter in common_letters)\n",
    "\n",
    "\n",
    "sum(get_badge_priority(MINI_DATA))\n"
   ]
  },
  {
   "cell_type": "code",
   "execution_count": 149,
   "metadata": {},
   "outputs": [
    {
     "data": {
      "text/plain": [
       "2825"
      ]
     },
     "execution_count": 149,
     "metadata": {},
     "output_type": "execute_result"
    }
   ],
   "source": [
    "sum(get_badge_priority(data))"
   ]
  },
  {
   "cell_type": "markdown",
   "metadata": {},
   "source": [
    "# Day 4"
   ]
  },
  {
   "cell_type": "code",
   "execution_count": 128,
   "metadata": {},
   "outputs": [
    {
     "data": {
      "text/html": [
       "✅Input saved to <a href=\"inputs/04.txt\">inputs/04.txt</a>"
      ],
      "text/plain": [
       "<IPython.core.display.HTML object>"
      ]
     },
     "execution_count": 128,
     "metadata": {},
     "output_type": "execute_result"
    },
    {
     "data": {
      "text/html": [
       "✅Variables <code>input_path</code> and <code>data</code> set"
      ],
      "text/plain": [
       "<IPython.core.display.HTML object>"
      ]
     },
     "execution_count": 128,
     "metadata": {},
     "output_type": "execute_result"
    },
    {
     "data": {
      "text/plain": [
       "'91-93,6-92\\n85-97,18-63\\n15-99,16-98\\n35-49,34-50\\n4-7,6-93\\n57-86,57-58\\n1-82,83-90\\n21-88,20-89\\n83-84,1-8'"
      ]
     },
     "execution_count": 128,
     "metadata": {},
     "output_type": "execute_result"
    }
   ],
   "source": [
    "%get_daily_input 4\n",
    "data[:100]"
   ]
  },
  {
   "cell_type": "code",
   "execution_count": 129,
   "metadata": {},
   "outputs": [],
   "source": [
    "MINI_DATA = \"\"\"\\\n",
    "2-4,6-8\n",
    "2-3,4-5\n",
    "5-7,7-9\n",
    "2-8,3-7\n",
    "6-6,4-6\n",
    "2-6,4-8\"\"\""
   ]
  },
  {
   "cell_type": "code",
   "execution_count": 131,
   "metadata": {},
   "outputs": [
    {
     "data": {
      "text/plain": [
       "(True, False)"
      ]
     },
     "execution_count": 131,
     "metadata": {},
     "output_type": "execute_result"
    }
   ],
   "source": [
    "def is_fully_contained(line:str) -> bool:\n",
    "    \"\"\"Check if the line is fully contained in another line\"\"\"\n",
    "    left, right = line.split(\",\")\n",
    "    left_min, left_max = [int(e) for e in left.split(\"-\")]\n",
    "    right_min, right_max = [int(e) for e in right.split(\"-\")]\n",
    "    return (left_min <= right_min and left_max >= right_max) or (right_min <= left_min and right_max >= left_max)\n",
    "\n",
    "is_fully_contained(\"6-6,4-6\"), is_fully_contained(\"2-6,4-8\")"
   ]
  },
  {
   "cell_type": "code",
   "execution_count": 132,
   "metadata": {},
   "outputs": [
    {
     "data": {
      "text/plain": [
       "2"
      ]
     },
     "execution_count": 132,
     "metadata": {},
     "output_type": "execute_result"
    }
   ],
   "source": [
    "sum(is_fully_contained(line) for line in MINI_DATA.splitlines())"
   ]
  },
  {
   "cell_type": "code",
   "execution_count": 133,
   "metadata": {},
   "outputs": [
    {
     "data": {
      "text/plain": [
       "456"
      ]
     },
     "execution_count": 133,
     "metadata": {},
     "output_type": "execute_result"
    }
   ],
   "source": [
    "sum(is_fully_contained(line) for line in data.splitlines())"
   ]
  },
  {
   "cell_type": "code",
   "execution_count": 135,
   "metadata": {},
   "outputs": [
    {
     "data": {
      "text/plain": [
       "(True, True, True, False)"
      ]
     },
     "execution_count": 135,
     "metadata": {},
     "output_type": "execute_result"
    }
   ],
   "source": [
    "def is_overlap(line:str) -> bool:\n",
    "    \"\"\"Check if the line contains overlap\"\"\"\n",
    "    left, right = line.split(\",\")\n",
    "    left_min, left_max = [int(e) for e in left.split(\"-\")]\n",
    "    right_min, right_max = [int(e) for e in right.split(\"-\")]\n",
    "    left_range = set(range(left_min, left_max + 1))\n",
    "    right_range = set(range(right_min, right_max + 1))\n",
    "    return bool(left_range.intersection(right_range))\n",
    "\n",
    "is_overlap(\"6-6,4-6\"), is_overlap(\"2-6,4-8\"), is_overlap(\"4-8,2-6\"), is_overlap(\"2-4,6-8\")"
   ]
  },
  {
   "cell_type": "code",
   "execution_count": 136,
   "metadata": {},
   "outputs": [
    {
     "data": {
      "text/plain": [
       "808"
      ]
     },
     "execution_count": 136,
     "metadata": {},
     "output_type": "execute_result"
    }
   ],
   "source": [
    "sum(is_overlap(line) for line in data.splitlines())"
   ]
  },
  {
   "cell_type": "markdown",
   "metadata": {},
   "source": [
    "# Day 5"
   ]
  },
  {
   "cell_type": "code",
   "execution_count": 213,
   "metadata": {},
   "outputs": [
    {
     "data": {
      "text/html": [
       "✔️Input already exists in <a href=\"inputs/05.txt\">inputs/05.txt</a>"
      ],
      "text/plain": [
       "<IPython.core.display.HTML object>"
      ]
     },
     "execution_count": 213,
     "metadata": {},
     "output_type": "execute_result"
    },
    {
     "data": {
      "text/html": [
       "✅Variables <code>input_path</code> and <code>data</code> set"
      ],
      "text/plain": [
       "<IPython.core.display.HTML object>"
      ]
     },
     "execution_count": 213,
     "metadata": {},
     "output_type": "execute_result"
    }
   ],
   "source": [
    "%get_daily_input 5"
   ]
  },
  {
   "cell_type": "code",
   "execution_count": 183,
   "metadata": {},
   "outputs": [],
   "source": [
    "CRATES = \"\"\"\\\n",
    "            [M] [S] [S]\n",
    "        [M] [N] [L] [T] [Q]\n",
    "[G]     [P] [C] [F] [G] [T]\n",
    "[B]     [J] [D] [P] [V] [F] [F]\n",
    "[D]     [D] [G] [C] [Z] [H] [B] [G]\n",
    "[C] [G] [Q] [L] [N] [D] [M] [D] [Q]\n",
    "[P] [V] [S] [S] [B] [B] [Z] [M] [C]\n",
    "[R] [H] [N] [P] [J] [Q] [B] [C] [F]\n",
    "\"\"\""
   ]
  },
  {
   "cell_type": "code",
   "execution_count": 224,
   "metadata": {},
   "outputs": [],
   "source": [
    "MINI_DATA = \"\"\"\\\n",
    "    [D]\n",
    "[N] [C]\n",
    "[Z] [M] [P]\n",
    " 1   2   3\n",
    "\n",
    "move 1 from 2 to 1\n",
    "move 3 from 1 to 3\n",
    "move 2 from 2 to 1\n",
    "move 1 from 1 to 2\n",
    "\"\"\""
   ]
  },
  {
   "cell_type": "code",
   "execution_count": 186,
   "metadata": {},
   "outputs": [
    {
     "data": {
      "text/plain": [
       "'            [M] [S] [S]'"
      ]
     },
     "execution_count": 186,
     "metadata": {},
     "output_type": "execute_result"
    }
   ],
   "source": [
    "import re\n",
    "line = CRATES.splitlines()[0]\n",
    "\n",
    "line"
   ]
  },
  {
   "cell_type": "code",
   "execution_count": 219,
   "metadata": {},
   "outputs": [
    {
     "data": {
      "text/plain": [
       "defaultdict(list,\n",
       "            {4: ['M', 'N', 'C', 'D', 'G', 'L', 'S', 'P'],\n",
       "             5: ['S', 'L', 'F', 'P', 'C', 'N', 'B', 'J'],\n",
       "             6: ['S', 'T', 'G', 'V', 'Z', 'D', 'B', 'Q'],\n",
       "             3: ['M', 'P', 'J', 'D', 'Q', 'S', 'N'],\n",
       "             7: ['Q', 'T', 'F', 'H', 'M', 'Z', 'B'],\n",
       "             1: ['G', 'B', 'D', 'C', 'P', 'R'],\n",
       "             8: ['F', 'B', 'D', 'M', 'C'],\n",
       "             9: ['G', 'Q', 'C', 'F'],\n",
       "             2: ['G', 'V', 'H']})"
      ]
     },
     "execution_count": 219,
     "metadata": {},
     "output_type": "execute_result"
    }
   ],
   "source": [
    "from collections import defaultdict\n",
    "from typing import Dict, List\n",
    "\n",
    "# List of crates from the top\n",
    "def get_crates(data: str) -> Dict[int, List[str]]:\n",
    "    \"\"\"Get list of crates as dictionary\"\"\"\n",
    "    all_crates = defaultdict(list)\n",
    "    for line in data.splitlines():\n",
    "        crates = (c.strip(\"[ ]\") for c in re.findall(r\"(\\[[A-Z]\\]| {3})(?: |$)\", line, flags=re.M))\n",
    "        for i, crate in enumerate(crates, start=1):\n",
    "            if crate:\n",
    "                all_crates[i].append(crate)\n",
    "    return all_crates\n",
    "\n",
    "all_crates = get_crates(data)\n",
    "all_crates\n"
   ]
  },
  {
   "cell_type": "code",
   "execution_count": 199,
   "metadata": {},
   "outputs": [
    {
     "data": {
      "text/plain": [
       "[('1', '2', '1'), ('3', '1', '3'), ('2', '2', '1'), ('1', '1', '2')]"
      ]
     },
     "execution_count": 199,
     "metadata": {},
     "output_type": "execute_result"
    }
   ],
   "source": [
    "commands = \n",
    "commands"
   ]
  },
  {
   "cell_type": "code",
   "execution_count": 222,
   "metadata": {},
   "outputs": [
    {
     "data": {
      "text/plain": [
       "[10, 1, 2, 3, 4, 5]"
      ]
     },
     "execution_count": 222,
     "metadata": {},
     "output_type": "execute_result"
    }
   ],
   "source": [
    "values = [1, 2, 3, 4, 5]\n",
    "# Get first 3 values with pop\n",
    "values.insert(0, 10)\n",
    "values"
   ]
  },
  {
   "cell_type": "code",
   "execution_count": 230,
   "metadata": {},
   "outputs": [
    {
     "name": "stdout",
     "output_type": "stream",
     "text": [
      "Solution: CMZ\n"
     ]
    },
    {
     "data": {
      "text/plain": [
       "defaultdict(list, {2: ['M'], 1: ['C'], 3: ['Z', 'N', 'D', 'P']})"
      ]
     },
     "execution_count": 230,
     "metadata": {},
     "output_type": "execute_result"
    }
   ],
   "source": [
    "def part_1(pb_input:str):\n",
    "    all_crates = get_crates(pb_input)\n",
    "\n",
    "    commands = re.findall(r\"move (\\d+) from (\\d) to (\\d)\", pb_input)\n",
    "    for qty, from_pile, to_pile in commands:\n",
    "        from_pile = int(from_pile)\n",
    "        to_pile = int(to_pile)\n",
    "        for _ in range(int(qty)):\n",
    "            crate = all_crates[from_pile].pop(0)\n",
    "            all_crates[to_pile].insert(0, crate)\n",
    "\n",
    "    solution = ''.join(c[0] for nb, c in sorted(all_crates.items()))\n",
    "    print(f\"Solution: {solution}\")\n",
    "    return all_crates\n",
    "\n",
    "part_1(MINI_DATA)"
   ]
  },
  {
   "cell_type": "code",
   "execution_count": 231,
   "metadata": {},
   "outputs": [
    {
     "name": "stdout",
     "output_type": "stream",
     "text": [
      "Solution: TLNGFGMFN\n"
     ]
    },
    {
     "data": {
      "text/plain": [
       "defaultdict(list,\n",
       "            {4: ['G',\n",
       "              'L',\n",
       "              'Q',\n",
       "              'H',\n",
       "              'H',\n",
       "              'V',\n",
       "              'M',\n",
       "              'C',\n",
       "              'F',\n",
       "              'D',\n",
       "              'S',\n",
       "              'J',\n",
       "              'J',\n",
       "              'Q',\n",
       "              'G',\n",
       "              'D',\n",
       "              'S'],\n",
       "             5: ['F', 'S'],\n",
       "             6: ['G'],\n",
       "             3: ['N'],\n",
       "             7: ['M'],\n",
       "             1: ['T',\n",
       "              'C',\n",
       "              'N',\n",
       "              'Z',\n",
       "              'B',\n",
       "              'B',\n",
       "              'B',\n",
       "              'D',\n",
       "              'G',\n",
       "              'T',\n",
       "              'D',\n",
       "              'C',\n",
       "              'M',\n",
       "              'M',\n",
       "              'R',\n",
       "              'P',\n",
       "              'P',\n",
       "              'B',\n",
       "              'Z',\n",
       "              'Q',\n",
       "              'V',\n",
       "              'G',\n",
       "              'C',\n",
       "              'B',\n",
       "              'P',\n",
       "              'Q',\n",
       "              'F',\n",
       "              'D',\n",
       "              'C',\n",
       "              'S',\n",
       "              'P'],\n",
       "             8: ['F'],\n",
       "             9: ['N'],\n",
       "             2: ['L']})"
      ]
     },
     "execution_count": 231,
     "metadata": {},
     "output_type": "execute_result"
    }
   ],
   "source": [
    "part_1(data)"
   ]
  },
  {
   "cell_type": "code",
   "execution_count": 232,
   "metadata": {},
   "outputs": [
    {
     "name": "stdout",
     "output_type": "stream",
     "text": [
      "Solution: MCD\n"
     ]
    },
    {
     "data": {
      "text/plain": [
       "defaultdict(list, {2: ['C'], 1: ['M'], 3: ['D', 'N', 'Z', 'P']})"
      ]
     },
     "execution_count": 232,
     "metadata": {},
     "output_type": "execute_result"
    }
   ],
   "source": [
    "def part_2(pb_input:str):\n",
    "    all_crates = get_crates(pb_input)\n",
    "\n",
    "    commands = re.findall(r\"move (\\d+) from (\\d) to (\\d)\", pb_input)\n",
    "    for qty, from_pile, to_pile in commands:\n",
    "        qty = int(qty)\n",
    "        from_pile = int(from_pile)\n",
    "        to_pile = int(to_pile)\n",
    "\n",
    "        all_crates[to_pile] = all_crates[from_pile][:qty] + all_crates[to_pile]\n",
    "        all_crates[from_pile] = all_crates[from_pile][qty:]\n",
    "\n",
    "    solution = ''.join(c[0] for nb, c in sorted(all_crates.items()))\n",
    "    print(f\"Solution: {solution}\")\n",
    "    return all_crates\n",
    "\n",
    "part_2(MINI_DATA)"
   ]
  },
  {
   "cell_type": "code",
   "execution_count": 233,
   "metadata": {},
   "outputs": [
    {
     "name": "stdout",
     "output_type": "stream",
     "text": [
      "Solution: FGLQJCMBD\n"
     ]
    },
    {
     "data": {
      "text/plain": [
       "defaultdict(list,\n",
       "            {4: ['Q',\n",
       "              'T',\n",
       "              'Q',\n",
       "              'C',\n",
       "              'P',\n",
       "              'B',\n",
       "              'D',\n",
       "              'N',\n",
       "              'T',\n",
       "              'M',\n",
       "              'C',\n",
       "              'V',\n",
       "              'V',\n",
       "              'Z',\n",
       "              'F',\n",
       "              'H',\n",
       "              'G'],\n",
       "             5: ['J', 'B'],\n",
       "             6: ['C'],\n",
       "             3: ['L'],\n",
       "             7: ['M'],\n",
       "             1: ['F',\n",
       "              'S',\n",
       "              'S',\n",
       "              'G',\n",
       "              'N',\n",
       "              'D',\n",
       "              'M',\n",
       "              'S',\n",
       "              'Q',\n",
       "              'P',\n",
       "              'H',\n",
       "              'N',\n",
       "              'M',\n",
       "              'C',\n",
       "              'G',\n",
       "              'F',\n",
       "              'B',\n",
       "              'P',\n",
       "              'D',\n",
       "              'G',\n",
       "              'R',\n",
       "              'D',\n",
       "              'Q',\n",
       "              'S',\n",
       "              'Z',\n",
       "              'C',\n",
       "              'J',\n",
       "              'F',\n",
       "              'P',\n",
       "              'B',\n",
       "              'L'],\n",
       "             8: ['B'],\n",
       "             9: ['D'],\n",
       "             2: ['G']})"
      ]
     },
     "execution_count": 233,
     "metadata": {},
     "output_type": "execute_result"
    }
   ],
   "source": [
    "part_2(data)"
   ]
  },
  {
   "cell_type": "markdown",
   "metadata": {},
   "source": [
    "# Day 6"
   ]
  },
  {
   "cell_type": "code",
   "execution_count": 238,
   "metadata": {},
   "outputs": [
    {
     "data": {
      "text/html": [
       "✅Input saved to <a href=\"inputs/06.txt\">inputs/06.txt</a>"
      ],
      "text/plain": [
       "<IPython.core.display.HTML object>"
      ]
     },
     "execution_count": 238,
     "metadata": {},
     "output_type": "execute_result"
    },
    {
     "data": {
      "text/html": [
       "✅Variables <code>input_path</code> and <code>data</code> set"
      ],
      "text/plain": [
       "<IPython.core.display.HTML object>"
      ]
     },
     "execution_count": 238,
     "metadata": {},
     "output_type": "execute_result"
    }
   ],
   "source": [
    "%get_daily_input 6 2022"
   ]
  },
  {
   "cell_type": "code",
   "execution_count": 247,
   "metadata": {},
   "outputs": [
    {
     "name": "stdout",
     "output_type": "stream",
     "text": [
      "5\n",
      "6\n",
      "10\n",
      "11\n"
     ]
    },
    {
     "data": {
      "text/plain": [
       "1892"
      ]
     },
     "execution_count": 247,
     "metadata": {},
     "output_type": "execute_result"
    }
   ],
   "source": [
    "def get_index_end_marker(signal:str, size:int = 4) -> int:\n",
    "    \"\"\"Get the index of the end marker after <size> different characters\"\"\"\n",
    "    for i in range(len(signal) - size):\n",
    "        if len(set(signal[i:i+size])) == size:\n",
    "            return i + size\n",
    "    return 0\n",
    "\n",
    "mini_data = \"\"\"\\\n",
    "bvwbjplbgvbhsrlpgdmjqwftvncz\n",
    "nppdvjthqldpwncqszvftbrmjlhg\n",
    "nznrnfrfntjfmvfwmzdfjlvtqnbhcprsg\n",
    "zcfzfwzzqfrljwzlrfnpqdbhtmscgvjw\n",
    "\"\"\"\n",
    "\n",
    "for line in mini_data.splitlines():\n",
    "    print(get_index_end_marker(line))\n",
    "\n",
    "get_index_end_marker(data)"
   ]
  },
  {
   "cell_type": "code",
   "execution_count": 246,
   "metadata": {},
   "outputs": [
    {
     "data": {
      "text/plain": [
       "2313"
      ]
     },
     "execution_count": 246,
     "metadata": {},
     "output_type": "execute_result"
    }
   ],
   "source": [
    "get_index_end_marker(data, size=14)"
   ]
  },
  {
   "cell_type": "markdown",
   "metadata": {},
   "source": [
    "# Day 7"
   ]
  },
  {
   "cell_type": "code",
   "execution_count": 4,
   "metadata": {},
   "outputs": [
    {
     "data": {
      "text/html": [
       "✅Input saved to <a href=\"inputs/07.txt\">inputs/07.txt</a>"
      ],
      "text/plain": [
       "<IPython.core.display.HTML object>"
      ]
     },
     "execution_count": 4,
     "metadata": {},
     "output_type": "execute_result"
    },
    {
     "data": {
      "text/html": [
       "✅Variables <code>input_path</code> and <code>data</code> set"
      ],
      "text/plain": [
       "<IPython.core.display.HTML object>"
      ]
     },
     "execution_count": 4,
     "metadata": {},
     "output_type": "execute_result"
    }
   ],
   "source": [
    "%get_daily_input 7 2022\n",
    "\n"
   ]
  },
  {
   "cell_type": "code",
   "execution_count": 5,
   "metadata": {},
   "outputs": [],
   "source": [
    "MINI_DATA = \"\"\"\\\n",
    "$ cd /\n",
    "$ ls\n",
    "dir a\n",
    "14848514 b.txt\n",
    "8504156 c.dat\n",
    "dir d\n",
    "$ cd a\n",
    "$ ls\n",
    "dir e\n",
    "29116 f\n",
    "2557 g\n",
    "62596 h.lst\n",
    "$ cd e\n",
    "$ ls\n",
    "584 i\n",
    "$ cd ..\n",
    "$ cd ..\n",
    "$ cd d\n",
    "$ ls\n",
    "4060174 j\n",
    "8033020 d.log\n",
    "5626152 d.ext\n",
    "7214296 k\n",
    "\"\"\""
   ]
  },
  {
   "cell_type": "code",
   "execution_count": 14,
   "metadata": {},
   "outputs": [
    {
     "data": {
      "text/plain": [
       "defaultdict(int,\n",
       "            {WindowsPath('/'): 48381165,\n",
       "             WindowsPath('/a'): 94853,\n",
       "             WindowsPath('/a/e'): 584,\n",
       "             WindowsPath('/d'): 24933642})"
      ]
     },
     "execution_count": 14,
     "metadata": {},
     "output_type": "execute_result"
    }
   ],
   "source": [
    "from collections import defaultdict\n",
    "from typing import Dict\n",
    "from pathlib import Path\n",
    "\n",
    "def get_size_dirs(data:str) -> Dict[str, int]:\n",
    "    \"\"\"Get size of directories\"\"\"\n",
    "    size_dirs = defaultdict(int)\n",
    "    current_dir = Path(\"/\")\n",
    "    for line in data.splitlines():\n",
    "        if line.startswith(\"$ cd ..\"):\n",
    "            current_dir = current_dir.parent\n",
    "        elif line.startswith(\"$ cd \"):\n",
    "            current_dir = current_dir / line[5:]\n",
    "        elif line.startswith(\"$ ls\"):\n",
    "            continue\n",
    "        elif line.startswith(\"dir \"):\n",
    "            # dir_name = line[4:]\n",
    "            # size_dirs[current_dir] += size_dirs[dir_name]\n",
    "            continue\n",
    "        else:\n",
    "            size, _ = line.split()\n",
    "            size_dirs[current_dir] += int(size)\n",
    "            for p in current_dir.parents:\n",
    "                size_dirs[p] += int(size)\n",
    "    return size_dirs\n",
    "\n",
    "size_mini_data = get_size_dirs(MINI_DATA)\n",
    "size_mini_data"
   ]
  },
  {
   "cell_type": "code",
   "execution_count": 16,
   "metadata": {},
   "outputs": [
    {
     "data": {
      "text/plain": [
       "95437"
      ]
     },
     "execution_count": 16,
     "metadata": {},
     "output_type": "execute_result"
    }
   ],
   "source": [
    "sum(v for d, v in size_mini_data.items() if v < 100000)"
   ]
  },
  {
   "cell_type": "code",
   "execution_count": 17,
   "metadata": {},
   "outputs": [
    {
     "data": {
      "text/plain": [
       "1642503"
      ]
     },
     "execution_count": 17,
     "metadata": {},
     "output_type": "execute_result"
    }
   ],
   "source": [
    "sum(v for v in get_size_dirs(data).values() if v < 100000)"
   ]
  },
  {
   "cell_type": "code",
   "execution_count": 18,
   "metadata": {},
   "outputs": [
    {
     "name": "stderr",
     "output_type": "stream",
     "text": [
      "answer a: None\n",
      "submitting for part a\n"
     ]
    },
    {
     "name": "stdout",
     "output_type": "stream",
     "text": [
      "That's the right answer!  You are one gold star closer to collecting enough star fruit. You achieved rank 66 on this star's leaderboard and gained 35 points! [Continue to Part Two]\n"
     ]
    },
    {
     "data": {
      "text/plain": [
       "<Response [200]>"
      ]
     },
     "execution_count": 18,
     "metadata": {},
     "output_type": "execute_result"
    }
   ],
   "source": [
    "# submit(1642503, day=7)"
   ]
  },
  {
   "cell_type": "code",
   "execution_count": 39,
   "metadata": {},
   "outputs": [
    {
     "data": {
      "text/plain": [
       "[24933642, 24933642]"
      ]
     },
     "execution_count": 39,
     "metadata": {},
     "output_type": "execute_result"
    }
   ],
   "source": [
    "TOTAL_SIZE = 70000000\n",
    "NEEDED_SPACE = 30000000\n",
    "[\n",
    "    min(\n",
    "        v\n",
    "        for v in size_mini_data.values()\n",
    "        if TOTAL_SIZE - size_mini_data[Path(\"/\")] + v > NEEDED_SPACE\n",
    "    ),\n",
    "    min(\n",
    "        v for v in size_mini_data.values() if v > TOTAL_SIZE - size_mini_data[Path(\"/\")]\n",
    "    ),\n",
    "]\n"
   ]
  },
  {
   "cell_type": "code",
   "execution_count": 21,
   "metadata": {},
   "outputs": [
    {
     "data": {
      "text/plain": [
       "defaultdict(int,\n",
       "            {WindowsPath('/'): 46592386,\n",
       "             WindowsPath('/fts'): 618943,\n",
       "             WindowsPath('/fts/dlqtffw'): 73533,\n",
       "             WindowsPath('/fts/rbfmmjvd'): 290697,\n",
       "             WindowsPath('/jnwr'): 851171,\n",
       "             WindowsPath('/jnwr/wbv'): 461954,\n",
       "             WindowsPath('/jnwr/wbv/nmdwbnnr'): 208370,\n",
       "             WindowsPath('/jnwr/zzbvdcf'): 8052,\n",
       "             WindowsPath('/lrvl'): 22022022,\n",
       "             WindowsPath('/lrvl/bqqltcg/dlbjblbf'): 11732,\n",
       "             WindowsPath('/lrvl/bqqltcg'): 2980003,\n",
       "             WindowsPath('/lrvl/bqqltcg/fdlw'): 414205,\n",
       "             WindowsPath('/lrvl/bqqltcg/fdlw/hlvpfw/dhwq'): 185769,\n",
       "             WindowsPath('/lrvl/bqqltcg/fdlw/hlvpfw'): 185769,\n",
       "             WindowsPath('/lrvl/bqqltcg/jnwr'): 521337,\n",
       "             WindowsPath('/lrvl/bqqltcg/slzdbm'): 161906,\n",
       "             WindowsPath('/lrvl/bqqltcg/zcgrgff'): 1870823,\n",
       "             WindowsPath('/lrvl/bqqltcg/zcgrgff/ztrslh'): 1584583,\n",
       "             WindowsPath('/lrvl/bqqltcg/zcgrgff/ztrslh/bhzn'): 221254,\n",
       "             WindowsPath('/lrvl/bqqltcg/zcgrgff/ztrslh/slzdbm'): 124928,\n",
       "             WindowsPath('/lrvl/bqqltcg/zcgrgff/ztrslh/szrth/hpbbsq'): 151717,\n",
       "             WindowsPath('/lrvl/bqqltcg/zcgrgff/ztrslh/szrth'): 691294,\n",
       "             WindowsPath('/lrvl/bqqltcg/zcgrgff/ztrslh/szrth/vlwlsdjp'): 349982,\n",
       "             WindowsPath('/lrvl/bqqltcg/zcgrgff/ztrslh/szrth/zcgrgff'): 189595,\n",
       "             WindowsPath('/lrvl/bqqltcg/zcgrgff/ztrslh/szrth/zcgrgff/zcgrgff'): 115955,\n",
       "             WindowsPath('/lrvl/bqqltcg/zcgrgff/ztrslh/zcp/qdjtmwrr'): 138185,\n",
       "             WindowsPath('/lrvl/bqqltcg/zcgrgff/ztrslh/zcp'): 345940,\n",
       "             WindowsPath('/lrvl/bqqltcg/zcgrgff/ztrslh/zcp/wpdjttm'): 207755,\n",
       "             WindowsPath('/lrvl/pwc'): 15911,\n",
       "             WindowsPath('/lrvl/rjl'): 119274,\n",
       "             WindowsPath('/lrvl/rzvqvv'): 273935,\n",
       "             WindowsPath('/lrvl/slzdbm'): 928180,\n",
       "             WindowsPath('/lrvl/slzdbm/hlvpfw'): 283798,\n",
       "             WindowsPath('/lrvl/slzdbm/hlvpfw/mhvmszgh/tftstdp'): 176794,\n",
       "             WindowsPath('/lrvl/slzdbm/hlvpfw/mhvmszgh'): 176794,\n",
       "             WindowsPath('/lrvl/slzdbm/ljpmphn'): 37528,\n",
       "             WindowsPath('/lrvl/tcbjmq'): 96506,\n",
       "             WindowsPath('/lrvl/zhbpqlnd'): 17187447,\n",
       "             WindowsPath('/lrvl/zhbpqlnd/clnqtjz'): 9893050,\n",
       "             WindowsPath('/lrvl/zhbpqlnd/clnqtjz/mzsfcvgv'): 336414,\n",
       "             WindowsPath('/lrvl/zhbpqlnd/clnqtjz/mzsfcvgv/vnwqstw'): 335058,\n",
       "             WindowsPath('/lrvl/zhbpqlnd/clnqtjz/rrn'): 8877344,\n",
       "             WindowsPath('/lrvl/zhbpqlnd/clnqtjz/rrn/hnr'): 436056,\n",
       "             WindowsPath('/lrvl/zhbpqlnd/clnqtjz/rrn/hnr/gljrlhjm/wjwqrnj'): 142366,\n",
       "             WindowsPath('/lrvl/zhbpqlnd/clnqtjz/rrn/hnr/gljrlhjm'): 142366,\n",
       "             WindowsPath('/lrvl/zhbpqlnd/clnqtjz/rrn/rdmgtf'): 1706657,\n",
       "             WindowsPath('/lrvl/zhbpqlnd/clnqtjz/rrn/rdmgtf/lzfntb'): 259109,\n",
       "             WindowsPath('/lrvl/zhbpqlnd/clnqtjz/rrn/rdmgtf/lzfntb/gwnpsvw'): 109187,\n",
       "             WindowsPath('/lrvl/zhbpqlnd/clnqtjz/rrn/rdmgtf/lzfntb/gwnpsvw/lqnz'): 27250,\n",
       "             WindowsPath('/lrvl/zhbpqlnd/clnqtjz/rrn/rdmgtf/lzfntb/rsgwzhp/hhz'): 46435,\n",
       "             WindowsPath('/lrvl/zhbpqlnd/clnqtjz/rrn/rdmgtf/lzfntb/rsgwzhp'): 46435,\n",
       "             WindowsPath('/lrvl/zhbpqlnd/clnqtjz/rrn/rdmgtf/mjfwsmgd'): 195811,\n",
       "             WindowsPath('/lrvl/zhbpqlnd/clnqtjz/rrn/rdmgtf/tqh'): 725633,\n",
       "             WindowsPath('/lrvl/zhbpqlnd/clnqtjz/rrn/rdmgtf/tqh/lpdcdr'): 203902,\n",
       "             WindowsPath('/lrvl/zhbpqlnd/clnqtjz/rrn/rdmgtf/tqh/vhfr'): 407244,\n",
       "             WindowsPath('/lrvl/zhbpqlnd/clnqtjz/rrn/rdmgtf/tqh/vhfr/stmvj'): 315660,\n",
       "             WindowsPath('/lrvl/zhbpqlnd/clnqtjz/rrn/rgrwp'): 5916357,\n",
       "             WindowsPath('/lrvl/zhbpqlnd/clnqtjz/rrn/rgrwp/dhwtfld'): 152381,\n",
       "             WindowsPath('/lrvl/zhbpqlnd/clnqtjz/rrn/rgrwp/jnwr'): 492253,\n",
       "             WindowsPath('/lrvl/zhbpqlnd/clnqtjz/rrn/rgrwp/npr'): 1496660,\n",
       "             WindowsPath('/lrvl/zhbpqlnd/clnqtjz/rrn/rgrwp/npr/nrbjzvgq'): 704840,\n",
       "             WindowsPath('/lrvl/zhbpqlnd/clnqtjz/rrn/rgrwp/npr/nrbjzvgq/zcgrgff'): 124604,\n",
       "             WindowsPath('/lrvl/zhbpqlnd/clnqtjz/rrn/rgrwp/npr/znbwnh'): 228293,\n",
       "             WindowsPath('/lrvl/zhbpqlnd/clnqtjz/rrn/rgrwp/sdsppq'): 2898091,\n",
       "             WindowsPath('/lrvl/zhbpqlnd/clnqtjz/rrn/rgrwp/sdsppq/jnwr'): 1581051,\n",
       "             WindowsPath('/lrvl/zhbpqlnd/clnqtjz/rrn/rgrwp/sdsppq/jnwr/gjt'): 184707,\n",
       "             WindowsPath('/lrvl/zhbpqlnd/clnqtjz/rrn/rgrwp/sdsppq/jnwr/hlvpfw'): 242810,\n",
       "             WindowsPath('/lrvl/zhbpqlnd/clnqtjz/rrn/rgrwp/sdsppq/jnwr/nbsdvpnj'): 691179,\n",
       "             WindowsPath('/lrvl/zhbpqlnd/clnqtjz/rrn/rgrwp/sdsppq/jnwr/zcgrgff'): 188814,\n",
       "             WindowsPath('/lrvl/zhbpqlnd/clnqtjz/rrn/rgrwp/sdsppq/njtrhrfm/dqpjdztt'): 178036,\n",
       "             WindowsPath('/lrvl/zhbpqlnd/clnqtjz/rrn/rgrwp/sdsppq/njtrhrfm'): 178036,\n",
       "             WindowsPath('/lrvl/zhbpqlnd/clnqtjz/rrn/rgrwp/sdsppq/tvq'): 448698,\n",
       "             WindowsPath('/lrvl/zhbpqlnd/clnqtjz/rrn/rgrwp/sdsppq/wshgn'): 454565,\n",
       "             WindowsPath('/lrvl/zhbpqlnd/clnqtjz/rrn/rgrwp/sdsppq/wshgn/ntrlll'): 245558,\n",
       "             WindowsPath('/lrvl/zhbpqlnd/fdsqmnn'): 868116,\n",
       "             WindowsPath('/lrvl/zhbpqlnd/fdsqmnn/dfl'): 324132,\n",
       "             WindowsPath('/lrvl/zhbpqlnd/fdsqmnn/hqffnmq'): 28438,\n",
       "             WindowsPath('/lrvl/zhbpqlnd/fdsqmnn/ztc'): 247470,\n",
       "             WindowsPath('/lrvl/zhbpqlnd/fwdt'): 1941889,\n",
       "             WindowsPath('/lrvl/zhbpqlnd/fwdt/cdcc/cwpfczr'): 303853,\n",
       "             WindowsPath('/lrvl/zhbpqlnd/fwdt/cdcc'): 367058,\n",
       "             WindowsPath('/lrvl/zhbpqlnd/fwdt/cdcc/lsrgfml'): 63205,\n",
       "             WindowsPath('/lrvl/zhbpqlnd/fwdt/jldlzttm'): 720197,\n",
       "             WindowsPath('/lrvl/zhbpqlnd/fwdt/sws'): 146536,\n",
       "             WindowsPath('/lrvl/zhbpqlnd/fwdt/sws/hlvpfw'): 71403,\n",
       "             WindowsPath('/lrvl/zhbpqlnd/nljb'): 105380,\n",
       "             WindowsPath('/lrvl/zhbpqlnd/npmsdrgp'): 1863430,\n",
       "             WindowsPath('/lrvl/zhbpqlnd/npmsdrgp/dgdl'): 4624,\n",
       "             WindowsPath('/lrvl/zhbpqlnd/npmsdrgp/jnwr'): 1374035,\n",
       "             WindowsPath('/lrvl/zhbpqlnd/npmsdrgp/jnwr/cvw'): 58981,\n",
       "             WindowsPath('/lrvl/zhbpqlnd/npmsdrgp/jnwr/ncqflwrb'): 105747,\n",
       "             WindowsPath('/lrvl/zhbpqlnd/npmsdrgp/jnwr/wclwg'): 75020,\n",
       "             WindowsPath('/lrvl/zhbpqlnd/npmsdrgp/jnwr/wtcfswt'): 438736,\n",
       "             WindowsPath('/lrvl/zhbpqlnd/zggqfj'): 2018419,\n",
       "             WindowsPath('/lrvl/zhbpqlnd/zggqfj/gpnfpv/hlvpfw'): 521137,\n",
       "             WindowsPath('/lrvl/zhbpqlnd/zggqfj/gpnfpv'): 521137,\n",
       "             WindowsPath('/lrvl/zhbpqlnd/zggqfj/gzfsnbv'): 449012,\n",
       "             WindowsPath('/lrvl/zhbpqlnd/zggqfj/gzfsnbv/sdgwjtf'): 127216,\n",
       "             WindowsPath('/lrvl/zhbpqlnd/zggqfj/msrz'): 861586,\n",
       "             WindowsPath('/lrvl/zhbpqlnd/zggqfj/msrz/fzl'): 140610,\n",
       "             WindowsPath('/nzgprvw'): 1738868,\n",
       "             WindowsPath('/nzgprvw/hgfdbf'): 426097,\n",
       "             WindowsPath('/nzgprvw/vfztvnjm'): 278273,\n",
       "             WindowsPath('/nzgprvw/zgdsgh'): 473075,\n",
       "             WindowsPath('/nzgprvw/zgdsgh/hlvpfw'): 44509,\n",
       "             WindowsPath('/nzgprvw/zgdsgh/sdllphqd'): 47133,\n",
       "             WindowsPath('/nzgprvw/zgdsgh/zcgrgff'): 186613,\n",
       "             WindowsPath('/snwqjgj/slzdbm'): 196732,\n",
       "             WindowsPath('/snwqjgj'): 3078860,\n",
       "             WindowsPath('/snwqjgj/zcgrgff'): 621970,\n",
       "             WindowsPath('/snwqjgj/zcgrgff/rrfhvjf'): 69149,\n",
       "             WindowsPath('/snwqjgj/zcgrgff/zcgrgff/zcgrgff'): 277366,\n",
       "             WindowsPath('/snwqjgj/zcgrgff/zcgrgff'): 277366,\n",
       "             WindowsPath('/snwqjgj/zldscsc'): 2260158,\n",
       "             WindowsPath('/snwqjgj/zldscsc/fmzvccvg/brrlg'): 17776,\n",
       "             WindowsPath('/snwqjgj/zldscsc/fmzvccvg'): 466588,\n",
       "             WindowsPath('/snwqjgj/zldscsc/fmzvccvg/crm'): 397589,\n",
       "             WindowsPath('/snwqjgj/zldscsc/fmzvccvg/mzsfcvgv'): 51223,\n",
       "             WindowsPath('/snwqjgj/zldscsc/prdfldrf'): 213872,\n",
       "             WindowsPath('/snwqjgj/zldscsc/sgpdqw'): 205684,\n",
       "             WindowsPath('/snwqjgj/zldscsc/wjdpws/hlvpfw'): 324522,\n",
       "             WindowsPath('/snwqjgj/zldscsc/wjdpws'): 324522,\n",
       "             WindowsPath('/zddrb'): 18070237,\n",
       "             WindowsPath('/zddrb/pgbgpn'): 7756031,\n",
       "             WindowsPath('/zddrb/pgbgpn/jpmvrvt'): 150157,\n",
       "             WindowsPath('/zddrb/pgbgpn/mzsfcvgv'): 452018,\n",
       "             WindowsPath('/zddrb/pgbgpn/mzsfcvgv/slzdbm'): 358208,\n",
       "             WindowsPath('/zddrb/pgbgpn/mzsfcvgv/slzdbm/jnwr'): 183686,\n",
       "             WindowsPath('/zddrb/pgbgpn/vvmwgngv/bqc'): 3461431,\n",
       "             WindowsPath('/zddrb/pgbgpn/vvmwgngv'): 6999588,\n",
       "             WindowsPath('/zddrb/pgbgpn/vvmwgngv/bqc/lmnvtg'): 915750,\n",
       "             WindowsPath('/zddrb/pgbgpn/vvmwgngv/bqc/lmnvtg/dzdd/jnwr'): 71772,\n",
       "             WindowsPath('/zddrb/pgbgpn/vvmwgngv/bqc/lmnvtg/dzdd'): 71772,\n",
       "             WindowsPath('/zddrb/pgbgpn/vvmwgngv/bqc/lmnvtg/rnlctfm'): 306743,\n",
       "             WindowsPath('/zddrb/pgbgpn/vvmwgngv/bqc/lmnvtg/slzdbm'): 316131,\n",
       "             WindowsPath('/zddrb/pgbgpn/vvmwgngv/bqc/mzsfcvgv/nsvn/bcmd'): 292874,\n",
       "             WindowsPath('/zddrb/pgbgpn/vvmwgngv/bqc/mzsfcvgv/nsvn'): 774896,\n",
       "             WindowsPath('/zddrb/pgbgpn/vvmwgngv/bqc/mzsfcvgv'): 1781861,\n",
       "             WindowsPath('/zddrb/pgbgpn/vvmwgngv/bqc/mzsfcvgv/nsvn/jcjsp'): 188389,\n",
       "             WindowsPath('/zddrb/pgbgpn/vvmwgngv/bqc/mzsfcvgv/nsvn/jnwr'): 293633,\n",
       "             WindowsPath('/zddrb/pgbgpn/vvmwgngv/bqc/mzsfcvgv/plj'): 808768,\n",
       "             WindowsPath('/zddrb/pgbgpn/vvmwgngv/bqc/mzsfcvgv/tvmv'): 198197,\n",
       "             WindowsPath('/zddrb/pgbgpn/vvmwgngv/bqc/twzq/hwgndwpj/srdzqqf'): 101738,\n",
       "             WindowsPath('/zddrb/pgbgpn/vvmwgngv/bqc/twzq/hwgndwpj'): 101738,\n",
       "             WindowsPath('/zddrb/pgbgpn/vvmwgngv/bqc/twzq'): 101738,\n",
       "             WindowsPath('/zddrb/pgbgpn/vvmwgngv/mzsfcvgv/hlvpfw'): 270309,\n",
       "             WindowsPath('/zddrb/pgbgpn/vvmwgngv/mzsfcvgv'): 1015127,\n",
       "             WindowsPath('/zddrb/pgbgpn/vvmwgngv/mzsfcvgv/vbdw/csw'): 744818,\n",
       "             WindowsPath('/zddrb/pgbgpn/vvmwgngv/mzsfcvgv/vbdw'): 744818,\n",
       "             WindowsPath('/zddrb/pgbgpn/vvmwgngv/qgj'): 1919401,\n",
       "             WindowsPath('/zddrb/pgbgpn/vvmwgngv/qgj/lmp/jnwr'): 284951,\n",
       "             WindowsPath('/zddrb/pgbgpn/vvmwgngv/qgj/lmp'): 284951,\n",
       "             WindowsPath('/zddrb/pgbgpn/vvmwgngv/qgj/slzdbm'): 779158,\n",
       "             WindowsPath('/zddrb/pgbgpn/vvmwgngv/qgj/slzdbm/jnwr'): 432671,\n",
       "             WindowsPath('/zddrb/pgbgpn/vvmwgngv/qgj/slzdbm/slzdbm'): 68393,\n",
       "             WindowsPath('/zddrb/pgbgpn/vvmwgngv/qgj/tzth'): 159354,\n",
       "             WindowsPath('/zddrb/pgbgpn/vvmwgngv/wfjzls'): 603629,\n",
       "             WindowsPath('/zddrb/pgbgpn/vvmwgngv/wfjzls/qvmdt'): 244001,\n",
       "             WindowsPath('/zddrb/slzdbm'): 4095947,\n",
       "             WindowsPath('/zddrb/slzdbm/hsvbbbp'): 821426,\n",
       "             WindowsPath('/zddrb/slzdbm/hsvbbbp/vpwf'): 349919,\n",
       "             WindowsPath('/zddrb/slzdbm/hsvbbbp/zhngz'): 181282,\n",
       "             WindowsPath('/zddrb/slzdbm/jdtrdgqs'): 37106,\n",
       "             WindowsPath('/zddrb/slzdbm/lrldsqcr/brwcprn/bmjwts'): 408544,\n",
       "             WindowsPath('/zddrb/slzdbm/lrldsqcr/brwcprn'): 408544,\n",
       "             WindowsPath('/zddrb/slzdbm/lrldsqcr'): 1871858,\n",
       "             WindowsPath('/zddrb/slzdbm/lrldsqcr/hlvpfw'): 121723,\n",
       "             WindowsPath('/zddrb/slzdbm/lrldsqcr/jnwr'): 240747,\n",
       "             WindowsPath('/zddrb/slzdbm/lrldsqcr/slzdbm'): 454015,\n",
       "             WindowsPath('/zddrb/slzdbm/lrldsqcr/wrmr'): 90357,\n",
       "             WindowsPath('/zddrb/slzdbm/lrldsqcr/zjrdgf'): 314621,\n",
       "             WindowsPath('/zddrb/slzdbm/lrldsqcr/zrpqf'): 241851,\n",
       "             WindowsPath('/zddrb/slzdbm/nzcbqzdz'): 1171420,\n",
       "             WindowsPath('/zddrb/slzdbm/nzcbqzdz/qwjgb'): 388084,\n",
       "             WindowsPath('/zddrb/zdhcp/hbggp'): 415145,\n",
       "             WindowsPath('/zddrb/zdhcp'): 5362031,\n",
       "             WindowsPath('/zddrb/zdhcp/mzsfcvgv/gpz'): 448812,\n",
       "             WindowsPath('/zddrb/zdhcp/mzsfcvgv'): 4327113,\n",
       "             WindowsPath('/zddrb/zdhcp/mzsfcvgv/slzdbm/hlvpfw'): 49287,\n",
       "             WindowsPath('/zddrb/zdhcp/mzsfcvgv/slzdbm'): 512340,\n",
       "             WindowsPath('/zddrb/zdhcp/mzsfcvgv/slzdbm/mzsfcvgv'): 398645,\n",
       "             WindowsPath('/zddrb/zdhcp/mzsfcvgv/slzdbm/mzsfcvgv/gnmtggs'): 31665,\n",
       "             WindowsPath('/zddrb/zdhcp/mzsfcvgv/slzdbm/zdcthssc'): 64408,\n",
       "             WindowsPath('/zddrb/zdhcp/mzsfcvgv/zvjv'): 3365961,\n",
       "             WindowsPath('/zddrb/zdhcp/mzsfcvgv/zvjv/mgcg/ngwvm'): 49186,\n",
       "             WindowsPath('/zddrb/zdhcp/mzsfcvgv/zvjv/mgcg'): 2036798,\n",
       "             WindowsPath('/zddrb/zdhcp/mzsfcvgv/zvjv/mgcg/slzdbm'): 44434,\n",
       "             WindowsPath('/zddrb/zdhcp/mzsfcvgv/zvjv/mgcg/smd'): 820238,\n",
       "             WindowsPath('/zddrb/zdhcp/mzsfcvgv/zvjv/mgcg/smd/fjd'): 14084,\n",
       "             WindowsPath('/zddrb/zdhcp/mzsfcvgv/zvjv/mgcg/smd/rscdvnwt'): 6432,\n",
       "             WindowsPath('/zddrb/zdhcp/mzsfcvgv/zvjv/mgcg/smd/wbhp'): 481556,\n",
       "             WindowsPath('/zddrb/zdhcp/mzsfcvgv/zvjv/mgcg/smd/wbhp/czv'): 60750,\n",
       "             WindowsPath('/zddrb/zdhcp/mzsfcvgv/zvjv/mgcg/smr'): 47204,\n",
       "             WindowsPath('/zddrb/zdhcp/mzsfcvgv/zvjv/mgcg/zcgrgff'): 1075736,\n",
       "             WindowsPath('/zddrb/zdhcp/mzsfcvgv/zvjv/mgcg/zcgrgff/mzsfcvgv/jnwr'): 20405,\n",
       "             WindowsPath('/zddrb/zdhcp/mzsfcvgv/zvjv/mgcg/zcgrgff/mzsfcvgv'): 20405,\n",
       "             WindowsPath('/zddrb/zdhcp/mzsfcvgv/zvjv/nwl'): 464942,\n",
       "             WindowsPath('/zddrb/zdhcp/mzsfcvgv/zvjv/rqznjmt'): 584534,\n",
       "             WindowsPath('/zddrb/zdhcp/zdsvth'): 619773,\n",
       "             WindowsPath('/zddrb/zdhcp/zdsvth/njhjrgmf'): 295762})"
      ]
     },
     "execution_count": 21,
     "metadata": {},
     "output_type": "execute_result"
    }
   ],
   "source": [
    "size_data = get_size_dirs(data)\n",
    "size_data\n"
   ]
  },
  {
   "cell_type": "code",
   "execution_count": 35,
   "metadata": {},
   "outputs": [
    {
     "name": "stdout",
     "output_type": "stream",
     "text": [
      "Solution: 6999588\n"
     ]
    }
   ],
   "source": [
    "solution = min(v for v in size_data.values() if TOTAL_SIZE - size_data[Path(\"/\")] + v > NEEDED_SPACE)\n",
    "print(f\"Solution: {solution}\")"
   ]
  },
  {
   "cell_type": "markdown",
   "metadata": {},
   "source": [
    "# Day 8"
   ]
  },
  {
   "cell_type": "code",
   "execution_count": 5,
   "metadata": {},
   "outputs": [
    {
     "data": {
      "text/html": [
       "✔️Input already exists in <a href=\"inputs/08.txt\">inputs/08.txt</a>"
      ],
      "text/plain": [
       "<IPython.core.display.HTML object>"
      ]
     },
     "execution_count": 5,
     "metadata": {},
     "output_type": "execute_result"
    },
    {
     "data": {
      "text/html": [
       "✅Variables <code>input_path</code> and <code>data</code> set"
      ],
      "text/plain": [
       "<IPython.core.display.HTML object>"
      ]
     },
     "execution_count": 5,
     "metadata": {},
     "output_type": "execute_result"
    }
   ],
   "source": [
    "%get_daily_input 8"
   ]
  },
  {
   "cell_type": "code",
   "execution_count": 6,
   "metadata": {},
   "outputs": [],
   "source": [
    "MINI_DATA = \"\"\"\\\n",
    "30373\n",
    "25512\n",
    "65332\n",
    "33549\n",
    "35390\n",
    "\"\"\""
   ]
  },
  {
   "cell_type": "code",
   "execution_count": 90,
   "metadata": {},
   "outputs": [
    {
     "data": {
      "text/plain": [
       "array([[3, 0, 3, 7, 3],\n",
       "       [2, 5, 5, 1, 2],\n",
       "       [6, 5, 3, 3, 2],\n",
       "       [3, 3, 5, 4, 9],\n",
       "       [3, 5, 3, 9, 0]])"
      ]
     },
     "execution_count": 90,
     "metadata": {},
     "output_type": "execute_result"
    }
   ],
   "source": [
    "# Check trees visible from outside based on height\n",
    "\n",
    "import numpy as np\n",
    "import numpy.typing as npt\n",
    "\n",
    "IntMatrix = npt.NDArray[np.int64]\n",
    "BoolMatrix = npt.NDArray[np.bool_]\n",
    "\n",
    "\n",
    "def get_trees(data: str) -> IntMatrix:\n",
    "    matrix = np.array([[int(nb) for nb in line] for line in data.splitlines()])\n",
    "    return matrix\n",
    "\n",
    "\n",
    "matrix = get_trees(MINI_DATA)\n",
    "matrix\n"
   ]
  },
  {
   "cell_type": "code",
   "execution_count": 26,
   "metadata": {},
   "outputs": [
    {
     "data": {
      "text/plain": [
       "array([[ True,  True,  True,  True,  True],\n",
       "       [ True,  True,  True, False,  True],\n",
       "       [ True,  True, False,  True,  True],\n",
       "       [ True, False,  True, False,  True],\n",
       "       [ True,  True,  True,  True,  True]])"
      ]
     },
     "execution_count": 26,
     "metadata": {},
     "output_type": "execute_result"
    }
   ],
   "source": [
    "def is_visible(matrix: IntMatrix) -> BoolMatrix:\n",
    "    \"\"\"Create a boolean matrix where True means the number is visible\"\"\"\n",
    "    visible = np.zeros_like(matrix, dtype=bool)\n",
    "    for i in range(matrix.shape[0]):\n",
    "        for j in range(matrix.shape[1]):\n",
    "            if (\n",
    "                np.all(matrix[i, :j] < matrix[i, j])\n",
    "                or np.all(matrix[i, j + 1 :] < matrix[i, j])\n",
    "                or np.all(matrix[:i, j] < matrix[i, j])\n",
    "                or np.all(matrix[i + 1 :, j] < matrix[i, j])\n",
    "            ):\n",
    "                visible[i, j] = True\n",
    "    return visible\n",
    "\n",
    "\n",
    "visible = is_visible(matrix)\n",
    "visible\n"
   ]
  },
  {
   "cell_type": "code",
   "execution_count": 58,
   "metadata": {},
   "outputs": [
    {
     "data": {
      "text/plain": [
       "21"
      ]
     },
     "execution_count": 58,
     "metadata": {},
     "output_type": "execute_result"
    }
   ],
   "source": [
    "def compute_nb_visible(data:str) -> int:\n",
    "    \"\"\"Compute the number of visible trees\"\"\"\n",
    "    matrix = get_trees(data)\n",
    "    visible = is_visible(matrix)\n",
    "    return np.sum(visible)\n",
    "\n",
    "compute_nb_visible(MINI_DATA)"
   ]
  },
  {
   "cell_type": "code",
   "execution_count": 21,
   "metadata": {},
   "outputs": [
    {
     "data": {
      "text/plain": [
       "1851"
      ]
     },
     "execution_count": 21,
     "metadata": {},
     "output_type": "execute_result"
    }
   ],
   "source": [
    "solution = compute_nb_visible(data)\n",
    "print(f\"Solution: {solution}\")\n",
    "# submit(solution, day=8)"
   ]
  },
  {
   "cell_type": "code",
   "execution_count": 93,
   "metadata": {},
   "outputs": [
    {
     "data": {
      "text/plain": [
       "8"
      ]
     },
     "execution_count": 93,
     "metadata": {},
     "output_type": "execute_result"
    }
   ],
   "source": [
    "from typing import List\n",
    "\n",
    "IntArray = npt.NDArray[np.int64]\n",
    "\n",
    "def get_nb_trees_visible(height: int, other_trees: IntArray) -> int:\n",
    "    \"\"\"Compute the number of trees visible from the current tree\"\"\"\n",
    "    # print(height, other_trees)\n",
    "    nb_trees_visible = 0\n",
    "    for other_height in other_trees:\n",
    "        nb_trees_visible += 1\n",
    "        if other_height >= height:\n",
    "            break\n",
    "\n",
    "    return nb_trees_visible\n",
    "\n",
    "\n",
    "def get_viewing_distance(matrix:IntMatrix) -> IntMatrix:\n",
    "    \"\"\"Create an integer matrix where the value is the multiplication of all numbers visible from the current number\"\"\"\n",
    "    score = np.zeros_like(matrix, dtype=int)\n",
    "    for i in range(matrix.shape[0]):\n",
    "        for j in range(matrix.shape[1]):\n",
    "            height = matrix[i, j]\n",
    "            # print(f\"Position: {i, j}, height: {height}\")\n",
    "            score[i, j] = (\n",
    "                get_nb_trees_visible(height, matrix[i, :j][::-1])\n",
    "                * get_nb_trees_visible(height, matrix[i, j + 1 :])\n",
    "                * get_nb_trees_visible(height, matrix[:i, j][::-1])\n",
    "                * get_nb_trees_visible(height, matrix[i + 1 :, j])\n",
    "            )\n",
    "    return score\n",
    "\n",
    "# get_nb_trees_visible(5, [3, 5, 3, 1])\n",
    "\n",
    "def get_max_score(data:str) -> int:\n",
    "    \"\"\"Compute the maximum score for visibility\"\"\"\n",
    "    matrix = get_trees(data)\n",
    "    scores = get_viewing_distance(matrix)\n",
    "    return scores.max()\n",
    "\n",
    "get_max_score(MINI_DATA)"
   ]
  },
  {
   "cell_type": "code",
   "execution_count": 54,
   "metadata": {},
   "outputs": [
    {
     "name": "stdout",
     "output_type": "stream",
     "text": [
      "Solution: 574080\n"
     ]
    },
    {
     "name": "stderr",
     "output_type": "stream",
     "text": [
      "answer a: 1851\n",
      "submitting for part b (part a is already completed)\n"
     ]
    },
    {
     "name": "stdout",
     "output_type": "stream",
     "text": [
      "That's the right answer!  You are one gold star closer to collecting enough star fruit.You have completed Day 8! You can [Shareon\n",
      "  Twitter\n",
      "Mastodon] this victory or [Return to Your Advent Calendar].\n"
     ]
    },
    {
     "data": {
      "text/plain": [
       "<Response [200]>"
      ]
     },
     "execution_count": 54,
     "metadata": {},
     "output_type": "execute_result"
    }
   ],
   "source": [
    "solution = get_max_score(data)\n",
    "print(f\"Solution: {solution}\")\n",
    "# submit(solution, day=8)\n"
   ]
  },
  {
   "cell_type": "markdown",
   "metadata": {},
   "source": [
    "... just for fun, where will be the tree"
   ]
  },
  {
   "cell_type": "code",
   "execution_count": 119,
   "metadata": {},
   "outputs": [
    {
     "name": "stdout",
     "output_type": "stream",
     "text": [
      "(78, 52)\n",
      "...................................................................................................\n",
      "...................................................................................................\n",
      "...................................................................................................\n",
      "...................................................................................................\n",
      "...................................................................................................\n",
      "...................................................................................................\n",
      "...................................................................................................\n",
      "...................................................................................................\n",
      "...................................................................................................\n",
      "...................................................................................................\n",
      "...................................................................................................\n",
      "...................................................................................................\n",
      "...................................................................................................\n",
      "...................................................................................................\n",
      "...................................................................................................\n",
      "...................................................................................................\n",
      "...................................................................................................\n",
      "...................................................................................................\n",
      "...................................................................................................\n",
      "...................................................................................................\n",
      "...................................................................................................\n",
      "...................................................................................................\n",
      "...................................................................................................\n",
      "...................................................................................................\n",
      "...................................................................................................\n",
      "...................................................................................................\n",
      "...................................................................................................\n",
      "...................................................................................................\n",
      "...................................................................................................\n",
      "...................................................................................................\n",
      "...................................................................................................\n",
      "...................................................................................................\n",
      "...................................................................................................\n",
      "...................................................................................................\n",
      "...................................................................................................\n",
      "...................................................................................................\n",
      "...................................................................................................\n",
      "...................................................................................................\n",
      "...................................................................................................\n",
      "...................................................................................................\n",
      "...................................................................................................\n",
      "...................................................................................................\n",
      "...................................................................................................\n",
      "...................................................................................................\n",
      "...................................................................................................\n",
      "...................................................................................................\n",
      "...................................................................................................\n",
      "...................................................................................................\n",
      "...................................................................................................\n",
      "...................................................................................................\n",
      "...................................................................................................\n",
      "...................................................................................................\n",
      "...................................................................................................\n",
      "...................................................................................................\n",
      "...................................................................................................\n",
      "...................................................................................................\n",
      "...................................................................................................\n",
      "...................................................................................................\n",
      "...................................................................................................\n",
      "...................................................................................................\n",
      "...................................................................................................\n",
      "...................................................................................................\n",
      "...................................................................................................\n",
      "...................................................................................................\n",
      "...................................................................................................\n",
      "...................................................................................................\n",
      "....................................................8..............................................\n",
      "....................................................7..............................................\n",
      "....................................................7..............................................\n",
      "....................................................6..............................................\n",
      "....................................................7..............................................\n",
      "....................................................7..............................................\n",
      "....................................................6..............................................\n",
      "....................................................4..............................................\n",
      "....................................................6..............................................\n",
      "....................................................6..............................................\n",
      "....................................................4..............................................\n",
      "....................................................7..............................................\n",
      "222112401334143525542626632333656567434474637774546584457673644637336377754446633244133521224033240\n",
      "....................................................7..............................................\n",
      "....................................................6..............................................\n",
      "....................................................5..............................................\n",
      "....................................................7..............................................\n",
      "....................................................3..............................................\n",
      "....................................................3..............................................\n",
      "....................................................6..............................................\n",
      "....................................................6..............................................\n",
      "....................................................3..............................................\n",
      "....................................................2..............................................\n",
      "....................................................3..............................................\n",
      "....................................................2..............................................\n",
      "....................................................6..............................................\n",
      "....................................................5..............................................\n",
      "....................................................6..............................................\n",
      "....................................................1..............................................\n",
      "....................................................1..............................................\n",
      "....................................................4..............................................\n",
      "....................................................4..............................................\n",
      "....................................................3..............................................\n"
     ]
    }
   ],
   "source": [
    "from typing import Tuple\n",
    "\n",
    "BoolArray = npt.NDArray[np.bool_]\n",
    "\n",
    "# matrix = get_trees(MINI_DATA)\n",
    "matrix = get_trees(data)\n",
    "scores = get_viewing_distance(matrix)\n",
    "max_score = scores.argmax()\n",
    "position_tree_house = np.unravel_index(max_score, scores.shape)\n",
    "print(position_tree_house)\n",
    "\n",
    "def is_visible_from_tree_house(matrix: IntMatrix, position_tree_house: Tuple[int, int]) -> BoolMatrix:\n",
    "    \"\"\"Create a boolean matrix where True means the number is visible\"\"\"\n",
    "    visible = np.zeros_like(matrix, dtype=bool)\n",
    "    height_house = matrix[position_tree_house]\n",
    "\n",
    "    def is_row_visible(other_trees: IntArray, reversed:bool=False) -> BoolArray:\n",
    "        \"\"\"Check if the current tree is visible from the current row\"\"\"\n",
    "        result = np.zeros_like(other_trees, dtype=bool)\n",
    "        if reversed:\n",
    "            other_trees = other_trees[::-1]\n",
    "        for i, other_height in enumerate(other_trees):\n",
    "            result[i] = True\n",
    "            if other_height >= height_house:\n",
    "                break\n",
    "\n",
    "        return result if not reversed else result[::-1]\n",
    "\n",
    "    pos_i, pos_j = position_tree_house\n",
    "    visible[pos_i, :pos_j] = is_row_visible(matrix[pos_i, :pos_j], reversed=True)\n",
    "    visible[pos_i, pos_j + 1 :] = is_row_visible(matrix[pos_i, pos_j + 1 :])\n",
    "    visible[:pos_i, pos_j] = is_row_visible(matrix[:pos_i, pos_j], reversed=True)\n",
    "    visible[pos_i + 1 :, pos_j] = is_row_visible(matrix[pos_i + 1 :, pos_j])\n",
    "\n",
    "    return visible\n",
    "\n",
    "# Transform the matrix to show the visible trees from the tree house\n",
    "forest = matrix.copy()\n",
    "trees_visible = is_visible_from_tree_house(matrix, position_tree_house)\n",
    "forest[~trees_visible] = -1\n",
    "forest[position_tree_house] = matrix[position_tree_house]\n",
    "\n",
    "# As all numbers are 1 digit (0-9), we can just crumb them together without alignment\n",
    "# (otherwise, we would have to use a format on 2-3 spaces)\n",
    "# We can also add a space between them if it feels too crowded: `\" \".join(str(v) ...)`\n",
    "print(\"\\n\".join(\"\".join(str(v) if v != -1 else \".\" for v in line) for line in forest))"
   ]
  },
  {
   "cell_type": "markdown",
   "metadata": {},
   "source": [
    "# Day 9"
   ]
  },
  {
   "cell_type": "code",
   "execution_count": 4,
   "metadata": {},
   "outputs": [
    {
     "data": {
      "text/html": [
       "✅Input saved to <a href=\"inputs/09.txt\">inputs/09.txt</a>"
      ],
      "text/plain": [
       "<IPython.core.display.HTML object>"
      ]
     },
     "execution_count": 4,
     "metadata": {},
     "output_type": "execute_result"
    },
    {
     "data": {
      "text/html": [
       "✅Variables <code>input_path</code> and <code>data</code> set"
      ],
      "text/plain": [
       "<IPython.core.display.HTML object>"
      ]
     },
     "execution_count": 4,
     "metadata": {},
     "output_type": "execute_result"
    }
   ],
   "source": [
    "%get_daily_input 9"
   ]
  },
  {
   "cell_type": "code",
   "execution_count": 5,
   "metadata": {},
   "outputs": [],
   "source": [
    "MINI_DATA = \"\"\"\n",
    "R 4\n",
    "U 4\n",
    "L 3\n",
    "D 1\n",
    "R 4\n",
    "D 1\n",
    "L 5\n",
    "R 2\n",
    "\"\"\""
   ]
  },
  {
   "cell_type": "code",
   "execution_count": 33,
   "metadata": {},
   "outputs": [
    {
     "name": "stdout",
     "output_type": "stream",
     "text": [
      "R 4\n",
      "New head position: (0, 1)\n",
      "New tail position: (0, 0)\n",
      "----\n",
      "New head position: (0, 2)\n",
      "New tail position: (0, 1)\n",
      "----\n",
      "New head position: (0, 3)\n",
      "New tail position: (0, 2)\n",
      "----\n",
      "New head position: (0, 4)\n",
      "New tail position: (0, 3)\n",
      "----\n",
      "U 4\n",
      "New head position: (1, 4)\n",
      "New tail position: (0, 3)\n",
      "----\n",
      "New head position: (2, 4)\n",
      "New tail position: (1, 4)\n",
      "----\n",
      "New head position: (3, 4)\n",
      "New tail position: (2, 4)\n",
      "----\n",
      "New head position: (4, 4)\n",
      "New tail position: (3, 4)\n",
      "----\n",
      "L 3\n",
      "New head position: (4, 3)\n",
      "New tail position: (3, 4)\n",
      "----\n",
      "New head position: (4, 2)\n",
      "New tail position: (4, 3)\n",
      "----\n",
      "New head position: (4, 1)\n",
      "New tail position: (4, 2)\n",
      "----\n",
      "D 1\n",
      "New head position: (3, 1)\n",
      "New tail position: (4, 2)\n",
      "----\n",
      "R 4\n",
      "New head position: (3, 2)\n",
      "New tail position: (4, 2)\n",
      "----\n",
      "New head position: (3, 3)\n",
      "New tail position: (4, 2)\n",
      "----\n",
      "New head position: (3, 4)\n",
      "New tail position: (3, 3)\n",
      "----\n",
      "New head position: (3, 5)\n",
      "New tail position: (3, 4)\n",
      "----\n",
      "D 1\n",
      "New head position: (2, 5)\n",
      "New tail position: (3, 4)\n",
      "----\n",
      "L 5\n",
      "New head position: (2, 4)\n",
      "New tail position: (3, 4)\n",
      "----\n",
      "New head position: (2, 3)\n",
      "New tail position: (3, 4)\n",
      "----\n",
      "New head position: (2, 2)\n",
      "New tail position: (2, 3)\n",
      "----\n",
      "New head position: (2, 1)\n",
      "New tail position: (2, 2)\n",
      "----\n",
      "New head position: (2, 0)\n",
      "New tail position: (2, 1)\n",
      "----\n",
      "R 2\n",
      "New head position: (2, 1)\n",
      "New tail position: (2, 1)\n",
      "----\n",
      "New head position: (2, 2)\n",
      "New tail position: (2, 1)\n",
      "----\n",
      "Visited positions: [(0, 0), (0, 1), (0, 2), (0, 3), (1, 4), (2, 1), (2, 2), (2, 3), (2, 4), (3, 3), (3, 4), (4, 2), (4, 3)]\n",
      "Number of visited positions: 13\n"
     ]
    }
   ],
   "source": [
    "import re\n",
    "\n",
    "from typing import List, Set, Tuple\n",
    "\n",
    "Pos = Tuple[int, int]\n",
    "\n",
    "\n",
    "\n",
    "def get_new_pos_head(current_pos: Pos, direction: str, distance: int = 1) -> Pos:\n",
    "    \"\"\"Compute the new position of the head\"\"\"\n",
    "    if direction == \"R\":\n",
    "        return (current_pos[0], current_pos[1] + distance)\n",
    "    if direction == \"L\":\n",
    "        return (current_pos[0], current_pos[1] - distance)\n",
    "    if direction == \"U\":\n",
    "        return (current_pos[0] + distance, current_pos[1])\n",
    "    if direction == \"D\":\n",
    "        return (current_pos[0] - distance, current_pos[1])\n",
    "\n",
    "    raise ValueError(f\"Unknown direction: {direction}\")\n",
    "\n",
    "\n",
    "def get_new_pos_tail(pos: Pos, h: Pos) -> Pos:\n",
    "    \"\"\"Move towards head if distance of 2 in one direction,\n",
    "    or 1 in diagonal if both x and y different\n",
    "    \"\"\"\n",
    "    if abs(pos[0] - h[0]) * abs(pos[1] - h[1]) >= 2:\n",
    "        return (\n",
    "            pos[0] + (1 if pos[0] < h[0] else -1),\n",
    "            pos[1] + (1 if pos[1] < h[1] else -1),\n",
    "        )\n",
    "    if abs(pos[0] - h[0]) == 2:\n",
    "        return (\n",
    "            pos[0] + (1 if pos[0] < h[0] else -1),\n",
    "            pos[1],\n",
    "        )\n",
    "    if abs(pos[1] - h[1]) == 2:\n",
    "        return (\n",
    "            pos[0],\n",
    "            pos[1] + (1 if pos[1] < h[1] else -1),\n",
    "        )\n",
    "    return pos\n",
    "\n",
    "\n",
    "def get_positions_visited(data:str, verbose:bool=True) -> Set[Pos]:\n",
    "    positions_visited: Set[Pos] = {(0, 0)}\n",
    "    current_pos_head: Pos = (0, 0)\n",
    "    current_pos_tail: Pos = (0, 0)\n",
    "\n",
    "    for direction, distance in re.findall(r\"([LRUD]) (\\d+)\", data):\n",
    "        distance = int(distance)\n",
    "        if verbose:\n",
    "            print(direction, distance)\n",
    "        for _ in range(distance):\n",
    "            current_pos_head = get_new_pos_head(current_pos_head, direction)\n",
    "            current_pos_tail = get_new_pos_tail(current_pos_tail, current_pos_head)\n",
    "            positions_visited.add(current_pos_tail)\n",
    "            if verbose:\n",
    "                print(f\"New head position: {current_pos_head}\")\n",
    "                print(f\"New tail position: {current_pos_tail}\")\n",
    "                print(\"----\")\n",
    "\n",
    "    return positions_visited\n",
    "\n",
    "positions_visited = get_positions_visited(MINI_DATA)\n",
    "\n",
    "print(f\"Visited positions: {sorted(positions_visited)}\")\n",
    "print(f\"Number of visited positions: {len(positions_visited)}\")\n"
   ]
  },
  {
   "cell_type": "code",
   "execution_count": 35,
   "metadata": {},
   "outputs": [
    {
     "name": "stdout",
     "output_type": "stream",
     "text": [
      "Solution: 6337\n"
     ]
    },
    {
     "name": "stderr",
     "output_type": "stream",
     "text": [
      "answer a: None\n",
      "submitting for part a\n"
     ]
    },
    {
     "name": "stdout",
     "output_type": "stream",
     "text": [
      "That's the right answer!  You are one gold star closer to collecting enough star fruit. [Continue to Part Two]\n"
     ]
    },
    {
     "data": {
      "text/plain": [
       "<Response [200]>"
      ]
     },
     "execution_count": 35,
     "metadata": {},
     "output_type": "execute_result"
    }
   ],
   "source": [
    "positions_visited = get_positions_visited(data, verbose=False)\n",
    "solution = len(positions_visited)\n",
    "print(f\"Solution: {solution}\")\n",
    "submit(solution, day=9)"
   ]
  },
  {
   "cell_type": "code",
   "execution_count": 37,
   "metadata": {},
   "outputs": [],
   "source": [
    "MINI_DATA_2 = \"\"\"\n",
    "R 5\n",
    "U 8\n",
    "L 8\n",
    "D 3\n",
    "R 17\n",
    "D 10\n",
    "L 25\n",
    "U 20\n",
    "\"\"\""
   ]
  },
  {
   "cell_type": "code",
   "execution_count": 44,
   "metadata": {},
   "outputs": [
    {
     "name": "stdout",
     "output_type": "stream",
     "text": [
      "R 5\n",
      "New rope position: [(0, 1), (0, 0), (0, 0), (0, 0), (0, 0), (0, 0), (0, 0), (0, 0), (0, 0), (0, 0)]\n",
      "New rope position: [(0, 2), (0, 1), (0, 0), (0, 0), (0, 0), (0, 0), (0, 0), (0, 0), (0, 0), (0, 0)]\n",
      "New rope position: [(0, 3), (0, 2), (0, 1), (0, 0), (0, 0), (0, 0), (0, 0), (0, 0), (0, 0), (0, 0)]\n",
      "New rope position: [(0, 4), (0, 3), (0, 2), (0, 1), (0, 0), (0, 0), (0, 0), (0, 0), (0, 0), (0, 0)]\n",
      "New rope position: [(0, 5), (0, 4), (0, 3), (0, 2), (0, 1), (0, 0), (0, 0), (0, 0), (0, 0), (0, 0)]\n",
      "U 8\n",
      "New rope position: [(1, 5), (0, 4), (0, 3), (0, 2), (0, 1), (0, 0), (0, 0), (0, 0), (0, 0), (0, 0)]\n",
      "New rope position: [(2, 5), (1, 5), (1, 4), (1, 3), (1, 2), (1, 1), (0, 0), (0, 0), (0, 0), (0, 0)]\n",
      "New rope position: [(3, 5), (2, 5), (1, 4), (1, 3), (1, 2), (1, 1), (0, 0), (0, 0), (0, 0), (0, 0)]\n",
      "New rope position: [(4, 5), (3, 5), (2, 5), (2, 4), (2, 3), (2, 2), (1, 1), (0, 0), (0, 0), (0, 0)]\n",
      "New rope position: [(5, 5), (4, 5), (3, 5), (2, 4), (2, 3), (2, 2), (1, 1), (0, 0), (0, 0), (0, 0)]\n",
      "New rope position: [(6, 5), (5, 5), (4, 5), (3, 5), (3, 4), (3, 3), (2, 2), (1, 1), (0, 0), (0, 0)]\n",
      "New rope position: [(7, 5), (6, 5), (5, 5), (4, 5), (3, 4), (3, 3), (2, 2), (1, 1), (0, 0), (0, 0)]\n",
      "New rope position: [(8, 5), (7, 5), (6, 5), (5, 5), (4, 5), (4, 4), (3, 3), (2, 2), (1, 1), (0, 0)]\n",
      "L 8\n",
      "New rope position: [(8, 4), (7, 5), (6, 5), (5, 5), (4, 5), (4, 4), (3, 3), (2, 2), (1, 1), (0, 0)]\n",
      "New rope position: [(8, 3), (8, 4), (7, 4), (6, 4), (5, 4), (4, 4), (3, 3), (2, 2), (1, 1), (0, 0)]\n",
      "New rope position: [(8, 2), (8, 3), (7, 4), (6, 4), (5, 4), (4, 4), (3, 3), (2, 2), (1, 1), (0, 0)]\n",
      "New rope position: [(8, 1), (8, 2), (8, 3), (7, 3), (6, 3), (5, 3), (4, 3), (3, 3), (2, 2), (1, 1)]\n",
      "New rope position: [(8, 0), (8, 1), (8, 2), (7, 3), (6, 3), (5, 3), (4, 3), (3, 3), (2, 2), (1, 1)]\n",
      "New rope position: [(8, -1), (8, 0), (8, 1), (8, 2), (7, 2), (6, 2), (5, 2), (4, 2), (3, 2), (2, 2)]\n",
      "New rope position: [(8, -2), (8, -1), (8, 0), (8, 1), (7, 2), (6, 2), (5, 2), (4, 2), (3, 2), (2, 2)]\n",
      "New rope position: [(8, -3), (8, -2), (8, -1), (8, 0), (8, 1), (7, 1), (6, 1), (5, 1), (4, 1), (3, 1)]\n",
      "D 3\n",
      "New rope position: [(7, -3), (8, -2), (8, -1), (8, 0), (8, 1), (7, 1), (6, 1), (5, 1), (4, 1), (3, 1)]\n",
      "New rope position: [(6, -3), (7, -3), (7, -2), (7, -1), (7, 0), (7, 1), (6, 1), (5, 1), (4, 1), (3, 1)]\n",
      "New rope position: [(5, -3), (6, -3), (7, -2), (7, -1), (7, 0), (7, 1), (6, 1), (5, 1), (4, 1), (3, 1)]\n",
      "R 17\n",
      "New rope position: [(5, -2), (6, -3), (7, -2), (7, -1), (7, 0), (7, 1), (6, 1), (5, 1), (4, 1), (3, 1)]\n",
      "New rope position: [(5, -1), (5, -2), (6, -2), (7, -1), (7, 0), (7, 1), (6, 1), (5, 1), (4, 1), (3, 1)]\n",
      "New rope position: [(5, 0), (5, -1), (6, -2), (7, -1), (7, 0), (7, 1), (6, 1), (5, 1), (4, 1), (3, 1)]\n",
      "New rope position: [(5, 1), (5, 0), (5, -1), (6, -1), (7, 0), (7, 1), (6, 1), (5, 1), (4, 1), (3, 1)]\n",
      "New rope position: [(5, 2), (5, 1), (5, 0), (6, -1), (7, 0), (7, 1), (6, 1), (5, 1), (4, 1), (3, 1)]\n",
      "New rope position: [(5, 3), (5, 2), (5, 1), (5, 0), (6, 0), (7, 1), (6, 1), (5, 1), (4, 1), (3, 1)]\n",
      "New rope position: [(5, 4), (5, 3), (5, 2), (5, 1), (6, 0), (7, 1), (6, 1), (5, 1), (4, 1), (3, 1)]\n",
      "New rope position: [(5, 5), (5, 4), (5, 3), (5, 2), (5, 1), (6, 1), (6, 1), (5, 1), (4, 1), (3, 1)]\n",
      "New rope position: [(5, 6), (5, 5), (5, 4), (5, 3), (5, 2), (6, 1), (6, 1), (5, 1), (4, 1), (3, 1)]\n",
      "New rope position: [(5, 7), (5, 6), (5, 5), (5, 4), (5, 3), (5, 2), (6, 1), (5, 1), (4, 1), (3, 1)]\n",
      "New rope position: [(5, 8), (5, 7), (5, 6), (5, 5), (5, 4), (5, 3), (5, 2), (5, 1), (4, 1), (3, 1)]\n",
      "New rope position: [(5, 9), (5, 8), (5, 7), (5, 6), (5, 5), (5, 4), (5, 3), (5, 2), (4, 1), (3, 1)]\n",
      "New rope position: [(5, 10), (5, 9), (5, 8), (5, 7), (5, 6), (5, 5), (5, 4), (5, 3), (5, 2), (4, 2)]\n",
      "New rope position: [(5, 11), (5, 10), (5, 9), (5, 8), (5, 7), (5, 6), (5, 5), (5, 4), (5, 3), (4, 2)]\n",
      "New rope position: [(5, 12), (5, 11), (5, 10), (5, 9), (5, 8), (5, 7), (5, 6), (5, 5), (5, 4), (5, 3)]\n",
      "New rope position: [(5, 13), (5, 12), (5, 11), (5, 10), (5, 9), (5, 8), (5, 7), (5, 6), (5, 5), (5, 4)]\n",
      "New rope position: [(5, 14), (5, 13), (5, 12), (5, 11), (5, 10), (5, 9), (5, 8), (5, 7), (5, 6), (5, 5)]\n",
      "D 10\n",
      "New rope position: [(4, 14), (5, 13), (5, 12), (5, 11), (5, 10), (5, 9), (5, 8), (5, 7), (5, 6), (5, 5)]\n",
      "New rope position: [(3, 14), (4, 14), (4, 13), (4, 12), (4, 11), (4, 10), (4, 9), (4, 8), (4, 7), (4, 6)]\n",
      "New rope position: [(2, 14), (3, 14), (4, 13), (4, 12), (4, 11), (4, 10), (4, 9), (4, 8), (4, 7), (4, 6)]\n",
      "New rope position: [(1, 14), (2, 14), (3, 14), (3, 13), (3, 12), (3, 11), (3, 10), (3, 9), (3, 8), (3, 7)]\n",
      "New rope position: [(0, 14), (1, 14), (2, 14), (3, 13), (3, 12), (3, 11), (3, 10), (3, 9), (3, 8), (3, 7)]\n",
      "New rope position: [(-1, 14), (0, 14), (1, 14), (2, 14), (2, 13), (2, 12), (2, 11), (2, 10), (2, 9), (2, 8)]\n",
      "New rope position: [(-2, 14), (-1, 14), (0, 14), (1, 14), (2, 13), (2, 12), (2, 11), (2, 10), (2, 9), (2, 8)]\n",
      "New rope position: [(-3, 14), (-2, 14), (-1, 14), (0, 14), (1, 14), (1, 13), (1, 12), (1, 11), (1, 10), (1, 9)]\n",
      "New rope position: [(-4, 14), (-3, 14), (-2, 14), (-1, 14), (0, 14), (1, 13), (1, 12), (1, 11), (1, 10), (1, 9)]\n",
      "New rope position: [(-5, 14), (-4, 14), (-3, 14), (-2, 14), (-1, 14), (0, 14), (0, 13), (0, 12), (0, 11), (0, 10)]\n",
      "L 25\n",
      "New rope position: [(-5, 13), (-4, 14), (-3, 14), (-2, 14), (-1, 14), (0, 14), (0, 13), (0, 12), (0, 11), (0, 10)]\n",
      "New rope position: [(-5, 12), (-5, 13), (-4, 13), (-3, 13), (-2, 13), (-1, 13), (0, 13), (0, 12), (0, 11), (0, 10)]\n",
      "New rope position: [(-5, 11), (-5, 12), (-4, 13), (-3, 13), (-2, 13), (-1, 13), (0, 13), (0, 12), (0, 11), (0, 10)]\n",
      "New rope position: [(-5, 10), (-5, 11), (-5, 12), (-4, 12), (-3, 12), (-2, 12), (-1, 12), (0, 12), (0, 11), (0, 10)]\n",
      "New rope position: [(-5, 9), (-5, 10), (-5, 11), (-4, 12), (-3, 12), (-2, 12), (-1, 12), (0, 12), (0, 11), (0, 10)]\n",
      "New rope position: [(-5, 8), (-5, 9), (-5, 10), (-5, 11), (-4, 11), (-3, 11), (-2, 11), (-1, 11), (0, 11), (0, 10)]\n",
      "New rope position: [(-5, 7), (-5, 8), (-5, 9), (-5, 10), (-4, 11), (-3, 11), (-2, 11), (-1, 11), (0, 11), (0, 10)]\n",
      "New rope position: [(-5, 6), (-5, 7), (-5, 8), (-5, 9), (-5, 10), (-4, 10), (-3, 10), (-2, 10), (-1, 10), (0, 10)]\n",
      "New rope position: [(-5, 5), (-5, 6), (-5, 7), (-5, 8), (-5, 9), (-4, 10), (-3, 10), (-2, 10), (-1, 10), (0, 10)]\n",
      "New rope position: [(-5, 4), (-5, 5), (-5, 6), (-5, 7), (-5, 8), (-5, 9), (-4, 9), (-3, 9), (-2, 9), (-1, 9)]\n",
      "New rope position: [(-5, 3), (-5, 4), (-5, 5), (-5, 6), (-5, 7), (-5, 8), (-4, 9), (-3, 9), (-2, 9), (-1, 9)]\n",
      "New rope position: [(-5, 2), (-5, 3), (-5, 4), (-5, 5), (-5, 6), (-5, 7), (-5, 8), (-4, 8), (-3, 8), (-2, 8)]\n",
      "New rope position: [(-5, 1), (-5, 2), (-5, 3), (-5, 4), (-5, 5), (-5, 6), (-5, 7), (-4, 8), (-3, 8), (-2, 8)]\n",
      "New rope position: [(-5, 0), (-5, 1), (-5, 2), (-5, 3), (-5, 4), (-5, 5), (-5, 6), (-5, 7), (-4, 7), (-3, 7)]\n",
      "New rope position: [(-5, -1), (-5, 0), (-5, 1), (-5, 2), (-5, 3), (-5, 4), (-5, 5), (-5, 6), (-4, 7), (-3, 7)]\n",
      "New rope position: [(-5, -2), (-5, -1), (-5, 0), (-5, 1), (-5, 2), (-5, 3), (-5, 4), (-5, 5), (-5, 6), (-4, 6)]\n",
      "New rope position: [(-5, -3), (-5, -2), (-5, -1), (-5, 0), (-5, 1), (-5, 2), (-5, 3), (-5, 4), (-5, 5), (-4, 6)]\n",
      "New rope position: [(-5, -4), (-5, -3), (-5, -2), (-5, -1), (-5, 0), (-5, 1), (-5, 2), (-5, 3), (-5, 4), (-5, 5)]\n",
      "New rope position: [(-5, -5), (-5, -4), (-5, -3), (-5, -2), (-5, -1), (-5, 0), (-5, 1), (-5, 2), (-5, 3), (-5, 4)]\n",
      "New rope position: [(-5, -6), (-5, -5), (-5, -4), (-5, -3), (-5, -2), (-5, -1), (-5, 0), (-5, 1), (-5, 2), (-5, 3)]\n",
      "New rope position: [(-5, -7), (-5, -6), (-5, -5), (-5, -4), (-5, -3), (-5, -2), (-5, -1), (-5, 0), (-5, 1), (-5, 2)]\n",
      "New rope position: [(-5, -8), (-5, -7), (-5, -6), (-5, -5), (-5, -4), (-5, -3), (-5, -2), (-5, -1), (-5, 0), (-5, 1)]\n",
      "New rope position: [(-5, -9), (-5, -8), (-5, -7), (-5, -6), (-5, -5), (-5, -4), (-5, -3), (-5, -2), (-5, -1), (-5, 0)]\n",
      "New rope position: [(-5, -10), (-5, -9), (-5, -8), (-5, -7), (-5, -6), (-5, -5), (-5, -4), (-5, -3), (-5, -2), (-5, -1)]\n",
      "New rope position: [(-5, -11), (-5, -10), (-5, -9), (-5, -8), (-5, -7), (-5, -6), (-5, -5), (-5, -4), (-5, -3), (-5, -2)]\n",
      "U 20\n",
      "New rope position: [(-4, -11), (-5, -10), (-5, -9), (-5, -8), (-5, -7), (-5, -6), (-5, -5), (-5, -4), (-5, -3), (-5, -2)]\n",
      "New rope position: [(-3, -11), (-4, -11), (-4, -10), (-4, -9), (-4, -8), (-4, -7), (-4, -6), (-4, -5), (-4, -4), (-4, -3)]\n",
      "New rope position: [(-2, -11), (-3, -11), (-4, -10), (-4, -9), (-4, -8), (-4, -7), (-4, -6), (-4, -5), (-4, -4), (-4, -3)]\n",
      "New rope position: [(-1, -11), (-2, -11), (-3, -11), (-3, -10), (-3, -9), (-3, -8), (-3, -7), (-3, -6), (-3, -5), (-3, -4)]\n",
      "New rope position: [(0, -11), (-1, -11), (-2, -11), (-3, -10), (-3, -9), (-3, -8), (-3, -7), (-3, -6), (-3, -5), (-3, -4)]\n",
      "New rope position: [(1, -11), (0, -11), (-1, -11), (-2, -11), (-2, -10), (-2, -9), (-2, -8), (-2, -7), (-2, -6), (-2, -5)]\n",
      "New rope position: [(2, -11), (1, -11), (0, -11), (-1, -11), (-2, -10), (-2, -9), (-2, -8), (-2, -7), (-2, -6), (-2, -5)]\n",
      "New rope position: [(3, -11), (2, -11), (1, -11), (0, -11), (-1, -11), (-1, -10), (-1, -9), (-1, -8), (-1, -7), (-1, -6)]\n",
      "New rope position: [(4, -11), (3, -11), (2, -11), (1, -11), (0, -11), (-1, -10), (-1, -9), (-1, -8), (-1, -7), (-1, -6)]\n",
      "New rope position: [(5, -11), (4, -11), (3, -11), (2, -11), (1, -11), (0, -11), (0, -10), (0, -9), (0, -8), (0, -7)]\n",
      "New rope position: [(6, -11), (5, -11), (4, -11), (3, -11), (2, -11), (1, -11), (0, -10), (0, -9), (0, -8), (0, -7)]\n",
      "New rope position: [(7, -11), (6, -11), (5, -11), (4, -11), (3, -11), (2, -11), (1, -11), (1, -10), (1, -9), (1, -8)]\n",
      "New rope position: [(8, -11), (7, -11), (6, -11), (5, -11), (4, -11), (3, -11), (2, -11), (1, -10), (1, -9), (1, -8)]\n",
      "New rope position: [(9, -11), (8, -11), (7, -11), (6, -11), (5, -11), (4, -11), (3, -11), (2, -11), (2, -10), (2, -9)]\n",
      "New rope position: [(10, -11), (9, -11), (8, -11), (7, -11), (6, -11), (5, -11), (4, -11), (3, -11), (2, -10), (2, -9)]\n",
      "New rope position: [(11, -11), (10, -11), (9, -11), (8, -11), (7, -11), (6, -11), (5, -11), (4, -11), (3, -11), (3, -10)]\n",
      "New rope position: [(12, -11), (11, -11), (10, -11), (9, -11), (8, -11), (7, -11), (6, -11), (5, -11), (4, -11), (3, -10)]\n",
      "New rope position: [(13, -11), (12, -11), (11, -11), (10, -11), (9, -11), (8, -11), (7, -11), (6, -11), (5, -11), (4, -11)]\n",
      "New rope position: [(14, -11), (13, -11), (12, -11), (11, -11), (10, -11), (9, -11), (8, -11), (7, -11), (6, -11), (5, -11)]\n",
      "New rope position: [(15, -11), (14, -11), (13, -11), (12, -11), (11, -11), (10, -11), (9, -11), (8, -11), (7, -11), (6, -11)]\n"
     ]
    },
    {
     "data": {
      "text/plain": [
       "36"
      ]
     },
     "execution_count": 44,
     "metadata": {},
     "output_type": "execute_result"
    }
   ],
   "source": [
    "\n",
    "def get_positions_visited_long(data:str, length:int = 9, verbose:bool=True) -> Set[Pos]:\n",
    "    positions_visited: Set[Pos] = {(0, 0)}\n",
    "    rope_positions: List[Pos] = [(0, 0)] * (length + 1)\n",
    "\n",
    "    for direction, distance in re.findall(r\"([LRUD]) (\\d+)\", data):\n",
    "        distance = int(distance)\n",
    "        if verbose:\n",
    "            print(direction, distance)\n",
    "        for _ in range(distance):\n",
    "            rope_positions[0] = get_new_pos_head(rope_positions[0], direction)\n",
    "            for i in range(1, length + 1):\n",
    "                rope_positions[i] = get_new_pos_tail(rope_positions[i], rope_positions[i - 1])\n",
    "            positions_visited.add(rope_positions[-1])\n",
    "            if verbose:\n",
    "                print(f\"New rope position: {rope_positions}\")\n",
    "\n",
    "    return positions_visited\n",
    "\n",
    "# positions_visited = get_positions_visited_long(MINI_DATA)\n",
    "# len(positions_visited)\n",
    "positions_visited = get_positions_visited_long(MINI_DATA_2)\n",
    "len(positions_visited)"
   ]
  },
  {
   "cell_type": "code",
   "execution_count": 45,
   "metadata": {},
   "outputs": [
    {
     "name": "stdout",
     "output_type": "stream",
     "text": [
      "Solution: 2455\n",
      "That's the right answer!  You are one gold star closer to collecting enough star fruit.You have completed Day 9! You can [Shareon\n",
      "  Twitter\n",
      "Mastodon] this victory or [Return to Your Advent Calendar].\n"
     ]
    },
    {
     "data": {
      "text/plain": [
       "<Response [200]>"
      ]
     },
     "execution_count": 45,
     "metadata": {},
     "output_type": "execute_result"
    }
   ],
   "source": [
    "positions_visited = get_positions_visited_long(data, verbose=False)\n",
    "solution = len(positions_visited)\n",
    "print(f\"Solution: {solution}\")\n",
    "submit(solution, day=9, part=2)"
   ]
  },
  {
   "cell_type": "markdown",
   "metadata": {},
   "source": [
    "# Day 10"
   ]
  },
  {
   "cell_type": "code",
   "execution_count": 35,
   "metadata": {},
   "outputs": [
    {
     "data": {
      "text/html": [
       "✔️Input already exists in <a href=\"inputs/10.txt\">inputs/10.txt</a>"
      ],
      "text/plain": [
       "<IPython.core.display.HTML object>"
      ]
     },
     "execution_count": 35,
     "metadata": {},
     "output_type": "execute_result"
    },
    {
     "data": {
      "text/html": [
       "✅Variables <code>input_path</code> and <code>data</code> set"
      ],
      "text/plain": [
       "<IPython.core.display.HTML object>"
      ]
     },
     "execution_count": 35,
     "metadata": {},
     "output_type": "execute_result"
    }
   ],
   "source": [
    "%get_daily_input 10 2022"
   ]
  },
  {
   "cell_type": "code",
   "execution_count": 36,
   "metadata": {},
   "outputs": [],
   "source": [
    "MINI_DATA = \"\"\"\\\n",
    "addx 15\n",
    "addx -11\n",
    "addx 6\n",
    "addx -3\n",
    "addx 5\n",
    "addx -1\n",
    "addx -8\n",
    "addx 13\n",
    "addx 4\n",
    "noop\n",
    "addx -1\n",
    "addx 5\n",
    "addx -1\n",
    "addx 5\n",
    "addx -1\n",
    "addx 5\n",
    "addx -1\n",
    "addx 5\n",
    "addx -1\n",
    "addx -35\n",
    "addx 1\n",
    "addx 24\n",
    "addx -19\n",
    "addx 1\n",
    "addx 16\n",
    "addx -11\n",
    "noop\n",
    "noop\n",
    "addx 21\n",
    "addx -15\n",
    "noop\n",
    "noop\n",
    "addx -3\n",
    "addx 9\n",
    "addx 1\n",
    "addx -3\n",
    "addx 8\n",
    "addx 1\n",
    "addx 5\n",
    "noop\n",
    "noop\n",
    "noop\n",
    "noop\n",
    "noop\n",
    "addx -36\n",
    "noop\n",
    "addx 1\n",
    "addx 7\n",
    "noop\n",
    "noop\n",
    "noop\n",
    "addx 2\n",
    "addx 6\n",
    "noop\n",
    "noop\n",
    "noop\n",
    "noop\n",
    "noop\n",
    "addx 1\n",
    "noop\n",
    "noop\n",
    "addx 7\n",
    "addx 1\n",
    "noop\n",
    "addx -13\n",
    "addx 13\n",
    "addx 7\n",
    "noop\n",
    "addx 1\n",
    "addx -33\n",
    "noop\n",
    "noop\n",
    "noop\n",
    "addx 2\n",
    "noop\n",
    "noop\n",
    "noop\n",
    "addx 8\n",
    "noop\n",
    "addx -1\n",
    "addx 2\n",
    "addx 1\n",
    "noop\n",
    "addx 17\n",
    "addx -9\n",
    "addx 1\n",
    "addx 1\n",
    "addx -3\n",
    "addx 11\n",
    "noop\n",
    "noop\n",
    "addx 1\n",
    "noop\n",
    "addx 1\n",
    "noop\n",
    "noop\n",
    "addx -13\n",
    "addx -19\n",
    "addx 1\n",
    "addx 3\n",
    "addx 26\n",
    "addx -30\n",
    "addx 12\n",
    "addx -1\n",
    "addx 3\n",
    "addx 1\n",
    "noop\n",
    "noop\n",
    "noop\n",
    "addx -9\n",
    "addx 18\n",
    "addx 1\n",
    "addx 2\n",
    "noop\n",
    "noop\n",
    "addx 9\n",
    "noop\n",
    "noop\n",
    "noop\n",
    "addx -1\n",
    "addx 2\n",
    "addx -37\n",
    "addx 1\n",
    "addx 3\n",
    "noop\n",
    "addx 15\n",
    "addx -21\n",
    "addx 22\n",
    "addx -6\n",
    "addx 1\n",
    "noop\n",
    "addx 2\n",
    "addx 1\n",
    "noop\n",
    "addx -10\n",
    "noop\n",
    "noop\n",
    "addx 20\n",
    "addx 1\n",
    "addx 2\n",
    "addx 2\n",
    "addx -6\n",
    "addx -11\n",
    "noop\n",
    "noop\n",
    "noop\n",
    "\"\"\""
   ]
  },
  {
   "cell_type": "code",
   "execution_count": 38,
   "metadata": {},
   "outputs": [
    {
     "data": {
      "text/plain": [
       "[1,\n",
       " 16,\n",
       " 16,\n",
       " 5,\n",
       " 5,\n",
       " 11,\n",
       " 11,\n",
       " 8,\n",
       " 8,\n",
       " 13,\n",
       " 13,\n",
       " 12,\n",
       " 12,\n",
       " 4,\n",
       " 4,\n",
       " 17,\n",
       " 17,\n",
       " 21,\n",
       " 21,\n",
       " 21,\n",
       " 20,\n",
       " 20,\n",
       " 25,\n",
       " 25,\n",
       " 24,\n",
       " 24,\n",
       " 29,\n",
       " 29,\n",
       " 28,\n",
       " 28,\n",
       " 33,\n",
       " 33,\n",
       " 32,\n",
       " 32,\n",
       " 37,\n",
       " 37,\n",
       " 36,\n",
       " 36,\n",
       " 1,\n",
       " 1,\n",
       " 2,\n",
       " 2,\n",
       " 26,\n",
       " 26,\n",
       " 7,\n",
       " 7,\n",
       " 8,\n",
       " 8,\n",
       " 24,\n",
       " 24,\n",
       " 13,\n",
       " 13,\n",
       " 13,\n",
       " 13,\n",
       " 34,\n",
       " 34,\n",
       " 19,\n",
       " 19,\n",
       " 19,\n",
       " 19,\n",
       " 16,\n",
       " 16,\n",
       " 25,\n",
       " 25,\n",
       " 26,\n",
       " 26,\n",
       " 23,\n",
       " 23,\n",
       " 31,\n",
       " 31,\n",
       " 32,\n",
       " 32,\n",
       " 37,\n",
       " 37,\n",
       " 37,\n",
       " 37,\n",
       " 37,\n",
       " 37,\n",
       " 37,\n",
       " 1,\n",
       " 1,\n",
       " 1,\n",
       " 2,\n",
       " 2,\n",
       " 9,\n",
       " 9,\n",
       " 9,\n",
       " 9,\n",
       " 9,\n",
       " 11,\n",
       " 11,\n",
       " 17,\n",
       " 17,\n",
       " 17,\n",
       " 17,\n",
       " 17,\n",
       " 17,\n",
       " 17,\n",
       " 18,\n",
       " 18,\n",
       " 18,\n",
       " 18,\n",
       " 25,\n",
       " 25,\n",
       " 26,\n",
       " 26,\n",
       " 26,\n",
       " 13,\n",
       " 13,\n",
       " 26,\n",
       " 26,\n",
       " 33,\n",
       " 33,\n",
       " 33,\n",
       " 34,\n",
       " 34,\n",
       " 1,\n",
       " 1,\n",
       " 1,\n",
       " 1,\n",
       " 1,\n",
       " 3,\n",
       " 3,\n",
       " 3,\n",
       " 3,\n",
       " 3,\n",
       " 11,\n",
       " 11,\n",
       " 11,\n",
       " 10,\n",
       " 10,\n",
       " 12,\n",
       " 12,\n",
       " 13,\n",
       " 13,\n",
       " 13,\n",
       " 30,\n",
       " 30,\n",
       " 21,\n",
       " 21,\n",
       " 22,\n",
       " 22,\n",
       " 23,\n",
       " 23,\n",
       " 20,\n",
       " 20,\n",
       " 31,\n",
       " 31,\n",
       " 31,\n",
       " 31,\n",
       " 32,\n",
       " 32,\n",
       " 32,\n",
       " 33,\n",
       " 33,\n",
       " 33,\n",
       " 33,\n",
       " 20,\n",
       " 20,\n",
       " 1,\n",
       " 1,\n",
       " 2,\n",
       " 2,\n",
       " 5,\n",
       " 5,\n",
       " 31,\n",
       " 31,\n",
       " 1,\n",
       " 1,\n",
       " 13,\n",
       " 13,\n",
       " 12,\n",
       " 12,\n",
       " 15,\n",
       " 15,\n",
       " 16,\n",
       " 16,\n",
       " 16,\n",
       " 16,\n",
       " 16,\n",
       " 7,\n",
       " 7,\n",
       " 25,\n",
       " 25,\n",
       " 26,\n",
       " 26,\n",
       " 28,\n",
       " 28,\n",
       " 28,\n",
       " 28,\n",
       " 37,\n",
       " 37,\n",
       " 37,\n",
       " 37,\n",
       " 37,\n",
       " 36,\n",
       " 36,\n",
       " 38,\n",
       " 38,\n",
       " 1,\n",
       " 1,\n",
       " 2,\n",
       " 2,\n",
       " 5,\n",
       " 5,\n",
       " 5,\n",
       " 20,\n",
       " 20,\n",
       " -1,\n",
       " -1,\n",
       " 21,\n",
       " 21,\n",
       " 15,\n",
       " 15,\n",
       " 16,\n",
       " 16,\n",
       " 16,\n",
       " 18,\n",
       " 18,\n",
       " 19,\n",
       " 19,\n",
       " 19,\n",
       " 9,\n",
       " 9,\n",
       " 9,\n",
       " 9,\n",
       " 29,\n",
       " 29,\n",
       " 30,\n",
       " 30,\n",
       " 32,\n",
       " 32,\n",
       " 34,\n",
       " 34,\n",
       " 28,\n",
       " 28,\n",
       " 17,\n",
       " 17,\n",
       " 17,\n",
       " 17]"
      ]
     },
     "execution_count": 38,
     "metadata": {},
     "output_type": "execute_result"
    }
   ],
   "source": [
    "# noop does nothing\n",
    "# addx adds the number to the current value after 2 cycles\n",
    "# We will use a queue to store the numbers to add\n",
    "\n",
    "from collections import deque\n",
    "from typing import List\n",
    "\n",
    "def get_values(data:str, cycles:int = 20) -> List[int]:\n",
    "    values: List[int] = []\n",
    "    current_value = 1\n",
    "    additions = deque()\n",
    "    lines = iter(data.splitlines())\n",
    "    line = next(lines, \"\")\n",
    "    while line or additions:\n",
    "        if line:\n",
    "            additions.append(0)\n",
    "        if line.startswith(\"addx\"):\n",
    "            additions.append(int(line.split()[1]))\n",
    "\n",
    "        current_value += additions.popleft()\n",
    "        values.append(current_value)\n",
    "        line = next(lines, \"\")\n",
    "\n",
    "    return values\n",
    "\n",
    "get_values(MINI_DATA)"
   ]
  },
  {
   "cell_type": "code",
   "execution_count": 39,
   "metadata": {},
   "outputs": [
    {
     "name": "stdout",
     "output_type": "stream",
     "text": [
      "[1, 16, 16, 5, 5, 11, 11, 8, 8, 13, 13, 12, 12, 4, 4, 17, 17, 21, 21, 21, 20, 20, 25, 25, 24, 24, 29, 29, 28, 28, 33, 33, 32, 32, 37, 37, 36, 36, 1, 1, 2, 2, 26, 26, 7, 7, 8, 8, 24, 24, 13, 13, 13, 13, 34, 34, 19, 19, 19, 19, 16, 16, 25, 25, 26, 26, 23, 23, 31, 31, 32, 32, 37, 37, 37, 37, 37, 37, 37, 1, 1, 1, 2, 2, 9, 9, 9, 9, 9, 11, 11, 17, 17, 17, 17, 17, 17, 17, 18, 18, 18, 18, 25, 25, 26, 26, 26, 13, 13, 26, 26, 33, 33, 33, 34, 34, 1, 1, 1, 1, 1, 3, 3, 3, 3, 3, 11, 11, 11, 10, 10, 12, 12, 13, 13, 13, 30, 30, 21, 21, 22, 22, 23, 23, 20, 20, 31, 31, 31, 31, 32, 32, 32, 33, 33, 33, 33, 20, 20, 1, 1, 2, 2, 5, 5, 31, 31, 1, 1, 13, 13, 12, 12, 15, 15, 16, 16, 16, 16, 16, 7, 7, 25, 25, 26, 26, 28, 28, 28, 28, 37, 37, 37, 37, 37, 36, 36, 38, 38, 1, 1, 2, 2, 5, 5, 5, 20, 20, -1, -1, 21, 21, 15, 15, 16, 16, 16, 18, 18, 19, 19, 19, 9, 9, 9, 9, 29, 29, 30, 30, 32, 32, 34, 34, 28, 28, 17, 17, 17, 17]\n",
      "[(20, 21), (60, 19), (100, 18), (140, 21), (180, 16), (220, 19)]\n",
      "Solution: 13360\n"
     ]
    }
   ],
   "source": [
    "values = get_values(MINI_DATA)\n",
    "values_to_add = [20 + (40 * i) for i in range(6)]\n",
    "print(values)\n",
    "print([(i, values[i - 1]) for i in values_to_add])\n",
    "solution = sum(i * values[i - 1] for i in values_to_add)\n",
    "print(f\"Solution: {solution}\")\n"
   ]
  },
  {
   "cell_type": "code",
   "execution_count": 40,
   "metadata": {},
   "outputs": [
    {
     "name": "stdout",
     "output_type": "stream",
     "text": [
      "[(20, 17), (60, 21), (100, 21), (140, 21), (180, 21), (220, 22)]\n",
      "Solution: 15260\n"
     ]
    }
   ],
   "source": [
    "values = get_values(data)\n",
    "values_to_add = [20 + (40 * i) for i in range(6)]\n",
    "print([(i, values[i - 1]) for i in values_to_add])\n",
    "solution = sum(i * values[i - 1] for i in values_to_add)\n",
    "print(f\"Solution: {solution}\")"
   ]
  },
  {
   "cell_type": "code",
   "execution_count": 41,
   "metadata": {},
   "outputs": [
    {
     "name": "stdout",
     "output_type": "stream",
     "text": [
      "#..##..#..##...##.##..##..##..##..##..##\n",
      "##..####..###...###...####..####..###..#\n",
      "#.....#####...###.....####.....##.....##\n",
      "###.....##.#......#####.....####.......#\n",
      "##.##.....##.###......######......##.#.#\n",
      "##.##.......####.#........########......\n",
      "\n"
     ]
    }
   ],
   "source": [
    "values = get_values(MINI_DATA)\n",
    "# print([(i, x) for i, x in enumerate(values)])\n",
    "screen = \"\"\n",
    "for i, x in enumerate(values, start=1):\n",
    "    screen += \"#\" if (i + 1) % 40 in range(x-1, x+2) else \".\"\n",
    "    if i % 40 == 0:\n",
    "        screen += \"\\n\"\n",
    "    # print((i, x))\n",
    "print(screen)"
   ]
  },
  {
   "cell_type": "code",
   "execution_count": 50,
   "metadata": {},
   "outputs": [
    {
     "name": "stdout",
     "output_type": "stream",
     "text": [
      "###...##..#..#.####..##..#....#..#..##..\n",
      "#..#.#..#.#..#.#....#..#.#....#..#.#..#.\n",
      "#..#.#....####.###..#....#....#..#.#....\n",
      "###..#.##.#..#.#....#.##.#....#..#.#.##.\n",
      "#....#..#.#..#.#....#..#.#....#..#.#..#.\n",
      "#.....###.#..#.#.....###.####..##...###.\n",
      ".\n"
     ]
    }
   ],
   "source": [
    "values = get_values(data)\n",
    "# print([(i, x) for i, x in enumerate(values)])\n",
    "screen = \"#\"\n",
    "# screen = \"\"\n",
    "for i, x in enumerate(values, start=1):\n",
    "    screen += \"#\" if i % 40 in range(x-1, x+2) else \".\"\n",
    "    if (i+1) % 40 == 0:\n",
    "    # if i % 40 == 0:\n",
    "        screen += \"\\n\"\n",
    "    # print((i, x))\n",
    "print(screen)"
   ]
  },
  {
   "cell_type": "markdown",
   "metadata": {},
   "source": [
    "# Day 11"
   ]
  },
  {
   "cell_type": "code",
   "execution_count": 4,
   "metadata": {},
   "outputs": [
    {
     "data": {
      "text/html": [
       "✔️Input already exists in <a href=\"inputs/11.txt\">inputs/11.txt</a>"
      ],
      "text/plain": [
       "<IPython.core.display.HTML object>"
      ]
     },
     "execution_count": 4,
     "metadata": {},
     "output_type": "execute_result"
    },
    {
     "data": {
      "text/html": [
       "✅Variables <code>input_path</code> and <code>data</code> set"
      ],
      "text/plain": [
       "<IPython.core.display.HTML object>"
      ]
     },
     "execution_count": 4,
     "metadata": {},
     "output_type": "execute_result"
    }
   ],
   "source": [
    "%get_daily_input 11 2022"
   ]
  },
  {
   "cell_type": "code",
   "execution_count": 5,
   "metadata": {},
   "outputs": [],
   "source": [
    "MINI_DATA = \"\"\"\\\n",
    "Monkey 0:\n",
    "  Starting items: 79, 98\n",
    "  Operation: new = old * 19\n",
    "  Test: divisible by 23\n",
    "    If true: throw to monkey 2\n",
    "    If false: throw to monkey 3\n",
    "\n",
    "Monkey 1:\n",
    "  Starting items: 54, 65, 75, 74\n",
    "  Operation: new = old + 6\n",
    "  Test: divisible by 19\n",
    "    If true: throw to monkey 2\n",
    "    If false: throw to monkey 0\n",
    "\n",
    "Monkey 2:\n",
    "  Starting items: 79, 60, 97\n",
    "  Operation: new = old * old\n",
    "  Test: divisible by 13\n",
    "    If true: throw to monkey 1\n",
    "    If false: throw to monkey 3\n",
    "\n",
    "Monkey 3:\n",
    "  Starting items: 74\n",
    "  Operation: new = old + 3\n",
    "  Test: divisible by 17\n",
    "    If true: throw to monkey 0\n",
    "    If false: throw to monkey 1\n",
    "\"\"\""
   ]
  },
  {
   "cell_type": "code",
   "execution_count": 15,
   "metadata": {},
   "outputs": [],
   "source": [
    "from dataclasses import dataclass, field\n",
    "from operator import mul, add, sub, truediv\n",
    "from typing import Callable, List, Tuple\n",
    "\n",
    "from parse import parse\n",
    "\n",
    "PARSE_MONKEY = \"\"\"\\\n",
    "Monkey {monkey_id:d}:\n",
    "  Starting items: {starting_items:ListInt}\n",
    "  Operation: new = {operation:Function}\n",
    "  Test: divisible by {divisible_by:d}\n",
    "    If true: throw to monkey {throw_to_true:d}\n",
    "    If false: throw to monkey {throw_to_false:d}\n",
    "\"\"\"\n",
    "\n",
    "\n",
    "def parse_operation(operation_str: str) -> Callable[[int], int]:\n",
    "    parse_op = parse(\"old {op} {right}\", operation_str)\n",
    "    mapping_op = {\"*\": mul, \"+\": add, \"-\": sub, \"/\": truediv}\n",
    "    op = mapping_op.get(parse_op[\"op\"], None)\n",
    "    if parse_op[\"right\"] == \"old\":\n",
    "        return lambda x: op(x, x)\n",
    "    else:\n",
    "        right_value = int(parse_op[\"right\"])\n",
    "        return lambda x: op(x, right_value)\n",
    "\n",
    "\n",
    "def parse_list_int(list_str: str) -> List[int]:\n",
    "    return [int(x) for x in list_str.split(\", \")]\n",
    "\n",
    "\n",
    "@dataclass\n",
    "class Monkey:\n",
    "    monkey_id: int\n",
    "    starting_items: List[int]\n",
    "    operation: Callable[[int], int]\n",
    "    divisible_by: int\n",
    "    throw_to_true: int\n",
    "    throw_to_false: int\n",
    "    inspection: int = field(init=False, default=0)\n",
    "\n",
    "    def round(self, monkeys: List[\"Monkey\"]) -> None:\n",
    "        for item in self.starting_items[:]:\n",
    "            self.inspection += 1\n",
    "            new_item_value = self.operation(item) // 3\n",
    "            new_monkey_id = (\n",
    "                self.throw_to_true\n",
    "                if new_item_value % self.divisible_by == 0\n",
    "                else self.throw_to_false\n",
    "            )\n",
    "            monkeys[new_monkey_id].starting_items.append(new_item_value)\n",
    "            self.starting_items.remove(item)\n",
    "\n",
    "    @classmethod\n",
    "    def from_str(cls, monkey_str: str) -> \"Monkey\":\n",
    "        \"\"\"Create Monkey from string\"\"\"\n",
    "        result = parse(\n",
    "            PARSE_MONKEY.strip(),\n",
    "            monkey_str,\n",
    "            {\"Function\": parse_operation, \"ListInt\": parse_list_int},\n",
    "        )\n",
    "        return cls(**result.named)\n"
   ]
  },
  {
   "cell_type": "code",
   "execution_count": 16,
   "metadata": {},
   "outputs": [
    {
     "name": "stdout",
     "output_type": "stream",
     "text": [
      "[(0, [79, 98], 0), (1, [54, 65, 75, 74], 0), (2, [79, 60, 97], 0), (3, [74], 0)]\n"
     ]
    },
    {
     "data": {
      "text/plain": [
       "10605"
      ]
     },
     "execution_count": 16,
     "metadata": {},
     "output_type": "execute_result"
    }
   ],
   "source": [
    "from functools import reduce\n",
    "\n",
    "\n",
    "def get_monkey_business(data: str) -> int:\n",
    "    monkeys = [\n",
    "        Monkey.from_str(monkey_str.strip())\n",
    "        for monkey_str in data.split(\"\\n\\n\")\n",
    "        if monkey_str\n",
    "    ]\n",
    "    monkeys\n",
    "    print([(m.monkey_id, m.starting_items, m.inspection) for m in monkeys])\n",
    "\n",
    "    for _ in range(20):\n",
    "        for monkey in monkeys:\n",
    "            monkey.round(monkeys)\n",
    "\n",
    "    # Product of top 2 inspection numbers\n",
    "    return reduce(mul, sorted([m.inspection for m in monkeys], reverse=True)[:2])\n",
    "\n",
    "\n",
    "get_monkey_business(MINI_DATA)"
   ]
  },
  {
   "cell_type": "code",
   "execution_count": 10,
   "metadata": {},
   "outputs": [
    {
     "name": "stdout",
     "output_type": "stream",
     "text": [
      "[(0, [73, 77], 0), (1, [57, 88, 80], 0), (2, [61, 81, 84, 69, 77, 88], 0), (3, [78, 89, 71, 60, 81, 84, 87, 75], 0), (4, [60, 76, 90, 63, 86, 87, 89], 0), (5, [88], 0), (6, [84, 98, 78, 85], 0), (7, [98, 89, 78, 73, 71], 0)]\n",
      "Solution: 56120\n"
     ]
    },
    {
     "name": "stderr",
     "output_type": "stream",
     "text": [
      "answer a: 56120\n",
      "submitting for part b (part a is already completed)\n"
     ]
    },
    {
     "ename": "AocdError",
     "evalue": "cowardly refusing to re-submit answer_a (56120) for part b",
     "output_type": "error",
     "traceback": [
      "\u001b[1;31m---------------------------------------------------------------------------\u001b[0m",
      "\u001b[1;31mAocdError\u001b[0m                                 Traceback (most recent call last)",
      "\u001b[1;32md:\\AnsysDev\\_PLAYGROUND_\\Advent-Code\\2022\\Solve_Puzzles.ipynb Cell 92\u001b[0m in \u001b[0;36m<module>\u001b[1;34m\u001b[0m\n\u001b[0;32m      <a href='vscode-notebook-cell:/d%3A/AnsysDev/_PLAYGROUND_/Advent-Code/2022/Solve_Puzzles.ipynb#Y160sZmlsZQ%3D%3D?line=0'>1</a>\u001b[0m solution \u001b[39m=\u001b[39m get_monkey_business(data)\n\u001b[0;32m      <a href='vscode-notebook-cell:/d%3A/AnsysDev/_PLAYGROUND_/Advent-Code/2022/Solve_Puzzles.ipynb#Y160sZmlsZQ%3D%3D?line=1'>2</a>\u001b[0m \u001b[39mprint\u001b[39m(\u001b[39mf\u001b[39m\u001b[39m\"\u001b[39m\u001b[39mSolution: \u001b[39m\u001b[39m{\u001b[39;00msolution\u001b[39m}\u001b[39;00m\u001b[39m\"\u001b[39m)\n\u001b[1;32m----> <a href='vscode-notebook-cell:/d%3A/AnsysDev/_PLAYGROUND_/Advent-Code/2022/Solve_Puzzles.ipynb#Y160sZmlsZQ%3D%3D?line=2'>3</a>\u001b[0m submit(solution)\n",
      "File \u001b[1;32mc:\\AnsysDev\\Python39\\lib\\site-packages\\aocd\\post.py:41\u001b[0m, in \u001b[0;36msubmit\u001b[1;34m(answer, part, day, year, session, reopen, quiet)\u001b[0m\n\u001b[0;32m     39\u001b[0m         log\u001b[39m.\u001b[39mwarning(\u001b[39m\"\u001b[39m\u001b[39msubmitting for part b (part a is already completed)\u001b[39m\u001b[39m\"\u001b[39m)\n\u001b[0;32m     40\u001b[0m         part \u001b[39m=\u001b[39m \u001b[39m\"\u001b[39m\u001b[39mb\u001b[39m\u001b[39m\"\u001b[39m\n\u001b[1;32m---> 41\u001b[0m response \u001b[39m=\u001b[39m puzzle\u001b[39m.\u001b[39;49m_submit(value\u001b[39m=\u001b[39;49manswer, part\u001b[39m=\u001b[39;49mpart, reopen\u001b[39m=\u001b[39;49mreopen, quiet\u001b[39m=\u001b[39;49mquiet)\n\u001b[0;32m     42\u001b[0m \u001b[39mreturn\u001b[39;00m response\n",
      "File \u001b[1;32mc:\\AnsysDev\\Python39\\lib\\site-packages\\aocd\\models.py:340\u001b[0m, in \u001b[0;36mPuzzle._submit\u001b[1;34m(self, value, part, reopen, quiet)\u001b[0m\n\u001b[0;32m    338\u001b[0m     \u001b[39mreturn\u001b[39;00m\n\u001b[0;32m    339\u001b[0m \u001b[39mif\u001b[39;00m part \u001b[39m==\u001b[39m \u001b[39m\"\u001b[39m\u001b[39mb\u001b[39m\u001b[39m\"\u001b[39m \u001b[39mand\u001b[39;00m value \u001b[39m==\u001b[39m \u001b[39mgetattr\u001b[39m(\u001b[39mself\u001b[39m, \u001b[39m\"\u001b[39m\u001b[39manswer_a\u001b[39m\u001b[39m\"\u001b[39m, \u001b[39mNone\u001b[39;00m):\n\u001b[1;32m--> 340\u001b[0m     \u001b[39mraise\u001b[39;00m AocdError(\u001b[39m\"\u001b[39m\u001b[39mcowardly refusing to re-submit answer_a (\u001b[39m\u001b[39m{}\u001b[39;00m\u001b[39m) for part b\u001b[39m\u001b[39m\"\u001b[39m\u001b[39m.\u001b[39mformat(value))\n\u001b[0;32m    341\u001b[0m url \u001b[39m=\u001b[39m \u001b[39mself\u001b[39m\u001b[39m.\u001b[39msubmit_url\n\u001b[0;32m    342\u001b[0m check_guess \u001b[39m=\u001b[39m \u001b[39mself\u001b[39m\u001b[39m.\u001b[39m_check_guess_against_existing(value, part)\n",
      "\u001b[1;31mAocdError\u001b[0m: cowardly refusing to re-submit answer_a (56120) for part b"
     ]
    }
   ],
   "source": [
    "solution = get_monkey_business(data)\n",
    "print(f\"Solution: {solution}\")\n",
    "submit(solution)"
   ]
  },
  {
   "cell_type": "code",
   "execution_count": 31,
   "metadata": {},
   "outputs": [
    {
     "name": "stdout",
     "output_type": "stream",
     "text": [
      "[(0, [79, 98], 0), (1, [54, 65, 75, 74], 0), (2, [79, 60, 97], 0), (3, [74], 0)]\n",
      "Least common multiple: 96577\n"
     ]
    },
    {
     "data": {
      "text/plain": [
       "2713310158"
      ]
     },
     "execution_count": 31,
     "metadata": {},
     "output_type": "execute_result"
    }
   ],
   "source": [
    "from math import lcm\n",
    "from typing import ClassVar\n",
    "\n",
    "@dataclass\n",
    "class Monkey2(Monkey):\n",
    "    LCM: ClassVar[int] = 0\n",
    "\n",
    "    def round(self, monkeys: List[\"Monkey\"]) -> None:\n",
    "        for item in self.starting_items[:]:\n",
    "            self.inspection += 1\n",
    "            # We manage worry to a computable number to divive by least common multiple of all monkeys\n",
    "        # We can then use modulo to get the same result\n",
    "\n",
    "            new_item_value = self.operation(item) % self.LCM\n",
    "            new_monkey_id = (\n",
    "                self.throw_to_true\n",
    "                if new_item_value % self.divisible_by == 0\n",
    "                else self.throw_to_false\n",
    "            )\n",
    "            # if new_item_value > 1000:\n",
    "            #     new_item_value //= 3\n",
    "            monkeys[new_monkey_id].starting_items.append(new_item_value)\n",
    "            self.starting_items.remove(item)\n",
    "\n",
    "\n",
    "def get_monkey_business_2(data: str, nb_rounds: int, rounds_to_print: List[int]) -> int:\n",
    "    monkeys = [\n",
    "        Monkey2.from_str(monkey_str.strip())\n",
    "        for monkey_str in data.split(\"\\n\\n\")\n",
    "        if monkey_str\n",
    "    ]\n",
    "    monkeys\n",
    "\n",
    "    print([(m.monkey_id, m.starting_items, m.inspection) for m in monkeys])\n",
    "\n",
    "    Monkey2.LCM = lcm(*[m.divisible_by for m in monkeys])\n",
    "    print(f\"Least common multiple: {Monkey2.LCM}\")\n",
    "\n",
    "    rounds_done = 0\n",
    "    for i in range(nb_rounds):\n",
    "        for monkey in monkeys:\n",
    "            monkey.round(monkeys)\n",
    "    if i + 1 in rounds_to_print:\n",
    "        print(i, {m.monkey_id: ((m.starting_items + [\"-\"])[0], m.inspection) for m in monkeys})\n",
    "\n",
    "    # Product of top 2 inspection numbers\n",
    "    return reduce(mul, sorted([m.inspection for m in monkeys], reverse=True)[:2])\n",
    "\n",
    "\n",
    "get_monkey_business_2(MINI_DATA, 10_000, [1, 20, 100, 1000])"
   ]
  },
  {
   "cell_type": "code",
   "execution_count": 33,
   "metadata": {},
   "outputs": [
    {
     "name": "stdout",
     "output_type": "stream",
     "text": [
      "[(0, [73, 77], 0), (1, [57, 88, 80], 0), (2, [61, 81, 84, 69, 77, 88], 0), (3, [78, 89, 71, 60, 81, 84, 87, 75], 0), (4, [60, 76, 90, 63, 86, 87, 89], 0), (5, [88], 0), (6, [84, 98, 78, 85], 0), (7, [98, 89, 78, 73, 71], 0)]\n",
      "Least common multiple: 9699690\n",
      "Solution: 24389045529\n"
     ]
    },
    {
     "name": "stderr",
     "output_type": "stream",
     "text": [
      "answer a: 56120\n",
      "submitting for part b (part a is already completed)\n"
     ]
    },
    {
     "name": "stdout",
     "output_type": "stream",
     "text": [
      "That's the right answer!  You are one gold star closer to collecting enough star fruit.You have completed Day 11! You can [Shareon\n",
      "  Twitter\n",
      "Mastodon] this victory or [Return to Your Advent Calendar].\n"
     ]
    },
    {
     "data": {
      "text/plain": [
       "<Response [200]>"
      ]
     },
     "execution_count": 33,
     "metadata": {},
     "output_type": "execute_result"
    }
   ],
   "source": [
    "solution = get_monkey_business_2(data, 10_000, [])\n",
    "print(f\"Solution: {solution}\")\n",
    "submit(solution)"
   ]
  }
 ],
 "metadata": {
  "kernelspec": {
   "display_name": "Python 3.9.10 64-bit",
   "language": "python",
   "name": "python3"
  },
  "language_info": {
   "codemirror_mode": {
    "name": "ipython",
    "version": 3
   },
   "file_extension": ".py",
   "mimetype": "text/x-python",
   "name": "python",
   "nbconvert_exporter": "python",
   "pygments_lexer": "ipython3",
   "version": "3.9.10"
  },
  "orig_nbformat": 4,
  "vscode": {
   "interpreter": {
    "hash": "cc50109f6b80f0817f7b35d70f1321bb82b640343c195979c98642224585c472"
   }
  }
 },
 "nbformat": 4,
 "nbformat_minor": 2
}
