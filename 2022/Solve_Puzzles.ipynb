{
 "cells": [
  {
   "cell_type": "code",
   "execution_count": 14,
   "metadata": {},
   "outputs": [],
   "source": [
    "from pathlib import Path\n",
    "from typing import List\n",
    "\n",
    "import pandas as pd\n",
    "import numpy as np\n",
    "\n",
    "YEAR = 2022"
   ]
  },
  {
   "cell_type": "code",
   "execution_count": 5,
   "metadata": {},
   "outputs": [
    {
     "name": "stderr",
     "output_type": "stream",
     "text": [
      "WARNING: You are using pip version 21.2.4; however, version 22.3.1 is available.\n",
      "You should consider upgrading via the 'C:\\AnsysDev\\Python39\\python.exe -m pip install --upgrade pip' command.\n"
     ]
    }
   ],
   "source": [
    "!pip install -q advent-of-code-data\n",
    "\n",
    "!mkdir inputs\n",
    "!aocd 1 $YEAR > inputs/01_calories.txt"
   ]
  },
  {
   "cell_type": "markdown",
   "metadata": {},
   "source": [
    "# 1st December"
   ]
  },
  {
   "cell_type": "code",
   "execution_count": 15,
   "metadata": {},
   "outputs": [
    {
     "data": {
      "text/plain": [
       "0      55684\n",
       "1      43399\n",
       "2      48846\n",
       "3      48058\n",
       "4      52061\n",
       "       ...  \n",
       "245    22318\n",
       "246    48674\n",
       "247    43489\n",
       "248    47659\n",
       "249    50009\n",
       "Name: calories, Length: 250, dtype: int64"
      ]
     },
     "execution_count": 15,
     "metadata": {},
     "output_type": "execute_result"
    }
   ],
   "source": [
    "def get_calories(path: Path) -> List[int]:\n",
    "    \"\"\"Retrieve calories carried by each elf\"\"\"\n",
    "    content = Path(path).read_text(encoding=\"utf-8\")\n",
    "    return [\n",
    "        sum(int(line) for line in block.strip().split(\"\\n\"))\n",
    "        for block in content.split(\"\\n\\n\")\n",
    "    ]\n",
    "\n",
    "\n",
    "calories = pd.Series(get_calories(\"inputs/01_calories.txt\"), name=\"calories\")\n",
    "calories\n"
   ]
  },
  {
   "cell_type": "code",
   "execution_count": 11,
   "metadata": {},
   "outputs": [
    {
     "data": {
      "text/plain": [
       "69693"
      ]
     },
     "execution_count": 11,
     "metadata": {},
     "output_type": "execute_result"
    }
   ],
   "source": [
    "# Get the top calories\n",
    "calories.max()"
   ]
  },
  {
   "cell_type": "code",
   "execution_count": 12,
   "metadata": {},
   "outputs": [
    {
     "data": {
      "text/plain": [
       "200945"
      ]
     },
     "execution_count": 12,
     "metadata": {},
     "output_type": "execute_result"
    }
   ],
   "source": [
    "# Get the sum of calories from top 3\n",
    "calories.sort_values(ascending=False).head(3).sum()"
   ]
  },
  {
   "cell_type": "markdown",
   "metadata": {},
   "source": [
    "## Retrieving Data automatically"
   ]
  },
  {
   "cell_type": "code",
   "execution_count": 17,
   "metadata": {},
   "outputs": [
    {
     "data": {
      "text/plain": [
       "'10130\\n9819\\n4257\\n8400\\n10994\\n3758\\n8326\\n\\n9002\\n15602\\n1193\\n6805\\n10797\\n\\n9435\\n6559\\n11512\\n12051\\n2687\\n2850\\n37'"
      ]
     },
     "execution_count": 17,
     "metadata": {},
     "output_type": "execute_result"
    }
   ],
   "source": [
    "from aocd import get_data\n",
    "YEAR = 2022\n",
    "\n",
    "data = get_data(day=1, year=YEAR)\n",
    "data[:100]"
   ]
  },
  {
   "cell_type": "code",
   "execution_count": 18,
   "metadata": {},
   "outputs": [
    {
     "data": {
      "text/plain": [
       "0      55684\n",
       "1      43399\n",
       "2      48846\n",
       "3      48058\n",
       "4      52061\n",
       "       ...  \n",
       "245    22318\n",
       "246    48674\n",
       "247    43489\n",
       "248    47659\n",
       "249    50009\n",
       "Name: calories, Length: 250, dtype: int64"
      ]
     },
     "execution_count": 18,
     "metadata": {},
     "output_type": "execute_result"
    }
   ],
   "source": [
    "def get_calories_auto() -> List[int]:\n",
    "    \"\"\"Retrieve calories carried by each elf\"\"\"\n",
    "    data = get_data(day=1, year=YEAR)\n",
    "    return [\n",
    "        sum(int(line) for line in block.strip().split(\"\\n\"))\n",
    "        for block in data.split(\"\\n\\n\")\n",
    "    ]\n",
    "\n",
    "\n",
    "calories = pd.Series(get_calories_auto(), name=\"calories\")\n",
    "calories\n"
   ]
  }
 ],
 "metadata": {
  "kernelspec": {
   "display_name": "Python 3.9.10 64-bit",
   "language": "python",
   "name": "python3"
  },
  "language_info": {
   "codemirror_mode": {
    "name": "ipython",
    "version": 3
   },
   "file_extension": ".py",
   "mimetype": "text/x-python",
   "name": "python",
   "nbconvert_exporter": "python",
   "pygments_lexer": "ipython3",
   "version": "3.9.10"
  },
  "orig_nbformat": 4,
  "vscode": {
   "interpreter": {
    "hash": "cc50109f6b80f0817f7b35d70f1321bb82b640343c195979c98642224585c472"
   }
  }
 },
 "nbformat": 4,
 "nbformat_minor": 2
}
